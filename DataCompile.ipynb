{
 "cells": [
  {
   "cell_type": "code",
   "execution_count": 77,
   "metadata": {},
   "outputs": [],
   "source": [
    "#May 28 - for ease for getting data out\n",
    "import numpy as np\n",
    "import matplotlib.pyplot as pl\n",
    "import os"
   ]
  },
  {
   "cell_type": "code",
   "execution_count": 258,
   "metadata": {},
   "outputs": [],
   "source": [
    "def getData(text):\n",
    "    #get center z\n",
    "    data = np.loadtxt(text, skiprows=0, max_rows=2, dtype=('<U16', '<U16'), comments=\"@\")\n",
    "    data = np.transpose(data)\n",
    "    z = (float(data[1][1]) - float(data[1][0]))/2 + float(data[1][0])\n",
    "    zstr = str(round(z, 5))\n",
    "#     print(z)\n",
    "\n",
    "    #check if errors are linear\n",
    "    data = np.loadtxt(text, skiprows=2, max_rows=1, dtype=('<U16', '<U16'), comments=\"@\")\n",
    "    data = np.transpose(data)\n",
    "#     print(data)\n",
    "\n",
    "    linear = False\n",
    "    if data[1] == 'linear':\n",
    "        linear = True\n",
    "\n",
    "    data = np.loadtxt(text, skiprows=0)\n",
    "\n",
    "    data = np.transpose(data)\n",
    "\n",
    "    masses = data[0]\n",
    "    phi = data[1]\n",
    "    err_up = data[2]\n",
    "    err_down = data[3]\n",
    "\n",
    "    errs = []\n",
    "\n",
    "    if linear:\n",
    "#         print(\"converting\")\n",
    "\n",
    "        for i in range(len(err_up)):\n",
    "            errs.append((np.log10(err_up[i]), np.log10(err_down[i])))\n",
    "            phi[i] = np.log10(data[1][i]) #need to convert phi values too\n",
    "\n",
    "    else:    \n",
    "        for i in range(len(err_up)):\n",
    "            errs.append((err_up[i], err_down[i]))\n",
    "\n",
    "    # print(errs)\n",
    "    #check if the masses are evenly spaced\n",
    "    even = True\n",
    "    if len(masses) > 2:\n",
    "        i = 1\n",
    "        massDif = (masses[1] - masses[0])\n",
    "        while i < (len(masses)-1) and even:\n",
    "            if massDif != round((masses[i+1] - masses[i]), 14):\n",
    "                even = False       \n",
    "    else:\n",
    "        even = False\n",
    "        \n",
    "    if not even:\n",
    "        masses = np.array([10**m for m in masses])\n",
    "        massesStr = print(masses)\n",
    "        \n",
    "        formatThese = [massesStr, str(phi.tolist()), str(errs)]\n",
    "    else:\n",
    "        formatThese = [str(masses.tolist()), str(phi.tolist()), str(errs)]\n",
    "    print(formatThese)\n",
    "        \n",
    "    #space data nicely\n",
    "    Strings = [\"\", \"\", \"\"]\n",
    "    for i, value in enumerate(formatThese):\n",
    "        \n",
    "        while len(value) > 119 :\n",
    "            split = 120\n",
    "            ending = False\n",
    "            \n",
    "            if value[split] == ',':\n",
    "#                 print(\"comma!\")\n",
    "                noComma = False\n",
    "            else:\n",
    "                noComma = True\n",
    "            \n",
    "            while noComma & (not ending):\n",
    "#                 print(split)\n",
    "                split +=1\n",
    "#                 print(split, value[split])\n",
    "                if value[split] == ',':\n",
    "#                     print(\"comma!\")\n",
    "                    noComma = False\n",
    "                if len(value[split:].split(',')) == 1:\n",
    "                    ending = True\n",
    "\n",
    "            if not ending:\n",
    "                split +=1 #go to the next space\n",
    "\n",
    "                Strings[i] = Strings[i] + value[:split] + \"\\n          \"\n",
    "                value = value[split:]\n",
    "            else:\n",
    "#                 print(\"ending:\")\n",
    "#                 print(value)\n",
    "                Strings[i] = Strings[i] + value\n",
    "                value = \"\"\n",
    "        else:\n",
    "#             print(\"short\")\n",
    "            Strings[i] = Strings[i] + value\n",
    "\n",
    "\n",
    "#         print(Strings[i])\n",
    "#         print()\n",
    "    \n",
    "    #writting the data to a string\n",
    "    if even:\n",
    "        incr = masses[1] - masses[0]\n",
    "        minM = masses[0]\n",
    "        maxM = masses[-1] + incr\n",
    "        \n",
    "        pyFile = \" {}: {{'M': list(10**np.arange({}, {:.3f}, {:.3f})),\\n    'phi': {},\\n    'err': {}\\n   }},\".format(zstr, \\\n",
    "                                                    minM, maxM-incr, incr, Strings[1], Strings[2])\n",
    "#         print(len(np.arange(minM, maxM-incr, incr)))\n",
    "\n",
    "    else:\n",
    "        pyFile = \" {}: {{'M': {},\\n    'phi': {},\\n    'err': {}\\n   }},\".format(zstr,\\\n",
    "                                                    Strings[0], Strings[1], Strings[2])\n",
    "#         print(len(masses))\n",
    "\n",
    "    \n",
    "\n",
    "#     print(len(phi), len(errs))\n",
    "    \n",
    "    return pyFile, z"
   ]
  },
  {
   "cell_type": "code",
   "execution_count": 259,
   "metadata": {},
   "outputs": [
    {
     "name": "stdout",
     "output_type": "stream",
     "text": [
      "[]\n",
      "\n",
      "bouwens\n",
      "\n",
      "[3.08655320e+09 1.50201326e+09 7.30926599e+08 3.55691729e+08\n",
      " 1.73090713e+08 8.42313510e+07 4.09896081e+07]\n",
      "[None, '[-3.62838893005031, -3.75332766665861, -3.18905623622005, -2.77560406136976, -2.54695160369846, -2.41090498583641, -2.13527956994652]', '[(0.2, 0.2), (0.221848749616356, 0.221848749616356), (0.2, 0.2), (0.2, 0.2), (0.2, 0.2), (0.2, 0.2), (0.2, 0.2)]']\n"
     ]
    },
    {
     "ename": "TypeError",
     "evalue": "object of type 'NoneType' has no len()",
     "output_type": "error",
     "traceback": [
      "\u001b[1;31m---------------------------------------------------------------------------\u001b[0m",
      "\u001b[1;31mTypeError\u001b[0m                                 Traceback (most recent call last)",
      "\u001b[1;32m<ipython-input-259-c61e5f8d4044>\u001b[0m in \u001b[0;36m<module>\u001b[1;34m\u001b[0m\n\u001b[0;32m     13\u001b[0m \u001b[1;33m\u001b[0m\u001b[0m\n\u001b[0;32m     14\u001b[0m         \u001b[0mnames\u001b[0m\u001b[1;33m.\u001b[0m\u001b[0mappend\u001b[0m\u001b[1;33m(\u001b[0m\u001b[0mauthor\u001b[0m\u001b[1;33m)\u001b[0m\u001b[1;33m\u001b[0m\u001b[1;33m\u001b[0m\u001b[0m\n\u001b[1;32m---> 15\u001b[1;33m         \u001b[0mdata\u001b[0m\u001b[1;33m,\u001b[0m \u001b[0mz\u001b[0m \u001b[1;33m=\u001b[0m \u001b[0mgetData\u001b[0m\u001b[1;33m(\u001b[0m\u001b[0mname\u001b[0m\u001b[1;33m)\u001b[0m\u001b[1;33m\u001b[0m\u001b[1;33m\u001b[0m\u001b[0m\n\u001b[0m\u001b[0;32m     16\u001b[0m         \u001b[0mprint\u001b[0m\u001b[1;33m(\u001b[0m\u001b[0mdata\u001b[0m\u001b[1;33m)\u001b[0m\u001b[1;33m\u001b[0m\u001b[1;33m\u001b[0m\u001b[0m\n\u001b[0;32m     17\u001b[0m         \u001b[0mzArr\u001b[0m\u001b[1;33m.\u001b[0m\u001b[0mappend\u001b[0m\u001b[1;33m(\u001b[0m\u001b[0mround\u001b[0m\u001b[1;33m(\u001b[0m\u001b[0mz\u001b[0m\u001b[1;33m,\u001b[0m \u001b[1;36m5\u001b[0m\u001b[1;33m)\u001b[0m\u001b[1;33m)\u001b[0m\u001b[1;33m\u001b[0m\u001b[1;33m\u001b[0m\u001b[0m\n",
      "\u001b[1;32m<ipython-input-258-6da127e18e3b>\u001b[0m in \u001b[0;36mgetData\u001b[1;34m(text)\u001b[0m\n\u001b[0;32m     63\u001b[0m     \u001b[1;32mfor\u001b[0m \u001b[0mi\u001b[0m\u001b[1;33m,\u001b[0m \u001b[0mvalue\u001b[0m \u001b[1;32min\u001b[0m \u001b[0menumerate\u001b[0m\u001b[1;33m(\u001b[0m\u001b[0mformatThese\u001b[0m\u001b[1;33m)\u001b[0m\u001b[1;33m:\u001b[0m\u001b[1;33m\u001b[0m\u001b[1;33m\u001b[0m\u001b[0m\n\u001b[0;32m     64\u001b[0m \u001b[1;33m\u001b[0m\u001b[0m\n\u001b[1;32m---> 65\u001b[1;33m         \u001b[1;32mwhile\u001b[0m \u001b[0mlen\u001b[0m\u001b[1;33m(\u001b[0m\u001b[0mvalue\u001b[0m\u001b[1;33m)\u001b[0m \u001b[1;33m>\u001b[0m \u001b[1;36m119\u001b[0m \u001b[1;33m:\u001b[0m\u001b[1;33m\u001b[0m\u001b[1;33m\u001b[0m\u001b[0m\n\u001b[0m\u001b[0;32m     66\u001b[0m             \u001b[0msplit\u001b[0m \u001b[1;33m=\u001b[0m \u001b[1;36m120\u001b[0m\u001b[1;33m\u001b[0m\u001b[1;33m\u001b[0m\u001b[0m\n\u001b[0;32m     67\u001b[0m             \u001b[0mending\u001b[0m \u001b[1;33m=\u001b[0m \u001b[1;32mFalse\u001b[0m\u001b[1;33m\u001b[0m\u001b[1;33m\u001b[0m\u001b[0m\n",
      "\u001b[1;31mTypeError\u001b[0m: object of type 'NoneType' has no len()"
     ]
    }
   ],
   "source": [
    "directory = \"../behroozi-2013-data-compilation/smf_ms\"\n",
    "names = [\"a\"]\n",
    "zArr = []\n",
    "for filename in os.listdir(directory):\n",
    "    if filename.endswith(\".smf\"): \n",
    "        \n",
    "        name = os.path.join(directory, filename)\n",
    "        author = filename.split('_')[0]\n",
    "        if author != names[-1]:\n",
    "            print(zArr)\n",
    "            print(f\"\\n{author}\\n\")\n",
    "            zArr = []\n",
    "            \n",
    "        names.append(author)\n",
    "        data, z = getData(name)\n",
    "        print(data)   \n",
    "        zArr.append(round(z, 5))\n",
    "        \n",
    "    else:\n",
    "        continue"
   ]
  },
  {
   "cell_type": "code",
   "execution_count": 242,
   "metadata": {},
   "outputs": [
    {
     "ename": "IndexError",
     "evalue": "string index out of range",
     "output_type": "error",
     "traceback": [
      "\u001b[1;31m---------------------------------------------------------------------------\u001b[0m",
      "\u001b[1;31mIndexError\u001b[0m                                Traceback (most recent call last)",
      "\u001b[1;32m<ipython-input-242-1223ea999f24>\u001b[0m in \u001b[0;36m<module>\u001b[1;34m\u001b[0m\n\u001b[0;32m      1\u001b[0m \u001b[0mfile\u001b[0m \u001b[1;33m=\u001b[0m \u001b[1;34m\"../behroozi-2013-data-compilation/smf_ms/moustakas_z0.575.smf\"\u001b[0m\u001b[1;33m\u001b[0m\u001b[1;33m\u001b[0m\u001b[0m\n\u001b[0;32m      2\u001b[0m \u001b[1;33m\u001b[0m\u001b[0m\n\u001b[1;32m----> 3\u001b[1;33m \u001b[0mdata\u001b[0m\u001b[1;33m,\u001b[0m \u001b[0mz\u001b[0m \u001b[1;33m=\u001b[0m \u001b[0mgetData\u001b[0m\u001b[1;33m(\u001b[0m\u001b[0mfile\u001b[0m\u001b[1;33m)\u001b[0m\u001b[1;33m\u001b[0m\u001b[1;33m\u001b[0m\u001b[0m\n\u001b[0m\u001b[0;32m      4\u001b[0m \u001b[1;31m# print(data)\u001b[0m\u001b[1;33m\u001b[0m\u001b[1;33m\u001b[0m\u001b[1;33m\u001b[0m\u001b[0m\n\u001b[0;32m      5\u001b[0m \u001b[1;33m\u001b[0m\u001b[0m\n",
      "\u001b[1;32m<ipython-input-240-4260d3cf9062>\u001b[0m in \u001b[0;36mgetData\u001b[1;34m(text)\u001b[0m\n\u001b[0;32m     70\u001b[0m                 \u001b[0msplit\u001b[0m \u001b[1;33m+=\u001b[0m\u001b[1;36m1\u001b[0m\u001b[1;33m\u001b[0m\u001b[1;33m\u001b[0m\u001b[0m\n\u001b[0;32m     71\u001b[0m \u001b[1;31m#                 print(split, value[split])\u001b[0m\u001b[1;33m\u001b[0m\u001b[1;33m\u001b[0m\u001b[1;33m\u001b[0m\u001b[0m\n\u001b[1;32m---> 72\u001b[1;33m                 \u001b[1;32mif\u001b[0m \u001b[0mvalue\u001b[0m\u001b[1;33m[\u001b[0m\u001b[0msplit\u001b[0m\u001b[1;33m]\u001b[0m \u001b[1;33m==\u001b[0m \u001b[1;34m','\u001b[0m\u001b[1;33m:\u001b[0m\u001b[1;33m\u001b[0m\u001b[1;33m\u001b[0m\u001b[0m\n\u001b[0m\u001b[0;32m     73\u001b[0m \u001b[1;31m#                     print(\"comma!\")\u001b[0m\u001b[1;33m\u001b[0m\u001b[1;33m\u001b[0m\u001b[1;33m\u001b[0m\u001b[0m\n\u001b[0;32m     74\u001b[0m                     \u001b[0mnoComma\u001b[0m \u001b[1;33m=\u001b[0m \u001b[1;32mFalse\u001b[0m\u001b[1;33m\u001b[0m\u001b[1;33m\u001b[0m\u001b[0m\n",
      "\u001b[1;31mIndexError\u001b[0m: string index out of range"
     ]
    }
   ],
   "source": [
    "file = \"../behroozi-2013-data-compilation/smf_ms/moustakas_z0.575.smf\"\n",
    "\n",
    "data, z = getData(file)\n",
    "# print(data)\n",
    "        "
   ]
  },
  {
   "cell_type": "code",
   "execution_count": 211,
   "metadata": {},
   "outputs": [
    {
     "name": "stdout",
     "output_type": "stream",
     "text": [
      "['1e', '']\n"
     ]
    }
   ],
   "source": [
    "text = \"1e,\"\n",
    "print(text.split(\",\"))\n",
    "\n"
   ]
  },
  {
   "cell_type": "code",
   "execution_count": 244,
   "metadata": {},
   "outputs": [
    {
     "ename": "TypeError",
     "evalue": "unsupported operand type(s) for ** or pow(): 'int' and 'list'",
     "output_type": "error",
     "traceback": [
      "\u001b[1;31m---------------------------------------------------------------------------\u001b[0m",
      "\u001b[1;31mTypeError\u001b[0m                                 Traceback (most recent call last)",
      "\u001b[1;32m<ipython-input-244-4aef0f746116>\u001b[0m in \u001b[0;36m<module>\u001b[1;34m\u001b[0m\n\u001b[1;32m----> 1\u001b[1;33m \u001b[1;36m10\u001b[0m\u001b[1;33m**\u001b[0m\u001b[1;33m[\u001b[0m\u001b[1;36m1\u001b[0m\u001b[1;33m,\u001b[0m \u001b[1;36m2\u001b[0m\u001b[1;33m,\u001b[0m \u001b[1;36m3\u001b[0m\u001b[1;33m]\u001b[0m\u001b[1;33m\u001b[0m\u001b[1;33m\u001b[0m\u001b[0m\n\u001b[0m",
      "\u001b[1;31mTypeError\u001b[0m: unsupported operand type(s) for ** or pow(): 'int' and 'list'"
     ]
    }
   ],
   "source": [
    "10**[1, 2, 3]"
   ]
  },
  {
   "cell_type": "code",
   "execution_count": null,
   "metadata": {},
   "outputs": [],
   "source": []
  }
 ],
 "metadata": {
  "kernelspec": {
   "display_name": "Python 3",
   "language": "python",
   "name": "python3"
  },
  "language_info": {
   "codemirror_mode": {
    "name": "ipython",
    "version": 3
   },
   "file_extension": ".py",
   "mimetype": "text/x-python",
   "name": "python",
   "nbconvert_exporter": "python",
   "pygments_lexer": "ipython3",
   "version": "3.7.4"
  }
 },
 "nbformat": 4,
 "nbformat_minor": 4
}

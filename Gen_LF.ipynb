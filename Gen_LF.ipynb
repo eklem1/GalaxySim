{
 "cells": [
  {
   "cell_type": "code",
   "execution_count": 1,
   "metadata": {},
   "outputs": [],
   "source": [
    "#July 13\n",
    "\"\"\"\n",
    "Starting to look for a general LF for many wavelengths (Optical and UV).\n",
    "\"\"\"\n",
    "\n",
    "import ares\n",
    "import numpy as np\n",
    "import matplotlib.pyplot as pl"
   ]
  },
  {
   "cell_type": "code",
   "execution_count": 2,
   "metadata": {},
   "outputs": [],
   "source": [
    "data = ares.analysis.GalaxyPopulation() #for lit values\n",
    "pop_halo = ares.populations.HaloPopulation()\n"
   ]
  },
  {
   "cell_type": "markdown",
   "metadata": {},
   "source": [
    "### Star-forming galaxies, \n",
    "good approximation to generate their spectra assuming they’ve been forming stars at a constant rate for quite awhile. "
   ]
  },
  {
   "cell_type": "code",
   "execution_count": 3,
   "metadata": {},
   "outputs": [],
   "source": [
    "base_pars = ares.util.ParameterBundle('emma:model1')\n",
    "base_pars.update(pop_sed='eldridge2009', pop_tsf=12)\n",
    "\n",
    "pop = ares.populations.GalaxyPopulation(**base_pars)"
   ]
  },
  {
   "cell_type": "markdown",
   "metadata": {},
   "source": [
    "pop_sed='eldridge2009', for example, the src attribute in your GalaxyHOD class will make this assumption, and the method L_per_sfr will return the luminosity (at some wavelength you specify) of a constant SFR population with an age set by the pop_tsf parameter (in Myr)."
   ]
  },
  {
   "cell_type": "code",
   "execution_count": 4,
   "metadata": {},
   "outputs": [
    {
     "name": "stdout",
     "output_type": "stream",
     "text": [
      "# Loaded $ARES/input/bpass_v1/SEDS/sed.bpass.constant.nocont.sin.z020\n"
     ]
    },
    {
     "data": {
      "text/plain": [
       "[<matplotlib.lines.Line2D at 0x173eacd8808>]"
      ]
     },
     "execution_count": 4,
     "metadata": {},
     "output_type": "execute_result"
    },
    {
     "data": {
      "image/png": "[encoded data removed]",
      "text/plain": [
       "<Figure size 432x288 with 1 Axes>"
      ]
     },
     "metadata": {
      "needs_background": "light"
     },
     "output_type": "display_data"
    }
   ],
   "source": [
    "wavelength = np.linspace(500, 2000, 100)\n",
    "\n",
    "L = [pop.src.L_per_sfr(l) for l in wavelength]\n",
    "#L_per_sfr : [erg / s / Hz / (Msun / yr)]\n",
    "\n",
    "pl.plot(wavelength, L)\n",
    "\n",
    "#do I need to convert to abs Mag? and how do I know z or distance then??"
   ]
  },
  {
   "cell_type": "code",
   "execution_count": 5,
   "metadata": {},
   "outputs": [],
   "source": [
    "def getParams(z):\n",
    "\n",
    "    logM_0 = 11.88 #(0.01)\n",
    "    mu = 0.019 #(0.002)\n",
    "    N_0 = 0.0282 #(0.0003)\n",
    "    nu = -0.72 #(0.06)\n",
    "    gamma_0 = 0.556 #0.001\n",
    "    gamma_1 = -0.26 #(0.05)\n",
    "    beta_0 = 1.06 #(0.06)\n",
    "    beta_1 = 0.17 #(0.12)\n",
    "\n",
    "    #Redshift-dependent parameterizations\n",
    "    N = N_0 * (z + 1)**nu\n",
    "    M_1 = 10**(logM_0*(z+1)**mu)\n",
    "    beta = beta_1*z+beta_0\n",
    "    gamma = gamma_0*(z + 1)**gamma_1\n",
    "    \n",
    "    return N, M_1, beta, gamma"
   ]
  },
  {
   "cell_type": "markdown",
   "metadata": {},
   "source": [
    "$L_{per SFR}(\\lambda) \\cdot SFR(z, Sm) = Lum_{\\lambda} $   [erg/s/Hz], for a given wavelength $\\lambda$   \n",
    "then we need to bin the Lum to get $\\phi(M_{\\lambda})$ [mag$^{-1}$cMpc$^{-3}$], this is done by:\n",
    "\n",
    "$\\frac{dM_h}{dLum_{\\lambda}} \\cdot \\frac{dn}{dM_h} = \\phi(M_{\\lambda})$, but I'll to need $\\frac{dM_h}{dLum_{\\lambda}}$ numerically.   \n",
    "\n",
    "I have $\\frac{dM_s}{dM_h}$ from my earlier work, and I could get $\\frac{dLum}{dM_s}$ numerically.  \n",
    "\n",
    "Then $ \\frac{dLum_{\\lambda}}{dM_s} \\cdot \\frac{dM_s}{dM_h} = \\frac{dLum_{\\lambda}}{dM_h}$   \n",
    "$\\Rightarrow \\frac{dn}{dLum} = \\phi(M_{\\lambda})$"
   ]
  },
  {
   "cell_type": "code",
   "execution_count": 6,
   "metadata": {},
   "outputs": [],
   "source": [
    "#log10(m)\n",
    "\n",
    "def dlogm_dM(pop_halo, N, M_1, beta, gamma, mM_ratio):\n",
    "    \n",
    "    dydx = -1* ((gamma-1)*(pop_halo.halos.tab_M/M_1)**(gamma+beta) - beta - 1) / (np.log(10)*pop_halo.halos.tab_M*((pop_halo.halos.tab_M/M_1)**(gamma+beta) + 1))\n",
    "\n",
    "    return dydx\n",
    "\n",
    "# finite difference of Lum wrt log10(m)\n",
    "def finite_dif_logm(Lum, Sm):\n",
    "\n",
    "    diff = []\n",
    "    for i in range(len(Lum)-1):\n",
    "        diff.append( (Lum[i+1] - Lum[i])/(Sm[i+1] - Sm[i]) )\n",
    "        \n",
    "#     print(diff)\n",
    "    return diff"
   ]
  },
  {
   "cell_type": "code",
   "execution_count": 7,
   "metadata": {},
   "outputs": [],
   "source": [
    "#m\n",
    "\n",
    "# finite difference of Lum wrt m\n",
    "def finite_dif(Lum, Sm):\n",
    "    \n",
    "    Sm = 10**Sm\n",
    "\n",
    "    diff = []\n",
    "    for i in range(len(Lum)-1):\n",
    "        diff.append( (Lum[i+1] - Lum[i])/(Sm[i+1] - Sm[i]) )\n",
    "        \n",
    "#     print(diff)\n",
    "    return diff\n",
    "\n",
    "def dm_dM(pop_halo, N, M_1, beta, gamma, mM_ratio):\n",
    "    \n",
    "    n2 = (-beta)*(pop_halo.halos.tab_M**(-beta-1)/M_1**(-beta)) + gamma*(pop_halo.halos.tab_M**(gamma-1)/M_1**(gamma))\n",
    "    \n",
    "    dydx = mM_ratio - pop_halo.halos.tab_M * 2 * N * n2 * ( (pop_halo.halos.tab_M/M_1)**(-beta) + \\\n",
    "                                                            (pop_halo.halos.tab_M/M_1)**(gamma) )**(-2) \n",
    "    return dydx\n",
    "\n",
    "# finite difference of m wrt M (should be same as above)\n",
    "def finite_dif_M(mM_ratio):\n",
    "    m = 10**( mM_ratio + np.log10(pop_halo.halos.tab_M) ) # stellMass = ratio*haloMass\n",
    "    diff = []\n",
    "    for i in range(len(mM_ratio)-1):\n",
    "        diff.append( (m[i+1] - m[i])/(pop_halo.halos.tab_M[i+1] - pop_halo.halos.tab_M[i]) )\n",
    "    return diff"
   ]
  },
  {
   "cell_type": "code",
   "execution_count": 8,
   "metadata": {},
   "outputs": [],
   "source": [
    "def dL_dM(z, Lum, Sm):\n",
    "    \n",
    "    N, M_1, beta, gamma = getParams(z)\n",
    "    mM_ratio = np.log10( 2*N / ( (pop_halo.halos.tab_M/M_1)**(-beta) + (pop_halo.halos.tab_M/M_1)**(gamma) ) )#equ 2\n",
    "\n",
    "    #this doesn't work as this is a very different length -  need it for only the sm values\n",
    "#     dmdM = dm_dM(pop_halo, N, M_1, beta, gamma, mM_ratio)[:-1]\n",
    "    dmdM = np.array(finite_dif_M(mM_ratio))\n",
    "    dLdm = finite_dif(Lum, Sm)\n",
    "    \n",
    "    #with log10 instead\n",
    "    dmdM = np.array(dlogm_dM(pop_halo, N, M_1, beta, gamma, mM_ratio))[:-1]\n",
    "    dLdm = finite_dif_logm(Lum, Sm)\n",
    "    \n",
    "    \n",
    "#     print(type(dmdM), type(dLdm))\n",
    "    \n",
    "    return dLdm * dmdM #this seems wrong\n",
    "\n",
    "#same in class\n",
    "def SM_fromHM(z):\n",
    "    \"\"\"\n",
    "    Using the SMHM ratio, given a halo mass, returns the corresponding stellar mass\n",
    "    \"\"\"\n",
    "    \n",
    "    N, M_1, beta, gamma = getParams(z)\n",
    "    haloMass = pop_halo.halos.tab_M\n",
    "\n",
    "    mM_ratio = np.log10( 2*N / ( (haloMass/M_1)**(-beta) + (haloMass/M_1)**(gamma) ) ) #equ 2\n",
    "#     print(mM_ratio)\n",
    "\n",
    "    StellarMass = mM_ratio + np.log10(haloMass)\n",
    "\n",
    "    return StellarMass"
   ]
  },
  {
   "cell_type": "code",
   "execution_count": 15,
   "metadata": {},
   "outputs": [
    {
     "name": "stdout",
     "output_type": "stream",
     "text": [
      "[-6.96836459 -6.94606459 -6.92376459 ... 13.84207685 13.84743377\n",
      " 13.85279068]\n",
      "[3.18429900e+23 3.11181551e+23 3.04098194e+23 ... 8.38732405e+08\n",
      " 8.19640524e+08 8.00983228e+08]\n",
      "[7.60481395e-24 7.43964072e-24 7.27806710e-24 ... 0.00000000e+00\n",
      " 0.00000000e+00 0.00000000e+00]\n"
     ]
    },
    {
     "data": {
      "image/png": "[encoded data removed]",
      "text/plain": [
       "<Figure size 432x288 with 1 Axes>"
      ]
     },
     "metadata": {
      "needs_background": "light"
     },
     "output_type": "display_data"
    }
   ],
   "source": [
    "lamda = 1600 #A\n",
    "z = 1\n",
    "\n",
    "Lsun = ares.physics.Constants.lsun\n",
    "\n",
    "# Sm = np.linspace(8, 13, 50)\n",
    "Sm = SM_fromHM(z)\n",
    "\n",
    "#cut out the super small values?\n",
    "print(Sm)\n",
    "mask = [m > 10.0 for m in Sm]\n",
    "# print(Sm[mask])\n",
    "#just cuts the x axis very short\n",
    "\n",
    "# [erg / s / Hz / (Msun / yr)] * (Msun)\n",
    "\n",
    "Lum = pop.src.L_per_sfr(lamda) * pop.SFR(z, Sm) #[erg/s/Hz]\n",
    "# i want to do / ares.physics.Constants.g_per_msun as it makes the numbers bigger \n",
    "# (maybe too big) but that seems wrong\n",
    "\n",
    "# print(Lum)\n",
    "\n",
    "dLdM = np.abs(dL_dM(z, Lum, Sm))\n",
    "print(dLdM)\n",
    "\n",
    "k = np.argmin(np.abs(z - pop_halo.halos.tab_z))\n",
    "dndM = pop_halo.halos.tab_dndm[k, :][:-1]\n",
    "# print(dndM)\n",
    "\n",
    "print(dndM/dLdM)\n",
    "\n",
    "#could put lum in term of lsun = 3.839e33  \n",
    "\n",
    "pl.semilogy((Lum[mask])[:-1], (dndM/dLdM)[mask[:-1]], ls=\"--\")\n",
    "pl.semilogy(Lum[:-1], dndM/dLdM)\n",
    "\n",
    "pl.ylabel('$\\phi(M_{UV})$ [lum$^{-1}$cMpc$^{-3}$]')\n",
    "pl.xlabel('Lum [erg/s/Hz]')\n",
    "pl.title('Wavelength {}'.format(lamda))\n",
    "\n",
    "pl.ylim(1e-60,1e-18)\n",
    "pl.show()"
   ]
  },
  {
   "cell_type": "code",
   "execution_count": 16,
   "metadata": {},
   "outputs": [
    {
     "name": "stdout",
     "output_type": "stream",
     "text": [
      "[         nan          nan          nan ... -19.44075894 -19.44185277\n",
      " -19.44294549]\n"
     ]
    },
    {
     "data": {
      "image/png": "[encoded data removed]",
      "text/plain": [
       "<Figure size 432x288 with 1 Axes>"
      ]
     },
     "metadata": {
      "needs_background": "light"
     },
     "output_type": "display_data"
    }
   ],
   "source": [
    "#sort of a weird range of mag?\n",
    "MagSys = ares.util.MagnitudeSystem()\n",
    "mag = MagSys.L_to_MAB(Lum, z=z)\n",
    "print(mag) #all nans for z = 0\n",
    "\n",
    "\n",
    "pl.semilogy((mag[mask])[:-1], (dndM/dLdM)[mask[:-1]], ls=\"--\")\n",
    "\n",
    "pl.semilogy(mag[:-1], dndM/dLdM)\n",
    "\n",
    "pl.ylabel('$\\phi(M_{UV})$ [mag$^{-1}$cMpc$^{-3}$]')\n",
    "pl.xlabel('Mag')\n",
    "pl.title('Wavelength {}'.format(lamda))\n",
    "pl.ylim(1e-50,1e-25)\n",
    "pl.show()"
   ]
  },
  {
   "cell_type": "code",
   "execution_count": null,
   "metadata": {},
   "outputs": [],
   "source": []
  },
  {
   "cell_type": "code",
   "execution_count": null,
   "metadata": {},
   "outputs": [],
   "source": []
  },
  {
   "cell_type": "markdown",
   "metadata": {},
   "source": [
    "### Quiescent galaxies  \n",
    "    To start, perhaps we could parameterize this age in some simple way: \n",
    "        ○ assume that the quenching time (or redshift) is a gaussian? \n",
    "\t\t○ Would allow us to say, for a galaxy in a halo of some mass Mh, there’s an X% probability that it quenched at redshift z. \n",
    "\t\t○ Naturally give rise to a distribution of ages, which could be generalized to allow for an mh-dep quenching distribution.\n"
   ]
  },
  {
   "cell_type": "code",
   "execution_count": null,
   "metadata": {},
   "outputs": [],
   "source": []
  }
 ],
 "metadata": {
  "kernelspec": {
   "display_name": "Python 3",
   "language": "python",
   "name": "python3"
  },
  "language_info": {
   "codemirror_mode": {
    "name": "ipython",
    "version": 3
   },
   "file_extension": ".py",
   "mimetype": "text/x-python",
   "name": "python",
   "nbconvert_exporter": "python",
   "pygments_lexer": "ipython3",
   "version": "3.7.4"
  }
 },
 "nbformat": 4,
 "nbformat_minor": 4
}

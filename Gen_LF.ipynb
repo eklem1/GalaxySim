{
 "cells": [
  {
   "cell_type": "code",
   "execution_count": 2,
   "metadata": {},
   "outputs": [],
   "source": [
    "#July 13\n",
    "\"\"\"\n",
    "Starting to look for a general LF for many wavelengths (Optical and UV).\n",
    "\"\"\"\n",
    "\n",
    "import ares\n",
    "import numpy as np\n",
    "import matplotlib.pyplot as pl"
   ]
  },
  {
   "cell_type": "code",
   "execution_count": 3,
   "metadata": {},
   "outputs": [],
   "source": [
    "data = ares.analysis.GalaxyPopulation() #for lit values\n",
    "pop_halo = ares.populations.HaloPopulation()\n"
   ]
  },
  {
   "cell_type": "markdown",
   "metadata": {},
   "source": [
    "### Star-forming galaxies, \n",
    "good approximation to generate their spectra assuming they’ve been forming stars at a constant rate for quite awhile. "
   ]
  },
  {
   "cell_type": "code",
   "execution_count": 4,
   "metadata": {},
   "outputs": [],
   "source": [
    "base_pars = ares.util.ParameterBundle('emma:model1')\n",
    "base_pars.update(pop_sed='eldridge2009', pop_tsf=12)\n",
    "\n",
    "pop = ares.populations.GalaxyPopulation(**base_pars)"
   ]
  },
  {
   "cell_type": "markdown",
   "metadata": {},
   "source": [
    "pop_sed='eldridge2009', for example, the src attribute in your GalaxyHOD class will make this assumption, and the method L_per_sfr will return the luminosity (at some wavelength you specify) of a constant SFR population with an age set by the pop_tsf parameter (in Myr)."
   ]
  },
  {
   "cell_type": "code",
   "execution_count": 5,
   "metadata": {},
   "outputs": [
    {
     "name": "stdout",
     "output_type": "stream",
     "text": [
      "# Loaded $ARES/input/bpass_v1/SEDS/sed.bpass.constant.nocont.sin.z020\n"
     ]
    }
   ],
   "source": [
    "wavelength = np.linspace(500, 2000, 100)\n",
    "\n",
    "L = [pop.src.L_per_sfr(l) for l in wavelength]\n",
    "#L_per_sfr : [erg / s / Hz / (Msun / yr)]\n",
    "\n",
    "# pl.plot(wavelength, L)"
   ]
  },
  {
   "cell_type": "code",
   "execution_count": 6,
   "metadata": {},
   "outputs": [],
   "source": [
    "def getParams(z):\n",
    "\n",
    "    logM_0 = 11.88 #(0.01)\n",
    "    mu = 0.019 #(0.002)\n",
    "    N_0 = 0.0282 #(0.0003)\n",
    "    nu = -0.72 #(0.06)\n",
    "    gamma_0 = 0.556 #0.001\n",
    "    gamma_1 = -0.26 #(0.05)\n",
    "    beta_0 = 1.06 #(0.06)\n",
    "    beta_1 = 0.17 #(0.12)\n",
    "\n",
    "    #Redshift-dependent parameterizations\n",
    "    N = N_0 * (z + 1)**nu\n",
    "    M_1 = 10**(logM_0*(z+1)**mu)\n",
    "    beta = beta_1*z+beta_0\n",
    "    gamma = gamma_0*(z + 1)**gamma_1\n",
    "    \n",
    "    return N, M_1, beta, gamma"
   ]
  },
  {
   "cell_type": "code",
   "execution_count": null,
   "metadata": {},
   "outputs": [],
   "source": []
  },
  {
   "cell_type": "markdown",
   "metadata": {},
   "source": [
    "$L_{per SFR}(\\lambda) \\cdot SFR(z, Hm) = Lum_{\\lambda} $   [erg/s/Hz], for a given wavelength $\\lambda$   \n",
    "then we need to bin the Lum to get $\\phi(M_{\\lambda})$ [mag$^{-1}$cMpc$^{-3}$], this is done by:\n",
    "\n",
    "$\\frac{dM_h}{dLum_{\\lambda}} \\cdot \\frac{dn}{dM_h} = \\phi(M_{\\lambda})$, but I'll need to get $\\frac{dM_h}{dLum_{\\lambda}}$ numerically.    "
   ]
  },
  {
   "cell_type": "code",
   "execution_count": 7,
   "metadata": {},
   "outputs": [],
   "source": [
    "def dL_dM(z, Lum, Hm):\n",
    "    \n",
    "    diff = []\n",
    "    for i in range(len(Lum)-1):\n",
    "        diff.append( (Lum[i+1] - Lum[i])/(Hm[i+1] - Hm[i]) )\n",
    "        \n",
    "#     print(diff)\n",
    "    return diff"
   ]
  },
  {
   "cell_type": "code",
   "execution_count": 8,
   "metadata": {},
   "outputs": [
    {
     "name": "stdout",
     "output_type": "stream",
     "text": [
      "# Loaded $ARES/input/hmf/hmf_ST_planck_TTTEEE_lowl_lowE_best_logM_1400_4-18_z_1201_0-60.hdf5.\n",
      "L_per_sfr: 7.098647621628551e+27\n",
      "[-7.56804354e+28 -7.55715239e+28 -7.54626123e+28 ...  2.59562208e+28\n",
      "  2.59823836e+28  2.60085464e+28]\n"
     ]
    },
    {
     "data": {
      "image/png": "[encoded data removed]",
      "text/plain": [
       "<Figure size 432x288 with 1 Axes>"
      ]
     },
     "metadata": {
      "needs_background": "light"
     },
     "output_type": "display_data"
    },
    {
     "name": "stdout",
     "output_type": "stream",
     "text": [
      "[3.14777909e+23 3.07612689e+23 3.00610570e+23 ... 8.29113198e+08\n",
      " 8.10240277e+08 7.91796957e+08]\n",
      "[2.42160015 2.31507894 2.21324706 ... 0.         0.         0.        ]\n"
     ]
    },
    {
     "data": {
      "image/png": "[encoded data removed]",
      "text/plain": [
       "<Figure size 432x288 with 1 Axes>"
      ]
     },
     "metadata": {
      "needs_background": "light"
     },
     "output_type": "display_data"
    }
   ],
   "source": [
    "lamda = 1600 #A\n",
    "z = 1\n",
    "\n",
    "Lsun = ares.physics.Constants.lsun\n",
    "\n",
    "Hm = pop_halo.halos.tab_M\n",
    "# Hm = np.linspace(10, 15, 20)\n",
    "\n",
    "# [erg / s / Hz / (Msun / yr)] * (Msun)\n",
    "\n",
    "print(\"L_per_sfr: {}\".format(pop.src.L_per_sfr(lamda)))\n",
    "\n",
    "Lum = pop.src.L_per_sfr(lamda) * pop.SFR(z, Hm, True, log10=False) #[erg/s/Hz]\n",
    "# i want to do / ares.physics.Constants.g_per_msun as it makes the numbers bigger \n",
    "# (maybe too big) but that seems wrong\n",
    "\n",
    "print(Lum)\n",
    "\n",
    "pl.plot(Hm, Lum)\n",
    "pl.xlabel('Hm')\n",
    "pl.ylabel('Lum [erg/s/Hz]')\n",
    "pl.show()\n",
    "\n",
    "dLdM = np.abs(dL_dM(z, Lum, Hm))\n",
    "print(dLdM)\n",
    "\n",
    "k = np.argmin(np.abs(z - pop_halo.halos.tab_z))\n",
    "dndM = pop_halo.halos.tab_dndm[k, :][:-1]\n",
    "print(dndM)\n",
    "\n",
    "LF = dndM/dLdM\n",
    "\n",
    "# print(LF)\n",
    "\n",
    "#could put lum in term of lsun = 3.839e33\n",
    "\n",
    "pl.semilogy(Lum[:-1], LF)\n",
    "\n",
    "pl.ylabel('$\\phi(M_{UV})$ [lum$^{-1}$cMpc$^{-3}$]')\n",
    "pl.xlabel('Lum [erg/s/Hz]')\n",
    "pl.title('Wavelength {} $\\AA$'.format(lamda))\n",
    "\n",
    "# pl.ylim(1e-15,)\n",
    "pl.ylim(1e-50,1e-18)\n",
    "\n",
    "pl.show()"
   ]
  },
  {
   "cell_type": "code",
   "execution_count": 9,
   "metadata": {},
   "outputs": [
    {
     "name": "stdout",
     "output_type": "stream",
     "text": [
      "[3.14777909e+23 3.07612689e+23 3.00610570e+23 ... 8.29113198e+08\n",
      " 8.10240277e+08 7.91796957e+08]\n",
      "[2.42160015 2.31507894 2.21324706 ... 0.         0.         0.        ]\n",
      "[7.69304349e-24 7.52595395e-24 7.36250579e-24 ... 0.00000000e+00\n",
      " 0.00000000e+00 0.00000000e+00]\n"
     ]
    }
   ],
   "source": [
    "print(dLdM) #is this too big\n",
    "\n",
    "print(dndM) #or this too small?\n",
    "#also goes to 0 at some point - but this isn't mine, should be correct\n",
    "\n",
    "print(LF)"
   ]
  },
  {
   "cell_type": "code",
   "execution_count": 13,
   "metadata": {},
   "outputs": [
    {
     "name": "stdout",
     "output_type": "stream",
     "text": [
      "[         nan          nan          nan ... -19.44075894 -19.44185277\n",
      " -19.44294549]\n"
     ]
    },
    {
     "data": {
      "image/png": "[encoded data removed]",
      "text/plain": [
       "<Figure size 432x288 with 1 Axes>"
      ]
     },
     "metadata": {
      "needs_background": "light"
     },
     "output_type": "display_data"
    }
   ],
   "source": [
    "MagSys = ares.util.MagnitudeSystem()\n",
    "mag = MagSys.L_to_MAB(Lum, z=z)\n",
    "print(mag) #all nans for z = 0\n",
    "\n",
    "pl.semilogy(mag[:-1], LF)\n",
    "\n",
    "pl.ylabel('$\\phi(M_{UV})$ [mag$^{-1}$cMpc$^{-3}$]')\n",
    "pl.xlabel('Mag')\n",
    "pl.title('Wavelength {} $\\AA$'.format(lamda))\n",
    "\n",
    "pl.ylim(1e-35,1e-26)\n",
    "# pl.ylim(1e-10,)\n",
    "\n",
    "pl.show()"
   ]
  },
  {
   "cell_type": "code",
   "execution_count": null,
   "metadata": {},
   "outputs": [],
   "source": []
  },
  {
   "cell_type": "markdown",
   "metadata": {},
   "source": [
    "### Quiescent galaxies  \n",
    "the key thing we’ll need to know is the age of their stellar populations, or equivalently, the time when these galaxies stopped forming stars. \n",
    "\n",
    "To start, perhaps we could parameterize this age in some simple way:   \n",
    "- assume that the quenching time (or redshift) is a gaussian?   \n",
    "- Would allow us to say, for a galaxy in a halo of some mass Mh, there’s an X% probability that it quenched at redshift z.   \n",
    "- Naturally give rise to a distribution of ages, which could be generalized to allow for an mh-dep quenching distribution.\n"
   ]
  },
  {
   "cell_type": "code",
   "execution_count": 35,
   "metadata": {},
   "outputs": [],
   "source": [
    "#what are the units/size of this?\n",
    "# np.random.normal(loc=0.0, scale=1.0, size=None)\n",
    "\n",
    "#how does it change with Mh?"
   ]
  },
  {
   "cell_type": "code",
   "execution_count": null,
   "metadata": {},
   "outputs": [],
   "source": []
  }
 ],
 "metadata": {
  "kernelspec": {
   "display_name": "Python 3",
   "language": "python",
   "name": "python3"
  },
  "language_info": {
   "codemirror_mode": {
    "name": "ipython",
    "version": 3
   },
   "file_extension": ".py",
   "mimetype": "text/x-python",
   "name": "python",
   "nbconvert_exporter": "python",
   "pygments_lexer": "ipython3",
   "version": "3.7.4"
  }
 },
 "nbformat": 4,
 "nbformat_minor": 4
}

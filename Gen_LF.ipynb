{
 "cells": [
  {
   "cell_type": "code",
   "execution_count": 2,
   "metadata": {},
   "outputs": [],
   "source": [
    "#July 13\n",
    "\"\"\"\n",
    "Starting to look for a general LF for many wavelengths (Optical and UV).\n",
    "\"\"\"\n",
    "\n",
    "import ares\n",
    "import numpy as np\n",
    "import matplotlib.pyplot as pl"
   ]
  },
  {
   "cell_type": "code",
   "execution_count": 58,
   "metadata": {},
   "outputs": [],
   "source": [
    "data = ares.analysis.GalaxyPopulation() #for lit values\n",
    "pop_halo = ares.populations.HaloPopulation()\n"
   ]
  },
  {
   "cell_type": "markdown",
   "metadata": {},
   "source": [
    "### Star-forming galaxies, \n",
    "good approximation to generate their spectra assuming they’ve been forming stars at a constant rate for quite awhile. "
   ]
  },
  {
   "cell_type": "code",
   "execution_count": 6,
   "metadata": {},
   "outputs": [],
   "source": [
    "base_pars = ares.util.ParameterBundle('emma:model1')\n",
    "base_pars.update(pop_sed='eldridge2009', pop_tsf=12)\n",
    "\n",
    "pop = ares.populations.GalaxyPopulation(**base_pars)"
   ]
  },
  {
   "cell_type": "markdown",
   "metadata": {},
   "source": [
    "pop_sed='eldridge2009', for example, the src attribute in your GalaxyHOD class will make this assumption, and the method L_per_sfr will return the luminosity (at some wavelength you specify) of a constant SFR population with an age set by the pop_tsf parameter (in Myr)."
   ]
  },
  {
   "cell_type": "code",
   "execution_count": 54,
   "metadata": {},
   "outputs": [
    {
     "data": {
      "text/plain": [
       "[<matplotlib.lines.Line2D at 0x223ccfe6888>]"
      ]
     },
     "execution_count": 54,
     "metadata": {},
     "output_type": "execute_result"
    },
    {
     "data": {
      "image/png": "[encoded data removed]",
      "text/plain": [
       "<Figure size 432x288 with 1 Axes>"
      ]
     },
     "metadata": {
      "needs_background": "light"
     },
     "output_type": "display_data"
    }
   ],
   "source": [
    "wavelength = np.linspace(500, 2000, 100)\n",
    "\n",
    "L = [pop.src.L_per_sfr(l) for l in wavelength]\n",
    "#L_per_sfr : [erg / s / Hz / (Msun / yr)]\n",
    "\n",
    "pl.plot(wavelength, L)\n",
    "\n",
    "#do I need to convert to abs Mag? and how do I know z or distance then??"
   ]
  },
  {
   "cell_type": "code",
   "execution_count": 55,
   "metadata": {},
   "outputs": [],
   "source": [
    "def getParams(z):\n",
    "\n",
    "    logM_0 = 11.88 #(0.01)\n",
    "    mu = 0.019 #(0.002)\n",
    "    N_0 = 0.0282 #(0.0003)\n",
    "    nu = -0.72 #(0.06)\n",
    "    gamma_0 = 0.556 #0.001\n",
    "    gamma_1 = -0.26 #(0.05)\n",
    "    beta_0 = 1.06 #(0.06)\n",
    "    beta_1 = 0.17 #(0.12)\n",
    "\n",
    "    #Redshift-dependent parameterizations\n",
    "    N = N_0 * (z + 1)**nu\n",
    "    M_1 = 10**(logM_0*(z+1)**mu)\n",
    "    beta = beta_1*z+beta_0\n",
    "    gamma = gamma_0*(z + 1)**gamma_1\n",
    "    \n",
    "    return N, M_1, beta, gamma"
   ]
  },
  {
   "cell_type": "markdown",
   "metadata": {},
   "source": [
    "$L_{per SFR} * SFR(z, Sm) = Lum $   [erg/s/Hz]\n",
    "\n",
    "then bin Lum --> $\\phi(M_{\\#})$ [mag$^{-1}$cMpc$^{-3}$]\n",
    "\n",
    "$\\frac{dM_h}{dLum} \\cdot \\frac{dn}{dM_h} = \\phi(M_{\\#})$, how to get $\\frac{dM_h}{dLum}$ ??\n",
    "\n",
    "I could get $\\frac{dLum}{dM_s}$ maybe? "
   ]
  },
  {
   "cell_type": "code",
   "execution_count": 69,
   "metadata": {},
   "outputs": [],
   "source": [
    "# finite difference of Lum wrt M\n",
    "def finite_dif(Lum, Sm):\n",
    "\n",
    "    diff = []\n",
    "    for i in range(len(Lum)-1):\n",
    "        diff.append( (Lum[i+1] - Lum[i])/(Sm[i+1] - Sm[i]) )\n",
    "    return diff\n",
    "\n",
    "\n",
    "def dm_dM(pop_halo, N, M_1, beta, gamma, mM_ratio):\n",
    "    \n",
    "    n2 = (-beta)*(pop_halo.halos.tab_M**(-beta-1)/M_1**(-beta)) + gamma*(pop_halo.halos.tab_M**(gamma-1)/M_1**(gamma))\n",
    "    \n",
    "    dydx = mM_ratio - pop_halo.halos.tab_M * 2 * N * n2 * ( (pop_halo.halos.tab_M/M_1)**(-beta) + \\\n",
    "                                                            (pop_halo.halos.tab_M/M_1)**(gamma) )**(-2) \n",
    "\n",
    "    return dydx\n",
    "\n",
    "\n",
    "def dL_dM(z, Lum, Sm):\n",
    "    \n",
    "    N, M_1, beta, gamma = getParams(z)\n",
    "    mM_ratio = np.log10( 2*N / ( (pop_halo.halos.tab_M/M_1)**(-beta) + (pop_halo.halos.tab_M/M_1)**(gamma) ) )#equ 2\n",
    "\n",
    "    #this doesn't work as this is a very different length -  need it for only the sm values\n",
    "    dmdM = dm_dM(pop_halo, N, M_1, beta, gamma, mM_ratio)\n",
    "    \n",
    "    dLdm = finite_dif(Lum, Sm)\n",
    "    \n",
    "    return dLdm / dmdM[:-1]\n",
    "\n",
    "def SM_fromHM(z):\n",
    "    \"\"\"\n",
    "    Using the SMHM ratio, given a halo mass, returns the corresponding stellar mass\n",
    "    \"\"\"\n",
    "    \n",
    "    N, M_1, beta, gamma = getParams(z)\n",
    "    haloMass = pop_halo.halos.tab_M\n",
    "\n",
    "    mM_ratio = np.log10( 2*N / ( haloMass/M_1**(-beta) + (haloMass/M_1)**(gamma) ) ) #equ 2\n",
    "\n",
    "    StellarMass = mM_ratio + np.log10(haloMass)\n",
    "\n",
    "    return StellarMass"
   ]
  },
  {
   "cell_type": "code",
   "execution_count": 71,
   "metadata": {},
   "outputs": [
    {
     "name": "stdout",
     "output_type": "stream",
     "text": [
      "[-16.27157762 -16.27157762 -16.27157762 ... -16.27157762 -16.27157762\n",
      " -16.27157762]\n",
      "[nan nan nan ... nan nan nan]\n"
     ]
    },
    {
     "data": {
      "text/plain": [
       "[<matplotlib.lines.Line2D at 0x223cd002148>]"
      ]
     },
     "execution_count": 71,
     "metadata": {},
     "output_type": "execute_result"
    },
    {
     "data": {
      "image/png": "[encoded data removed]",
      "text/plain": [
       "<Figure size 432x288 with 1 Axes>"
      ]
     },
     "metadata": {
      "needs_background": "light"
     },
     "output_type": "display_data"
    }
   ],
   "source": [
    "# pop.SFR(z, Sm) or pop.SFRD(Zs)?\n",
    "# would multiplying by one of these get the LF?\n",
    "lamda = 1600\n",
    "z = 1\n",
    "\n",
    "Sm = SM_fromHM(z)\n",
    "print(Sm)\n",
    "\n",
    "# Sm = np.linspace(8, 13, 50)\n",
    "# [erg / s / Hz / (Msun / yr)] * (Msun)\n",
    "Lum = pop.src.L_per_sfr(lamda) * pop.SFR(z, Sm)  #[erg/s/Hz]\n",
    "\n",
    "\n",
    "# * pop.StellarMassFunction(z, Sm)\n",
    "\n",
    "dLdM = dL_dM(z, Lum, Sm)\n",
    "print(dLdM)\n",
    "\n",
    "MagSys = ares.util.MagnitudeSystem()\n",
    "\n",
    "mag = MagSys.L_to_MAB(Lum, z=z)\n",
    "\n",
    "\n",
    "print(mag)\n",
    "\n",
    "\n",
    "#but then 1 wavelength only gives one mag -> can't make a LF for only 1 wavelength\n",
    "\n",
    "pl.semilogy(mag, pop.StellarMassFunction(z, Sm))"
   ]
  },
  {
   "cell_type": "code",
   "execution_count": 49,
   "metadata": {},
   "outputs": [],
   "source": [
    "lamda = 1600\n",
    "z = 1\n",
    "Sm = np.linspace(8, 13, 50)\n",
    "# Sm = [12]\n",
    "\n",
    "something2 = [pop.StellarMassFunction(z, Sm) / (pop.src.L_per_sfr(lamda) * pop.SFR(z, Sm)) for lamda in wavelength]\n",
    "\n",
    "# MagSys = ares.util.MagnitudeSystem()\n",
    "\n",
    "mag = [MagSys.L_to_MAB(L = pop.src.L_per_sfr(lamda), z=z) for lamda in wavelength]\n",
    "# print(mag)\n",
    "#but then 1 wavelength only gives one mag -> can't make a LF for only 1 wavelength\n",
    "# print(something2)\n",
    "\n",
    "# pl.plot(mag, something2[:][0])"
   ]
  },
  {
   "cell_type": "code",
   "execution_count": null,
   "metadata": {},
   "outputs": [],
   "source": []
  },
  {
   "cell_type": "markdown",
   "metadata": {},
   "source": [
    "### Quiescent galaxies  \n",
    "    To start, perhaps we could parameterize this age in some simple way: \n",
    "        ○ assume that the quenching time (or redshift) is a gaussian? \n",
    "\t\t○ Would allow us to say, for a galaxy in a halo of some mass Mh, there’s an X% probability that it quenched at redshift z. \n",
    "\t\t○ Naturally give rise to a distribution of ages, which could be generalized to allow for an mh-dep quenching distribution.\n"
   ]
  },
  {
   "cell_type": "code",
   "execution_count": null,
   "metadata": {},
   "outputs": [],
   "source": []
  }
 ],
 "metadata": {
  "kernelspec": {
   "display_name": "Python 3",
   "language": "python",
   "name": "python3"
  },
  "language_info": {
   "codemirror_mode": {
    "name": "ipython",
    "version": 3
   },
   "file_extension": ".py",
   "mimetype": "text/x-python",
   "name": "python",
   "nbconvert_exporter": "python",
   "pygments_lexer": "ipython3",
   "version": "3.7.4"
  }
 },
 "nbformat": 4,
 "nbformat_minor": 4
}

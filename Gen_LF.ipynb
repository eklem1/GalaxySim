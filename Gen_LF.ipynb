{
 "cells": [
  {
   "cell_type": "code",
   "execution_count": 2,
   "metadata": {},
   "outputs": [],
   "source": [
    "#July 13\n",
    "\"\"\"\n",
    "Starting to look for a general LF for many wavelengths (Optical and UV).\n",
    "\"\"\"\n",
    "\n",
    "import ares\n",
    "import numpy as np\n",
    "import matplotlib.pyplot as pl"
   ]
  },
  {
   "cell_type": "code",
   "execution_count": 15,
   "metadata": {},
   "outputs": [],
   "source": [
    "data = ares.analysis.GalaxyPopulation() #for lit values\n",
    "pop_halo = ares.populations.HaloPopulation()\n"
   ]
  },
  {
   "cell_type": "markdown",
   "metadata": {},
   "source": [
    "### Star-forming galaxies, \n",
    "good approximation to generate their spectra assuming they’ve been forming stars at a constant rate for quite awhile. "
   ]
  },
  {
   "cell_type": "code",
   "execution_count": 4,
   "metadata": {},
   "outputs": [],
   "source": [
    "base_pars = ares.util.ParameterBundle('emma:model1')\n",
    "base_pars.update(pop_sed='eldridge2009', pop_tsf=12)\n",
    "\n",
    "pop = ares.populations.GalaxyPopulation(**base_pars)"
   ]
  },
  {
   "cell_type": "code",
   "execution_count": 5,
   "metadata": {},
   "outputs": [],
   "source": [
    "def getParams(z):\n",
    "\n",
    "    logM_0 = 11.88 #(0.01)\n",
    "    mu = 0.019 #(0.002)\n",
    "    N_0 = 0.0282 #(0.0003)\n",
    "    nu = -0.72 #(0.06)\n",
    "    gamma_0 = 0.556 #0.001\n",
    "    gamma_1 = -0.26 #(0.05)\n",
    "    beta_0 = 1.06 #(0.06)\n",
    "    beta_1 = 0.17 #(0.12)\n",
    "\n",
    "    #Redshift-dependent parameterizations\n",
    "    N = N_0 * (z + 1)**nu\n",
    "    M_1 = 10**(logM_0*(z+1)**mu)\n",
    "    beta = beta_1*z+beta_0\n",
    "    gamma = gamma_0*(z + 1)**gamma_1\n",
    "    \n",
    "    return N, M_1, beta, gamma"
   ]
  },
  {
   "cell_type": "markdown",
   "metadata": {},
   "source": [
    "$L_{per SFR}(\\lambda) \\cdot SFR(z, Hm) = Lum_{\\lambda} $   [erg/s/Hz], for a given wavelength $\\lambda$   \n",
    "then we need to bin the Lum to get $\\phi(M_{\\lambda})$ [mag$^{-1}$cMpc$^{-3}$], this is done by:\n",
    "\n",
    "$\\frac{dM_h}{dLum_{\\lambda}} \\cdot \\frac{dn}{dM_h} = \\phi(M_{\\lambda})$, but I'll need to get $\\frac{dM_h}{dLum_{\\lambda}}$ numerically.    "
   ]
  },
  {
   "cell_type": "code",
   "execution_count": 6,
   "metadata": {},
   "outputs": [],
   "source": [
    "#differential for binning\n",
    "def dL_dM(z, Lum, Hm):\n",
    "    \n",
    "    diff = []\n",
    "    for i in range(len(Lum)-1):\n",
    "        diff.append( (Lum[i+1] - Lum[i])/(Hm[i+1] - Hm[i]) )\n",
    "        \n",
    "    return diff\n",
    "\n",
    "def Gen_LF(z, Lambda, LumType='Mag'):\n",
    "    Lsun = ares.physics.Constants.lsun\n",
    "\n",
    "    Hm = pop_halo.halos.tab_M\n",
    "\n",
    "    Lum = pop.src.L_per_sfr(Lambda) * 10**pop.SFR(z, Hm, True, log10=False) #[erg/s/Hz]\n",
    "    \n",
    "    k = np.argmin(np.abs(z - pop_halo.halos.tab_z))\n",
    "    dndM = pop_halo.halos.tab_dndm[k, :][:-1]\n",
    "\n",
    "    if LumType == 'Lum':\n",
    "        dLdM = dL_dM(z, Lum, Hm)  \n",
    "        xVals = Lum\n",
    "\n",
    "    elif LumType == 'Mag':\n",
    "        MagSys = ares.util.MagnitudeSystem()\n",
    "        mag = MagSys.L_to_MAB(Lum, z=z)\n",
    "\n",
    "        dLdM = np.abs(dL_dM(z, mag, Hm))\n",
    "        xVals = mag\n",
    "    else:\n",
    "        print(\"Not a value unit for luminosity, choose either Mag or Lum\")\n",
    "        dLdM = -np.inf\n",
    "        xVals = np.zeros(len(Lum))\n",
    "    \n",
    "    LF = dndM/dLdM\n",
    "\n",
    "    return xVals[:-1], LF"
   ]
  },
  {
   "cell_type": "code",
   "execution_count": 32,
   "metadata": {},
   "outputs": [
    {
     "name": "stderr",
     "output_type": "stream",
     "text": [
      "C:\\Users\\Emma\\Anaconda3\\lib\\site-packages\\ares-0.1-py3.7.egg\\ares\\analysis\\GalaxyPopulation.py:1259: MatplotlibDeprecationWarning: Adding an axes using the same arguments as a previous axes currently reuses the earlier instance.  In a future version, a new instance will always be created and returned.  Meanwhile, this warning can be suppressed, and the future behavior ensured, by passing a unique label to each axes instance.\n",
      "  ax = fig.add_subplot(111)\n",
      "C:\\Users\\Emma\\Anaconda3\\lib\\site-packages\\numpy\\ma\\core.py:2795: UserWarning: Warning: converting a masked element to nan.\n",
      "  order=order, subok=True, ndmin=ndmin)\n",
      "C:\\Users\\Emma\\Anaconda3\\lib\\site-packages\\numpy\\core\\_asarray.py:138: UserWarning: Warning: converting a masked element to nan.\n",
      "  return array(a, dtype, copy=False, order=order, subok=True)\n",
      "C:\\Users\\Emma\\Anaconda3\\lib\\site-packages\\numpy\\core\\_asarray.py:85: UserWarning: Warning: converting a masked element to nan.\n",
      "  return array(a, dtype, copy=False, order=order)\n"
     ]
    },
    {
     "name": "stdout",
     "output_type": "stream",
     "text": [
      "# WARNING: finkelstein2015 wavelength=1500.0A, not 1600.0A!\n",
      "# WARNING: parsa2016 wavelength=1500.0A, not 1600.0A!\n",
      "# WARNING: weisz2014 wavelength=1700.0A, not 1600.0A!\n",
      "# WARNING: vanderburg2010 wavelength=1500.0A, not 1600.0A!\n"
     ]
    },
    {
     "data": {
      "image/png": "[encoded data removed]",
      "text/plain": [
       "<Figure size 432x288 with 1 Axes>"
      ]
     },
     "metadata": {
      "needs_background": "light"
     },
     "output_type": "display_data"
    }
   ],
   "source": [
    "Lambda = 1500\n",
    "z = 4\n",
    "\n",
    "x, LF = Gen_LF(z, Lambda)\n",
    "lable = '$\\lambda: ${} $\\AA$, z: {}'.format(Lambda, z)\n",
    "pl.semilogy(x, LF, label=lable)\n",
    "\n",
    "# x, LF = Gen_LF(z, 3000)\n",
    "# lable = '$\\lambda: ${} $\\AA$, z: {}'.format(3000, z)\n",
    "# pl.semilogy(x, LF, label=lable)\n",
    "\n",
    "# x, LF = Gen_LF(1, Lambda)\n",
    "# lable = '$\\lambda: ${} $\\AA$, z: {}'.format(Lambda, 1)\n",
    "# pl.semilogy(x, LF, label=lable)\n",
    "\n",
    "data.Plot(z=4, round_z=0.5)\n",
    "\n",
    "pl.ylabel('$\\phi(M_{UV})$ [mag$^{-1}$cMpc$^{-3}$]')\n",
    "pl.xlabel('Mag')\n",
    "pl.title('LF')\n",
    "\n",
    "pl.ylim(1e-8,1e2)\n",
    "pl.xlim(-25,-10)\n",
    "pl.legend()\n",
    "\n",
    "pl.show()"
   ]
  },
  {
   "cell_type": "code",
   "execution_count": 7,
   "metadata": {},
   "outputs": [
    {
     "name": "stdout",
     "output_type": "stream",
     "text": [
      "# Loaded $ARES/input/bpass_v1/SEDS/sed.bpass.constant.nocont.sin.z020\n"
     ]
    },
    {
     "data": {
      "image/png": "[encoded data removed]",
      "text/plain": [
       "<Figure size 432x288 with 1 Axes>"
      ]
     },
     "metadata": {
      "needs_background": "light"
     },
     "output_type": "display_data"
    }
   ],
   "source": [
    "lamda = 1600 #A\n",
    "z = 1\n",
    "\n",
    "Lsun = ares.physics.Constants.lsun\n",
    "\n",
    "Hm = pop_halo.halos.tab_M\n",
    "\n",
    "# print(\"L_per_sfr: {}\".format(pop.src.L_per_sfr(lamda)))\n",
    "\n",
    "Lum = pop.src.L_per_sfr(lamda) * 10**pop.SFR(z, Hm, True, log10=False) #[erg/s/Hz]\n",
    "\n",
    "# print(Lum)\n",
    "\n",
    "#plotting just lum\n",
    "# pl.plot(Hm, Lum)\n",
    "# pl.xlabel('Hm')\n",
    "# pl.ylabel('Lum [erg/s/Hz]')\n",
    "# pl.show()\n",
    "\n",
    "dLdM = dL_dM(z, Lum, Hm)\n",
    "\n",
    "# print(dLdM)\n",
    "\n",
    "k = np.argmin(np.abs(z - pop_halo.halos.tab_z))\n",
    "dndM = pop_halo.halos.tab_dndm[k, :][:-1]\n",
    "# print(dndM)\n",
    "\n",
    "LF = dndM/dLdM\n",
    "\n",
    "# print(LF)\n",
    "\n",
    "#could put lum in term of lsun = 3.839e33\n",
    "\n",
    "pl.semilogy(Lum[:-1], LF)\n",
    "\n",
    "pl.ylabel('$\\phi(M_{UV})$ [lum$^{-1}$cMpc$^{-3}$]')\n",
    "pl.xlabel('Lum [erg/s/Hz]')\n",
    "pl.title('Wavelength {} $\\AA$'.format(lamda))\n",
    "\n",
    "# pl.ylim(1e-15,)\n",
    "# pl.ylim(1e-40,1e-18)\n",
    "\n",
    "pl.show()"
   ]
  },
  {
   "cell_type": "code",
   "execution_count": 8,
   "metadata": {},
   "outputs": [
    {
     "data": {
      "image/png": "[encoded data removed]",
      "text/plain": [
       "<Figure size 432x288 with 1 Axes>"
      ]
     },
     "metadata": {
      "needs_background": "light"
     },
     "output_type": "display_data"
    }
   ],
   "source": [
    "MagSys = ares.util.MagnitudeSystem()\n",
    "mag = MagSys.L_to_MAB(Lum, z=z)\n",
    "# print(mag) #all nans for z = 0\n",
    "\n",
    "dLdM = np.abs(dL_dM(z, mag, Hm))\n",
    "\n",
    "# print(dLdM)\n",
    "\n",
    "# k = np.argmin(np.abs(z - pop_halo.halos.tab_z))\n",
    "# dndM = pop_halo.halos.tab_dndm[k, :][:-1]\n",
    "# print(dndM)\n",
    "\n",
    "LF = dndM/dLdM\n",
    "\n",
    "pl.semilogy(mag[:-1], LF)\n",
    "\n",
    "pl.ylabel('$\\phi(M_{UV})$ [mag$^{-1}$cMpc$^{-3}$]')\n",
    "pl.xlabel('Mag')\n",
    "pl.title('Wavelength {} $\\AA$'.format(lamda))\n",
    "\n",
    "# pl.ylim(1e-35,1e-26)\n",
    "pl.ylim(1e-8,1e2)\n",
    "pl.xlim(-25,-10)\n",
    "\n",
    "pl.show()"
   ]
  },
  {
   "cell_type": "code",
   "execution_count": null,
   "metadata": {},
   "outputs": [],
   "source": []
  },
  {
   "cell_type": "markdown",
   "metadata": {},
   "source": [
    "### Quiescent galaxies  \n",
    "the key thing we’ll need to know is the age of their stellar populations, or equivalently, the time when these galaxies stopped forming stars. \n",
    "\n",
    "To start, perhaps we could parameterize this age in some simple way:   \n",
    "- assume that the quenching time (or redshift) is a gaussian?   \n",
    "- Would allow us to say, for a galaxy in a halo of some mass Mh, there’s an X% probability that it quenched at redshift z.   \n",
    "- Naturally give rise to a distribution of ages, which could be generalized to allow for an mh-dep quenching distribution.\n"
   ]
  },
  {
   "cell_type": "code",
   "execution_count": 35,
   "metadata": {},
   "outputs": [],
   "source": [
    "#what are the units/size of this?\n",
    "# np.random.normal(loc=0.0, scale=1.0, size=None)\n",
    "\n",
    "#how does it change with Mh?"
   ]
  },
  {
   "cell_type": "markdown",
   "metadata": {},
   "source": [
    "i   \n",
    "\n",
    "$M_1 = 10^{logM_0 \\cdot (z+1)^{\\mu}} \\rightarrow M_1 = 10^{logM_0} \\cdot (z+1)^{\\mu} $\n",
    "\n",
    "\n",
    "i"
   ]
  },
  {
   "cell_type": "code",
   "execution_count": null,
   "metadata": {},
   "outputs": [],
   "source": []
  }
 ],
 "metadata": {
  "kernelspec": {
   "display_name": "Python 3",
   "language": "python",
   "name": "python3"
  },
  "language_info": {
   "codemirror_mode": {
    "name": "ipython",
    "version": 3
   },
   "file_extension": ".py",
   "mimetype": "text/x-python",
   "name": "python",
   "nbconvert_exporter": "python",
   "pygments_lexer": "ipython3",
   "version": "3.7.4"
  }
 },
 "nbformat": 4,
 "nbformat_minor": 4
}

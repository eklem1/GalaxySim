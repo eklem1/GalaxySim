{
 "cells": [
  {
   "cell_type": "code",
   "execution_count": 1,
   "metadata": {},
   "outputs": [],
   "source": [
    "\"\"\"\n",
    "June 26, 2020\n",
    "\n",
    "Looking at starting position of walkers.\n",
    "\"\"\"\n",
    "\n",
    "\n",
    "import ares\n",
    "import numpy as np\n",
    "import matplotlib.pyplot as pl\n",
    "import distpy"
   ]
  },
  {
   "cell_type": "code",
   "execution_count": 42,
   "metadata": {},
   "outputs": [],
   "source": [
    "data = ares.analysis.GalaxyPopulation() #for lit values\n",
    "\n",
    "#could add sources so only those used to fit are considered\n",
    "def getMasses(redshifts):\n",
    "    data = ares.analysis.GalaxyPopulation()\n",
    "\n",
    "    Ms = []\n",
    "    for z in redshifts:\n",
    "        data_info = data.compile_data(z, quantity='smf')\n",
    "\n",
    "        # print(data_info)\n",
    "\n",
    "        mass = []\n",
    "        for i in data_info:\n",
    "    #         mass.append(data_info[i][\"M\"][~data_info[i][\"M\"].mask])\n",
    "            mass.extend(data_info[i][\"M\"].compressed())\n",
    "\n",
    "        Ms.extend(mass)\n",
    "\n",
    "    Ms = list(set(Ms))\n",
    "    Ms = np.sort(Ms)\n",
    "    return Ms"
   ]
  },
  {
   "cell_type": "code",
   "execution_count": 43,
   "metadata": {},
   "outputs": [
    {
     "name": "stdout",
     "output_type": "stream",
     "text": [
      "No z=0.10165 data in song2016.\n",
      "No z=0.10165 data in stefanon2017.\n",
      "No z=0.10165 data in duncan2014.\n",
      "No z=0.10165 data in tomczak2014.\n",
      "No z=0.10165 data in mortlock2011.\n",
      "No z=0.10165 data in marchesini2009_10.\n",
      "No z=0.10165 data in perez2008.\n",
      "No z=0.25 data in song2016.\n",
      "No z=0.25 data in stefanon2017.\n",
      "No z=0.25 data in duncan2014.\n",
      "No z=0.25 data in tomczak2014.\n",
      "No z=0.25 data in mortlock2011.\n",
      "No z=0.25 data in marchesini2009_10.\n",
      "No z=0.25 data in perez2008.\n",
      "No z=0.35 data in song2016.\n",
      "No z=0.35 data in stefanon2017.\n",
      "No z=0.35 data in duncan2014.\n",
      "No z=0.35 data in mortlock2011.\n",
      "No z=0.35 data in marchesini2009_10.\n",
      "No z=0.35 data in perez2008.\n",
      "No z=0.45 data in song2016.\n",
      "No z=0.45 data in stefanon2017.\n",
      "No z=0.45 data in duncan2014.\n",
      "No z=0.45 data in tomczak2014.\n",
      "No z=0.45 data in mortlock2011.\n",
      "No z=0.45 data in marchesini2009_10.\n",
      "No z=0.45 data in perez2008.\n",
      "No z=0.575 data in song2016.\n",
      "No z=0.575 data in stefanon2017.\n",
      "No z=0.575 data in duncan2014.\n",
      "No z=0.575 data in tomczak2014.\n",
      "No z=0.575 data in mortlock2011.\n",
      "No z=0.575 data in marchesini2009_10.\n",
      "No z=0.575 data in perez2008.\n",
      "No z=0.725 data in song2016.\n",
      "No z=0.725 data in stefanon2017.\n",
      "No z=0.725 data in duncan2014.\n",
      "No z=0.725 data in tomczak2014.\n",
      "No z=0.725 data in mortlock2011.\n",
      "No z=0.725 data in marchesini2009_10.\n",
      "No z=0.725 data in perez2008.\n",
      "No z=0.875 data in song2016.\n",
      "No z=0.875 data in stefanon2017.\n",
      "No z=0.875 data in duncan2014.\n",
      "No z=0.875 data in moustakas2013.\n",
      "No z=0.875 data in mortlock2011.\n",
      "No z=0.875 data in marchesini2009_10.\n",
      "No z=0.875 data in perez2008.\n",
      "No z=0.9 data in song2016.\n",
      "No z=0.9 data in stefanon2017.\n",
      "No z=0.9 data in duncan2014.\n",
      "No z=0.9 data in tomczak2014.\n",
      "No z=0.9 data in mortlock2011.\n",
      "No z=0.9 data in marchesini2009_10.\n",
      "No z=1.125 data in song2016.\n",
      "No z=1.125 data in stefanon2017.\n",
      "No z=1.125 data in duncan2014.\n",
      "No z=1.125 data in moustakas2013.\n",
      "No z=1.125 data in mortlock2011.\n",
      "No z=1.125 data in marchesini2009_10.\n",
      "No z=1.125 data in perez2008.\n",
      "No z=1.65 data in song2016.\n",
      "No z=1.65 data in stefanon2017.\n",
      "No z=1.65 data in duncan2014.\n",
      "No z=1.65 data in tomczak2014.\n",
      "No z=1.65 data in moustakas2013.\n",
      "No z=1.65 data in mortlock2011.\n",
      "No z=1.65 data in perez2008.\n",
      "No z=1.75 data in song2016.\n",
      "No z=1.75 data in stefanon2017.\n",
      "No z=1.75 data in duncan2014.\n",
      "No z=1.75 data in moustakas2013.\n",
      "No z=1.75 data in marchesini2009_10.\n",
      "No z=1.75 data in perez2008.\n",
      "No z=2.25 data in song2016.\n",
      "No z=2.25 data in stefanon2017.\n",
      "No z=2.25 data in duncan2014.\n",
      "No z=2.25 data in moustakas2013.\n",
      "No z=2.25 data in marchesini2009_10.\n",
      "No z=2.25 data in perez2008.\n",
      "No z=2.5 data in song2016.\n",
      "No z=2.5 data in stefanon2017.\n",
      "No z=2.5 data in duncan2014.\n",
      "No z=2.5 data in tomczak2014.\n",
      "No z=2.5 data in moustakas2013.\n",
      "No z=2.5 data in mortlock2011.\n",
      "No z=2.5 data in perez2008.\n",
      "No z=2.75 data in song2016.\n",
      "No z=2.75 data in stefanon2017.\n",
      "No z=2.75 data in duncan2014.\n",
      "No z=2.75 data in moustakas2013.\n",
      "No z=2.75 data in marchesini2009_10.\n",
      "No z=2.75 data in perez2008.\n",
      "No z=3.5 data in song2016.\n",
      "No z=3.5 data in stefanon2017.\n",
      "No z=3.5 data in duncan2014.\n",
      "No z=3.5 data in tomczak2014.\n",
      "No z=3.5 data in moustakas2013.\n",
      "No z=3.5 data in mortlock2011.\n",
      "No z=3.5 data in perez2008.\n"
     ]
    }
   ],
   "source": [
    "# Independent variables\n",
    "# redshifts = np.array([0.35, 0.875, 1.125, 1.75, 2.25, 2.75])\n",
    "redshifts = np.sort(np.array([0.35, 0.875, 1.125, 1.75, 2.25, 2.75, 1.65, 2.5, 3.5, 0.10165, 0.25, 0.45, 0.575, 0.725, 0.9]))\n",
    "\n",
    "Ms = getMasses(redshifts)\n",
    "\n",
    "# print(Ms)\n",
    "\n",
    "# blob 1: the smf\n",
    "blob_n1 = ['galaxy_smf']\n",
    "blob_i1 = [('z', redshifts), ('bins', Ms)]\n",
    "blob_f1 = ['StellarMassFunction']"
   ]
  },
  {
   "cell_type": "code",
   "execution_count": 44,
   "metadata": {},
   "outputs": [],
   "source": [
    "blob_pars = \\\n",
    "{\n",
    " 'blob_names': [blob_n1],\n",
    " 'blob_ivars': [blob_i1],\n",
    " 'blob_funcs': [blob_f1],\n",
    " 'blob_kwargs': [None],\n",
    "}"
   ]
  },
  {
   "cell_type": "code",
   "execution_count": 45,
   "metadata": {},
   "outputs": [],
   "source": [
    "#define the parameters that remain unchanged\n",
    "base_pars = ares.util.ParameterBundle('emma:model1')\n",
    "base_pars.update(blob_pars)\n",
    "\n",
    "# print(base_pars)\n",
    "# This is important!\n",
    "# base_pars['pop_calib_lum'] = None"
   ]
  },
  {
   "cell_type": "code",
   "execution_count": 46,
   "metadata": {},
   "outputs": [],
   "source": [
    "free_pars = \\\n",
    "[\n",
    "    'pq_func_par0[0]',\n",
    "    'pq_func_par2[0]', \n",
    "\n",
    "    #norm\n",
    "    'pq_func_par0[1]',\n",
    "    'pq_func_par2[1]', \n",
    "\n",
    "    #gamma\n",
    "    'pq_func_par0[2]',\n",
    "    'pq_func_par2[2]', \n",
    "\n",
    "    #peak mass\n",
    "    'pq_func_par0[3]',\n",
    "    'pq_func_par2[3]', \n",
    "]\n",
    "\n",
    "is_log = [False, False, False, False, False, False, False, False]\n",
    "\n",
    "from distpy.distribution import UniformDistribution\n",
    "from distpy.distribution import DistributionSet\n",
    "\n",
    "ps = DistributionSet()\n",
    "ps.add_distribution(UniformDistribution(0, 4), 'pq_func_par0[0]')\n",
    "ps.add_distribution(UniformDistribution(-1, 1),  'pq_func_par2[0]')\n",
    "\n",
    "ps.add_distribution(UniformDistribution(0.001, 2),   'pq_func_par0[1]')\n",
    "ps.add_distribution(UniformDistribution(-1, 1),  'pq_func_par2[1]')\n",
    "\n",
    "ps.add_distribution(UniformDistribution(0, .9),   'pq_func_par0[2]')\n",
    "ps.add_distribution(UniformDistribution(-3, -0.01),  'pq_func_par2[2]')\n",
    "\n",
    "ps.add_distribution(UniformDistribution(10.0, 14.0),   'pq_func_par0[3]')\n",
    "ps.add_distribution(UniformDistribution(0, 2),  'pq_func_par2[3]')"
   ]
  },
  {
   "cell_type": "code",
   "execution_count": 47,
   "metadata": {},
   "outputs": [],
   "source": [
    "#From Moster2010, table 7\n",
    "logM_0 = 11.88 #(0.01)\n",
    "mu = 0.019 #(0.002)\n",
    "N_0 = 0.0282 #(0.0003)\n",
    "nu = -0.72 #(0.06)\n",
    "gamma_0 = 0.556 #0.001\n",
    "gamma_1 = -0.26 #(0.05)\n",
    "beta_0 = 1.06 #(0.06)\n",
    "beta_1 = 0.17 #(0.12)\n",
    "\n",
    "guesses = \\\n",
    "{\n",
    "    'pq_func_par0[0]': beta_0,\n",
    "    'pq_func_par2[0]': beta_1, \n",
    "\n",
    "    #norm\n",
    "    'pq_func_par0[1]': N_0,\n",
    "    'pq_func_par2[1]': nu, \n",
    "\n",
    "    #gamma\n",
    "    'pq_func_par0[2]': gamma_0,\n",
    "    'pq_func_par2[2]': gamma_1, \n",
    "\n",
    "    #peak mass\n",
    "    'pq_func_par0[3]': logM_0,\n",
    "    'pq_func_par2[3]': mu, \n",
    "}"
   ]
  },
  {
   "cell_type": "code",
   "execution_count": 48,
   "metadata": {},
   "outputs": [
    {
     "name": "stdout",
     "output_type": "stream",
     "text": [
      "# Loaded $ARES/input/hmf/hmf_ST_planck_TTTEEE_lowl_lowE_best_logM_1400_4-18_z_1201_0-60.hdf5.\n"
     ]
    },
    {
     "data": {
      "image/png": "[encoded data removed]",
      "text/plain": [
       "<Figure size 432x288 with 1 Axes>"
      ]
     },
     "metadata": {
      "needs_background": "light"
     },
     "output_type": "display_data"
    }
   ],
   "source": [
    "# base_pars\n",
    "# Ms = np.logspace(7, 12, 60)\n",
    "\n",
    "base_pars.update(guesses)\n",
    "pop = ares.populations.GalaxyPopulation(**base_pars)\n",
    "\n",
    "z = 1\n",
    "\n",
    "smf = pop.StellarMassFunction(z, Ms)\n",
    "pl.loglog(Ms, smf, label='guess')\n",
    "data.PlotSMF(z=z, round_z=0.2)\n",
    "\n",
    "pl.legend()\n",
    "pl.show()"
   ]
  },
  {
   "cell_type": "code",
   "execution_count": 49,
   "metadata": {},
   "outputs": [],
   "source": [
    "# Initialize a fitter object and give it the data to be fit\n",
    "fitter_smf = ares.inference.FitGalaxyPopulation(**base_pars)\n",
    "\n",
    "fitter_smf.include.append('smf')\n",
    "\n",
    "# The data can also be provided more explicitly\n",
    "#I seem to need this or else the run throws error: Must set data by hand! \n",
    "# fitter_lf.redshifts = {‘lf’: [5.9]}\n",
    "fitter_smf.data = 'tomczak2014',  'mortlock2011', 'moustakas2013', 'marchesini2009_10'\n",
    "#higher z\n",
    "# fitter_smf.data = 'song2016', 'stefanon2017', 'duncan2014'\n",
    "\n",
    "# print(fitter_smf.data)"
   ]
  },
  {
   "cell_type": "code",
   "execution_count": 50,
   "metadata": {},
   "outputs": [],
   "source": [
    "fitter = ares.inference.ModelFit(**base_pars)\n",
    "fitter.add_fitter(fitter_smf)\n",
    "\n",
    "# Establish the object to which we'll pass parameters\n",
    "from ares.populations.GalaxyHOD import GalaxyHOD\n",
    "fitter.simulator = GalaxyHOD"
   ]
  },
  {
   "cell_type": "code",
   "execution_count": 51,
   "metadata": {},
   "outputs": [],
   "source": [
    "# print(fitter.blob_names)\n",
    "# print(fitter.blob_ivars)\n",
    "# print(fitter.blob_funcs, fitter.blob_kwargs)\n"
   ]
  },
  {
   "cell_type": "code",
   "execution_count": 71,
   "metadata": {},
   "outputs": [
    {
     "name": "stdout",
     "output_type": "stream",
     "text": [
      "# Fixing position of walker 10 (parameter pq_func_par2[3])\n",
      "# Moved from -0.014257188776467141 to 0.01800634519245269\n"
     ]
    }
   ],
   "source": [
    "fitter.save_hmf = True  # cache HMF for a speed-up!\n",
    "fitter.save_psm = True  # cache source SED model (e.g., BPASS, S99)\n",
    "\n",
    "# Setting this flag to False will make ARES generate new files for each checkpoint.\n",
    "fitter.checkpoint_append = False\n",
    "\n",
    "fitter.parameters = free_pars\n",
    "fitter.is_log = is_log\n",
    "fitter.prior_set = ps\n",
    "\n",
    "# In general, the more the merrier (~hundreds)\n",
    "fitter.nwalkers = 20\n",
    "\n",
    "# fitter.jitter = [0.1] * len(fitter.parameters)\n",
    "fitter.jitter = [0.01, 0.01, 0.001, 0.005, 0.01, 0.01, 0.08, 0.01]\n",
    "# fitter.jitter = [0.1, 0.1, 0.01, 0.05, 0.1, 0.1, 0.8, 0.1]\n",
    "\n",
    "fitter.guesses = guesses\n",
    "# fitter.debug('True')\n",
    "# fitter.pops\n",
    "# nwalkers"
   ]
  },
  {
   "cell_type": "code",
   "execution_count": 72,
   "metadata": {},
   "outputs": [
    {
     "name": "stdout",
     "output_type": "stream",
     "text": [
      "# Loaded $ARES/input/hmf/hmf_ST_planck_TTTEEE_lowl_lowE_best_logM_1400_4-18_z_1201_0-60.hdf5.\n",
      "# Loaded $ARES/input/hmf/hmf_ST_planck_TTTEEE_lowl_lowE_best_logM_1400_4-18_z_1201_0-60.hdf5.\n",
      "# Loaded $ARES/input/hmf/hmf_ST_planck_TTTEEE_lowl_lowE_best_logM_1400_4-18_z_1201_0-60.hdf5.\n",
      "# Loaded $ARES/input/hmf/hmf_ST_planck_TTTEEE_lowl_lowE_best_logM_1400_4-18_z_1201_0-60.hdf5.\n",
      "# Loaded $ARES/input/hmf/hmf_ST_planck_TTTEEE_lowl_lowE_best_logM_1400_4-18_z_1201_0-60.hdf5.\n",
      "# Loaded $ARES/input/hmf/hmf_ST_planck_TTTEEE_lowl_lowE_best_logM_1400_4-18_z_1201_0-60.hdf5.\n",
      "# Loaded $ARES/input/hmf/hmf_ST_planck_TTTEEE_lowl_lowE_best_logM_1400_4-18_z_1201_0-60.hdf5.\n",
      "# Loaded $ARES/input/hmf/hmf_ST_planck_TTTEEE_lowl_lowE_best_logM_1400_4-18_z_1201_0-60.hdf5.\n",
      "# Loaded $ARES/input/hmf/hmf_ST_planck_TTTEEE_lowl_lowE_best_logM_1400_4-18_z_1201_0-60.hdf5.\n",
      "# Loaded $ARES/input/hmf/hmf_ST_planck_TTTEEE_lowl_lowE_best_logM_1400_4-18_z_1201_0-60.hdf5.\n",
      "# Loaded $ARES/input/hmf/hmf_ST_planck_TTTEEE_lowl_lowE_best_logM_1400_4-18_z_1201_0-60.hdf5.\n",
      "# Loaded $ARES/input/hmf/hmf_ST_planck_TTTEEE_lowl_lowE_best_logM_1400_4-18_z_1201_0-60.hdf5.\n",
      "# Loaded $ARES/input/hmf/hmf_ST_planck_TTTEEE_lowl_lowE_best_logM_1400_4-18_z_1201_0-60.hdf5.\n",
      "# Loaded $ARES/input/hmf/hmf_ST_planck_TTTEEE_lowl_lowE_best_logM_1400_4-18_z_1201_0-60.hdf5.\n",
      "# Loaded $ARES/input/hmf/hmf_ST_planck_TTTEEE_lowl_lowE_best_logM_1400_4-18_z_1201_0-60.hdf5.\n",
      "# Loaded $ARES/input/hmf/hmf_ST_planck_TTTEEE_lowl_lowE_best_logM_1400_4-18_z_1201_0-60.hdf5.\n",
      "# Loaded $ARES/input/hmf/hmf_ST_planck_TTTEEE_lowl_lowE_best_logM_1400_4-18_z_1201_0-60.hdf5.\n",
      "# Loaded $ARES/input/hmf/hmf_ST_planck_TTTEEE_lowl_lowE_best_logM_1400_4-18_z_1201_0-60.hdf5.\n",
      "# Loaded $ARES/input/hmf/hmf_ST_planck_TTTEEE_lowl_lowE_best_logM_1400_4-18_z_1201_0-60.hdf5.\n",
      "# Loaded $ARES/input/hmf/hmf_ST_planck_TTTEEE_lowl_lowE_best_logM_1400_4-18_z_1201_0-60.hdf5.\n"
     ]
    },
    {
     "data": {
      "image/png": "[encoded data removed]",
      "text/plain": [
       "<Figure size 432x288 with 1 Axes>"
      ]
     },
     "metadata": {
      "needs_background": "light"
     },
     "output_type": "display_data"
    }
   ],
   "source": [
    "z = 3.5\n",
    "# 2.5, 3.5\n",
    "\n",
    "for w in fitter.guesses[:20]:\n",
    "#     print(w)\n",
    "    \n",
    "    pars_ch = {}\n",
    "    for i in range(len(w)):\n",
    "        pars_ch[free_pars[i]] = w[i]\n",
    "        \n",
    "    base_pars.update(pars_ch)\n",
    "    pop = ares.populations.GalaxyPopulation(**base_pars)\n",
    "\n",
    "    smf = pop.StellarMassFunction(z, Ms)\n",
    "    pl.loglog(Ms, smf)#, label='guess')\n",
    "\n",
    "data.PlotSMF(z=z, round_z=0.2)\n",
    "\n",
    "pl.legend()\n",
    "pl.show()\n",
    "    "
   ]
  },
  {
   "cell_type": "code",
   "execution_count": null,
   "metadata": {},
   "outputs": [],
   "source": []
  }
 ],
 "metadata": {
  "kernelspec": {
   "display_name": "Python 3",
   "language": "python",
   "name": "python3"
  },
  "language_info": {
   "codemirror_mode": {
    "name": "ipython",
    "version": 3
   },
   "file_extension": ".py",
   "mimetype": "text/x-python",
   "name": "python",
   "nbconvert_exporter": "python",
   "pygments_lexer": "ipython3",
   "version": "3.7.4"
  }
 },
 "nbformat": 4,
 "nbformat_minor": 4
}

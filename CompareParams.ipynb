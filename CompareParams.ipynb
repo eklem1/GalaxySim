{
 "cells": [
  {
   "cell_type": "code",
   "execution_count": 151,
   "metadata": {},
   "outputs": [],
   "source": [
    "\"\"\"\n",
    "July 22, 2020\n",
    "\n",
    "Comparing parameter results of MCMCs.\n",
    "\"\"\"\n",
    "\n",
    "import ares\n",
    "import numpy as np\n",
    "import matplotlib.pyplot as pl\n",
    "from matplotlib.patches import Rectangle\n",
    "import itertools"
   ]
  },
  {
   "cell_type": "code",
   "execution_count": 153,
   "metadata": {},
   "outputs": [],
   "source": [
    "params = \\\n",
    "['pq_func_par0[0]',\n",
    "    'pq_func_par2[0]', \n",
    "\n",
    "    #norm\n",
    "    'pq_func_par0[1]',\n",
    "    'pq_func_par2[1]', \n",
    "\n",
    "    #gamma\n",
    "    'pq_func_par0[2]',\n",
    "    'pq_func_par2[2]', \n",
    "\n",
    "    #peak mass\n",
    "    'pq_func_par0[3]',\n",
    "    'pq_func_par2[3]',\n",
    "     \n",
    "    'pq_func_par0[0]_err',\n",
    "    'pq_func_par2[0]_err', \n",
    "\n",
    "    #norm\n",
    "    'pq_func_par0[1]_err',\n",
    "    'pq_func_par2[1]_err', \n",
    "\n",
    "    #gamma\n",
    "    'pq_func_par0[2]_err',\n",
    "    'pq_func_par2[2]_err', \n",
    "\n",
    "    #peak mass\n",
    "    'pq_func_par0[3]_err',\n",
    "    'pq_func_par2[3]_err' \n",
    "]\n",
    "\n",
    "labels = \\\n",
    "{\n",
    "    'pq_func_par0[0]': 'beta_0',\n",
    "    'pq_func_par2[0]': 'beta_1', \n",
    "\n",
    "    #norm\n",
    "    'pq_func_par0[1]': 'N_0',\n",
    "    'pq_func_par2[1]': 'nu', \n",
    "\n",
    "    #gamma\n",
    "    'pq_func_par0[2]': 'gamma_0',\n",
    "    'pq_func_par2[2]': 'gamma_1', \n",
    "\n",
    "    #peak mass\n",
    "    'pq_func_par0[3]': 'logM_0',\n",
    "    'pq_func_par2[3]': 'mu', \n",
    "}"
   ]
  },
  {
   "cell_type": "code",
   "execution_count": 63,
   "metadata": {},
   "outputs": [],
   "source": [
    "def getData(text):\n",
    "    results = np.loadtxt(text, delimiter=',')\n",
    "    runs = int(len(results)/9)\n",
    "\n",
    "    results = np.reshape(results, (runs, 9, 3))\n",
    "    \n",
    "    #make a dictionary for easy access\n",
    "    resDict = {}\n",
    "\n",
    "    for e in results:\n",
    "        \n",
    "        pars_update = {}\n",
    "\n",
    "        resDict[str(e[0][0])] = {}\n",
    "\n",
    "        resDict[str(e[0][0])]['zLow'] = e[0][1]\n",
    "        resDict[str(e[0][0])]['zHigh'] = e[0][2]\n",
    "\n",
    "        for i in range(1, 9):\n",
    "            resDict[str(e[0][0])][params[i-1]] = e[i][0]\n",
    "            pars_update[params[i-1]] = e[i][0]\n",
    "        for i in range(1, 9):\n",
    "            resDict[str(e[0][0])][params[i+7]] = e[i][1:]\n",
    "            \n",
    "        #and a galaxyHOD object for plotting\n",
    "        pars = ares.util.ParameterBundle(\"emma:model1\")\n",
    "\n",
    "        pars.update(pars_update)\n",
    "        \n",
    "        resDict[str(e[0][0])][\"pop\"] = ares.populations.GalaxyPopulation(**pars)\n",
    "            \n",
    "    return resDict"
   ]
  },
  {
   "cell_type": "code",
   "execution_count": 173,
   "metadata": {},
   "outputs": [],
   "source": [
    "colors = ['blue', 'orange', 'teal', 'darkgreen', 'purple', 'cyan', 'crimson', 'violet']\n",
    "\n",
    "pars = ares.util.ParameterBundle(\"emma:model1\")\n",
    "popPaper = ares.populations.GalaxyPopulation(**pars)\n",
    "\n",
    "def plotSMF(DataD, z):\n",
    "    pl.figure(figsize=(8, 5))\n",
    "    Ms = np.linspace(7, 12, 80)\n",
    "\n",
    "    obslf = ares.analysis.GalaxyPopulation()\n",
    "    ax = obslf.PlotSMF(z=z, round_z=0.2, log10Mass=True)\n",
    "\n",
    "    for i, e in enumerate(DataD):\n",
    "\n",
    "        smf = DataD[e]['pop'].StellarMassFunction(z, Ms)\n",
    "        Zrange =\"{0}-{1}\".format(DataD[e]['zLow'], DataD[e]['zHigh'])\n",
    "\n",
    "        ax.semilogy(Ms, smf, label=Zrange, color=colors[i])\n",
    "\n",
    "    pl.title(\"z = %.2f\" %z)\n",
    "    pl.legend()\n",
    "    # pl.ylim(1e-15, 1e2)\n",
    "    pl.show()\n",
    "    \n",
    "def plotParams(DataD, err=True, paper=True):\n",
    "    #don't trust error bars here as the signs are weird so I just abs. them all\n",
    "\n",
    "    fig, axs = pl.subplots(2, 4, figsize=(16, 10))\n",
    "\n",
    "    for i, ax in enumerate(axs.flat):\n",
    "        for j, e in enumerate(DataD): \n",
    "            ax.hlines(y=DataD[e][params[i]], xmin=DataD[e]['zLow'], xmax=DataD[e]['zHigh'], color=colors[j])\n",
    "\n",
    "    #         print(DataD[e]['zLow'], DataD[e]['zHigh'], DataD[e][params[i]])\n",
    "    #         ax.axhspan(ymin=DataD[e][params[i]]-DataD[e][params[i+8]][0], ymax=DataD[e][params[i]]+DataD[e][params[i+8]][1], xmin=testData[e]['zLow'],\\\n",
    "    #                    xmax=DataD[e]['zHigh'], alpha=0.2, color=colors[j])\n",
    "\n",
    "    #         print(DataD[e][params[i]]-np.abs(DataD[e][params[i+8]][0]), np.abs(DataD[e][params[i+8]][1])-np.abs(DataD[e][params[i+8]][0]))\n",
    "    #         print(DataD[e][params[i+8]][0], DataD[e][params[i+8]][1])\n",
    "\n",
    "            if err:\n",
    "                rect = Rectangle((DataD[e]['zLow'], DataD[e][params[i]]-np.abs(DataD[e][params[i+8]][0])), \n",
    "                                 width=DataD[e]['zHigh']-DataD[e]['zLow'], \n",
    "                                 height=np.abs(DataD[e][params[i+8]][1])+np.abs(DataD[e][params[i+8]][0]), color=colors[j], alpha=0.2)\n",
    "                ax.add_patch(rect)\n",
    "\n",
    "            ax.set_title(labels[params[i]])\n",
    "            \n",
    "            if paper:\n",
    "                ax.hlines(y=pars[params[i]], xmin=0, xmax=3.5, color='black', ls=\"--\")\n",
    "                \n",
    "\n",
    "        ax.set(xlabel='z')#, ylabel='Val')\n",
    "        ax.set_xlim(0, 4)\n",
    "    pl.show()\n",
    "    "
   ]
  },
  {
   "cell_type": "code",
   "execution_count": 171,
   "metadata": {},
   "outputs": [],
   "source": [
    "text = \"CedarScripts/testingP.txt\"\n",
    "\n",
    "testData = getData(text)"
   ]
  },
  {
   "cell_type": "code",
   "execution_count": null,
   "metadata": {},
   "outputs": [],
   "source": [
    "plotSMF(testData, 4.0)"
   ]
  },
  {
   "cell_type": "code",
   "execution_count": 174,
   "metadata": {},
   "outputs": [
    {
     "data": {
      "image/png": "[encoded data removed]",
      "text/plain": [
       "<Figure size 1152x720 with 8 Axes>"
      ]
     },
     "metadata": {
      "needs_background": "light"
     },
     "output_type": "display_data"
    }
   ],
   "source": [
    "plotParams(testData, err=True)"
   ]
  },
  {
   "cell_type": "code",
   "execution_count": null,
   "metadata": {},
   "outputs": [],
   "source": []
  }
 ],
 "metadata": {
  "kernelspec": {
   "display_name": "Python 3",
   "language": "python",
   "name": "python3"
  },
  "language_info": {
   "codemirror_mode": {
    "name": "ipython",
    "version": 3
   },
   "file_extension": ".py",
   "mimetype": "text/x-python",
   "name": "python",
   "nbconvert_exporter": "python",
   "pygments_lexer": "ipython3",
   "version": "3.7.4"
  }
 },
 "nbformat": 4,
 "nbformat_minor": 4
}

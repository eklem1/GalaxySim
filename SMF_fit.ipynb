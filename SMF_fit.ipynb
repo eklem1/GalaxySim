{
 "cells": [
  {
   "cell_type": "code",
   "execution_count": 1,
   "metadata": {},
   "outputs": [],
   "source": [
    "import ares\n",
    "import numpy as np\n",
    "import matplotlib.pyplot as pl\n",
    "import distpy"
   ]
  },
  {
   "cell_type": "code",
   "execution_count": 106,
   "metadata": {},
   "outputs": [],
   "source": [
    "#could add sources so only those used to fit are considered\n",
    "def getMasses(redshifts):\n",
    "    data = ares.analysis.GalaxyPopulation()\n",
    "\n",
    "    Ms = []\n",
    "    for z in redshifts:\n",
    "        data_info = data.compile_data(z, quantity='smf')\n",
    "\n",
    "        # print(data_info)\n",
    "\n",
    "        mass = []\n",
    "        for i in data_info:\n",
    "    #         mass.append(data_info[i][\"M\"][~data_info[i][\"M\"].mask])\n",
    "            mass.extend(data_info[i][\"M\"].compressed())\n",
    "\n",
    "        Ms.extend(mass)\n",
    "\n",
    "    Ms = list(set(Ms))\n",
    "    Ms = np.sort(Ms)\n",
    "    return Ms"
   ]
  },
  {
   "cell_type": "code",
   "execution_count": 152,
   "metadata": {},
   "outputs": [
    {
     "name": "stdout",
     "output_type": "stream",
     "text": [
      "No z=0.10165 data in song2016.\n",
      "No z=0.10165 data in stefanon2017.\n",
      "No z=0.10165 data in duncan2014.\n",
      "No z=0.10165 data in tomczak2014.\n",
      "No z=0.10165 data in mortlock2011.\n",
      "No z=0.10165 data in marchesini2009_10.\n",
      "No z=0.10165 data in perez2008.\n",
      "No z=0.25 data in song2016.\n",
      "No z=0.25 data in stefanon2017.\n",
      "No z=0.25 data in duncan2014.\n",
      "No z=0.25 data in tomczak2014.\n",
      "No z=0.25 data in mortlock2011.\n",
      "No z=0.25 data in marchesini2009_10.\n",
      "No z=0.25 data in perez2008.\n",
      "No z=0.35 data in song2016.\n",
      "No z=0.35 data in stefanon2017.\n",
      "No z=0.35 data in duncan2014.\n",
      "No z=0.35 data in mortlock2011.\n",
      "No z=0.35 data in marchesini2009_10.\n",
      "No z=0.35 data in perez2008.\n",
      "No z=0.45 data in song2016.\n",
      "No z=0.45 data in stefanon2017.\n",
      "No z=0.45 data in duncan2014.\n",
      "No z=0.45 data in tomczak2014.\n",
      "No z=0.45 data in mortlock2011.\n",
      "No z=0.45 data in marchesini2009_10.\n",
      "No z=0.45 data in perez2008.\n",
      "No z=0.575 data in song2016.\n",
      "No z=0.575 data in stefanon2017.\n",
      "No z=0.575 data in duncan2014.\n",
      "No z=0.575 data in tomczak2014.\n",
      "No z=0.575 data in mortlock2011.\n",
      "No z=0.575 data in marchesini2009_10.\n",
      "No z=0.575 data in perez2008.\n",
      "No z=0.725 data in song2016.\n",
      "No z=0.725 data in stefanon2017.\n",
      "No z=0.725 data in duncan2014.\n",
      "No z=0.725 data in tomczak2014.\n",
      "No z=0.725 data in mortlock2011.\n",
      "No z=0.725 data in marchesini2009_10.\n",
      "No z=0.725 data in perez2008.\n",
      "No z=0.875 data in song2016.\n",
      "No z=0.875 data in stefanon2017.\n",
      "No z=0.875 data in duncan2014.\n",
      "No z=0.875 data in moustakas2013.\n",
      "No z=0.875 data in mortlock2011.\n",
      "No z=0.875 data in marchesini2009_10.\n",
      "No z=0.875 data in perez2008.\n",
      "No z=0.9 data in song2016.\n",
      "No z=0.9 data in stefanon2017.\n",
      "No z=0.9 data in duncan2014.\n",
      "No z=0.9 data in tomczak2014.\n",
      "No z=0.9 data in mortlock2011.\n",
      "No z=0.9 data in marchesini2009_10.\n",
      "No z=1.125 data in song2016.\n",
      "No z=1.125 data in stefanon2017.\n",
      "No z=1.125 data in duncan2014.\n",
      "No z=1.125 data in moustakas2013.\n",
      "No z=1.125 data in mortlock2011.\n",
      "No z=1.125 data in marchesini2009_10.\n",
      "No z=1.125 data in perez2008.\n",
      "No z=1.65 data in song2016.\n",
      "No z=1.65 data in stefanon2017.\n",
      "No z=1.65 data in duncan2014.\n",
      "No z=1.65 data in tomczak2014.\n",
      "No z=1.65 data in moustakas2013.\n",
      "No z=1.65 data in mortlock2011.\n",
      "No z=1.65 data in perez2008.\n",
      "No z=1.75 data in song2016.\n",
      "No z=1.75 data in stefanon2017.\n",
      "No z=1.75 data in duncan2014.\n",
      "No z=1.75 data in moustakas2013.\n",
      "No z=1.75 data in marchesini2009_10.\n",
      "No z=1.75 data in perez2008.\n",
      "No z=2.25 data in song2016.\n",
      "No z=2.25 data in stefanon2017.\n",
      "No z=2.25 data in duncan2014.\n",
      "No z=2.25 data in moustakas2013.\n",
      "No z=2.25 data in marchesini2009_10.\n",
      "No z=2.25 data in perez2008.\n",
      "No z=2.5 data in song2016.\n",
      "No z=2.5 data in stefanon2017.\n",
      "No z=2.5 data in duncan2014.\n",
      "No z=2.5 data in tomczak2014.\n",
      "No z=2.5 data in moustakas2013.\n",
      "No z=2.5 data in mortlock2011.\n",
      "No z=2.5 data in perez2008.\n",
      "No z=2.75 data in song2016.\n",
      "No z=2.75 data in stefanon2017.\n",
      "No z=2.75 data in duncan2014.\n",
      "No z=2.75 data in moustakas2013.\n",
      "No z=2.75 data in marchesini2009_10.\n",
      "No z=2.75 data in perez2008.\n",
      "No z=3.5 data in song2016.\n",
      "No z=3.5 data in stefanon2017.\n",
      "No z=3.5 data in duncan2014.\n",
      "No z=3.5 data in tomczak2014.\n",
      "No z=3.5 data in moustakas2013.\n",
      "No z=3.5 data in mortlock2011.\n",
      "No z=3.5 data in perez2008.\n"
     ]
    }
   ],
   "source": [
    "# Independent variables\n",
    "# redshifts = np.array([0.35, 0.875, 1.125, 1.75, 2.25, 2.75])\n",
    "redshifts = np.sort(np.array([0.35, 0.875, 1.125, 1.75, 2.25, 2.75, 1.65, 2.5, 3.5, 0.10165, 0.25, 0.45, 0.575, 0.725, 0.9]))\n",
    "\n",
    "# redshifts = np.array([4, 5, 6, 7, 8])\n",
    "\n",
    "# [0.10165, 0.25, 0.35, 0.45, 0.575, 0.725, 0.9][1.65, 2.5, 3.5]\n",
    "# Ms = np.logspace(7, 12, 60)\n",
    "Ms = getMasses(redshifts)\n",
    "\n",
    "# print(Ms)\n",
    "\n",
    "# blob 1: the LF. Give it a name, and the function needed to calculate it.\n",
    "blob_n1 = ['galaxy_smf']\n",
    "blob_i1 = [('z', redshifts), ('bins', Ms)]\n",
    "blob_f1 = ['StellarMassFunction']"
   ]
  },
  {
   "cell_type": "code",
   "execution_count": 153,
   "metadata": {},
   "outputs": [],
   "source": [
    "blob_pars = \\\n",
    "{\n",
    " 'blob_names': [blob_n1],\n",
    " 'blob_ivars': [blob_i1],\n",
    " 'blob_funcs': [blob_f1],\n",
    " 'blob_kwargs': [None],\n",
    "}"
   ]
  },
  {
   "cell_type": "code",
   "execution_count": 154,
   "metadata": {},
   "outputs": [],
   "source": [
    "#define the parameters that remain unchanged\n",
    "base_pars = ares.util.ParameterBundle('emma:model1')\n",
    "base_pars.update(blob_pars)\n",
    "base_pars.update({'progress_bar': True, 'debug':True})\n",
    "\n",
    "\n",
    "# This is important!\n",
    "# base_pars['pop_calib_lum'] = None"
   ]
  },
  {
   "cell_type": "code",
   "execution_count": 155,
   "metadata": {},
   "outputs": [],
   "source": [
    "free_pars = \\\n",
    "[\n",
    "    'pq_func_par0[0]',\n",
    "    'pq_func_par2[0]', \n",
    "\n",
    "    #norm\n",
    "    'pq_func_par0[1]',\n",
    "    'pq_func_par2[1]', \n",
    "\n",
    "    #gamma\n",
    "    'pq_func_par0[2]',\n",
    "    'pq_func_par2[2]', \n",
    "\n",
    "    #peak mass\n",
    "    'pq_func_par0[3]',\n",
    "    'pq_func_par2[3]', \n",
    "]\n",
    "\n",
    "is_log = [False, False, False, False, False, False, False, False]\n",
    "\n",
    "from distpy.distribution import UniformDistribution\n",
    "from distpy.distribution import DistributionSet\n",
    "\n",
    "ps = DistributionSet()\n",
    "ps.add_distribution(UniformDistribution(0, 4), 'pq_func_par0[0]')\n",
    "ps.add_distribution(UniformDistribution(-1, 1),  'pq_func_par2[0]')\n",
    "\n",
    "ps.add_distribution(UniformDistribution(0.001, 2),   'pq_func_par0[1]')\n",
    "ps.add_distribution(UniformDistribution(-1, 1),  'pq_func_par2[1]')\n",
    "\n",
    "ps.add_distribution(UniformDistribution(0, .9),   'pq_func_par0[2]')\n",
    "ps.add_distribution(UniformDistribution(-3, -0.01),  'pq_func_par2[2]')\n",
    "\n",
    "ps.add_distribution(UniformDistribution(10.0, 14.0),   'pq_func_par0[3]')\n",
    "ps.add_distribution(UniformDistribution(0, 2),  'pq_func_par2[3]')"
   ]
  },
  {
   "cell_type": "code",
   "execution_count": 156,
   "metadata": {},
   "outputs": [],
   "source": [
    "#From Moster2010, table 7\n",
    "logM_0 = 11.88 #(0.01)\n",
    "mu = 0.019 #(0.002)\n",
    "N_0 = 0.0282 #(0.0003)\n",
    "nu = -0.72 #(0.06)\n",
    "gamma_0 = 0.556 #0.001\n",
    "gamma_1 = -0.26 #(0.05)\n",
    "beta_0 = 1.06 #(0.06)\n",
    "beta_1 = 0.17 #(0.12)\n",
    "\n",
    "guesses = \\\n",
    "{\n",
    "    'pq_func_par0[0]': beta_0,\n",
    "    'pq_func_par2[0]': beta_1, \n",
    "\n",
    "    #norm\n",
    "    'pq_func_par0[1]': N_0,\n",
    "    'pq_func_par2[1]': nu, \n",
    "\n",
    "    #gamma\n",
    "    'pq_func_par0[2]': gamma_0,\n",
    "    'pq_func_par2[2]': gamma_1, \n",
    "\n",
    "    #peak mass\n",
    "    'pq_func_par0[3]': logM_0,\n",
    "    'pq_func_par2[3]': mu, \n",
    "}"
   ]
  },
  {
   "cell_type": "code",
   "execution_count": 157,
   "metadata": {},
   "outputs": [],
   "source": [
    "# Initialize a fitter object and give it the data to be fit\n",
    "fitter_smf = ares.inference.FitGalaxyPopulation(**base_pars)\n",
    "\n",
    "fitter_smf.include.append('smf')\n",
    "\n",
    "# The data can also be provided more explicitly\n",
    "#I seem to need this or else the run throws error: Must set data by hand! \n",
    "# fitter_lf.redshifts = {‘lf’: [5.9]}\n",
    "fitter_smf.data = 'tomczak2014',  'mortlock2011', 'moustakas2013', 'marchesini2009_10'\n",
    "#higher z\n",
    "# fitter_smf.data = 'song2016', 'stefanon2017', 'duncan2014'\n",
    "\n",
    "# print(fitter_smf.data)"
   ]
  },
  {
   "cell_type": "code",
   "execution_count": 158,
   "metadata": {},
   "outputs": [],
   "source": [
    "fitter = ares.inference.ModelFit(**base_pars)\n",
    "fitter.add_fitter(fitter_smf)\n",
    "\n",
    "# Establish the object to which we'll pass parameters\n",
    "from ares.populations.GalaxyHOD import GalaxyHOD\n",
    "fitter.simulator = GalaxyHOD"
   ]
  },
  {
   "cell_type": "code",
   "execution_count": 159,
   "metadata": {},
   "outputs": [],
   "source": [
    "# print(fitter.blob_names)\n",
    "# print(fitter.blob_ivars)\n",
    "# print(fitter.blob_funcs, fitter.blob_kwargs)\n"
   ]
  },
  {
   "cell_type": "code",
   "execution_count": 160,
   "metadata": {},
   "outputs": [
    {
     "name": "stdout",
     "output_type": "stream",
     "text": [
      "# Fixing position of walker 18 (parameter pq_func_par0[2])\n",
      "# Moved from 0.9167267301146598 to 0.45244362145103345\n",
      "# Fixing position of walker 2 (parameter pq_func_par2[3])\n",
      "# Moved from -0.0022261863095220137 to 0.006041047612621571\n",
      "# Fixing position of walker 4 (parameter pq_func_par2[3])\n",
      "# Moved from -0.034971671863125844 to 0.052800846400526236\n",
      "# Fixing position of walker 5 (parameter pq_func_par2[3])\n",
      "# Moved from -0.08268652944644724 to 0.04373963604861085\n",
      "# Fixing position of walker 6 (parameter pq_func_par2[3])\n",
      "# Moved from -0.07093471122543624 to 0.011373544141491627\n",
      "# Fixing position of walker 7 (parameter pq_func_par2[3])\n",
      "# Moved from -0.020615822722809613 to 0.1456277737083286\n",
      "# Fixing position of walker 9 (parameter pq_func_par2[3])\n",
      "# Moved from -0.08657025605259458 to 0.05582346278099834\n",
      "# Fixing position of walker 12 (parameter pq_func_par2[3])\n",
      "# Moved from -0.012783873695922345 to 0.08756417059157111\n",
      "# Fixing position of walker 14 (parameter pq_func_par2[3])\n",
      "# Moved from -0.1044826275233732 to 0.06786282268395394\n",
      "# Fixing position of walker 15 (parameter pq_func_par2[3])\n",
      "# Moved from -0.07293845008410246 to 0.011373544141491627\n",
      "# Fixing position of walker 18 (parameter pq_func_par2[3])\n",
      "# Moved from -0.039695739833891866 to 0.04373963604861085\n",
      "# Fixing position of walker 19 (parameter pq_func_par2[3])\n",
      "# Moved from -0.02414828107285447 to 0.1344669095684972\n",
      "# Fixing position of walker 21 (parameter pq_func_par2[3])\n",
      "# Moved from -0.0358564894458932 to 0.012017811969831517\n",
      "# Fixing position of walker 23 (parameter pq_func_par2[3])\n",
      "# Moved from -0.061130779456923565 to 0.1344669095684972\n",
      "# Fixing position of walker 27 (parameter pq_func_par2[3])\n",
      "# Moved from -0.08302698329360718 to 0.1456277737083286\n",
      "# Fixing position of walker 29 (parameter pq_func_par2[3])\n",
      "# Moved from -0.15986404883830527 to 0.06573407367760778\n",
      "# Fixing position of walker 32 (parameter pq_func_par2[3])\n",
      "# Moved from -0.03293282671674169 to 0.11199550314195605\n",
      "# Fixing position of walker 48 (parameter pq_func_par2[3])\n",
      "# Moved from -0.018535056188414962 to 0.10924425620760564\n"
     ]
    }
   ],
   "source": [
    "fitter.save_hmf = True  # cache HMF for a speed-up!\n",
    "fitter.save_psm = True  # cache source SED model (e.g., BPASS, S99)\n",
    "\n",
    "# Setting this flag to False will make ARES generate new files for each checkpoint.\n",
    "fitter.checkpoint_append = False\n",
    "\n",
    "fitter.parameters = free_pars\n",
    "fitter.is_log = is_log\n",
    "fitter.prior_set = ps\n",
    "\n",
    "# In general, the more the merrier (~hundreds)\n",
    "fitter.nwalkers = 50\n",
    "\n",
    "# fitter.jitter = [0.1] * len(fitter.parameters)\n",
    "fitter.jitter = [0.1, 0.1, 0.01, 0.05, 0.1, 0.1, 0.8, 0.1]\n",
    "\n",
    "fitter.guesses = guesses\n",
    "# fitter.debug('True')\n",
    "# fitter.pops"
   ]
  },
  {
   "cell_type": "code",
   "execution_count": 161,
   "metadata": {},
   "outputs": [
    {
     "name": "stdout",
     "output_type": "stream",
     "text": [
      "Saved HaloMassFunction instance to limit I/O.\n",
      "# Starting burn-in: Thu Jun 25 13:48:29 2020\n",
      "# Wrote test_smfcal.burn.dd0000.facc.pkl: Thu Jun 25 13:54:59 2020\n",
      "# Wrote test_smfcal.burn.dd0001.facc.pkl: Thu Jun 25 13:59:24 2020\n",
      "# Wrote test_smfcal.burn.dd0002.facc.pkl: Thu Jun 25 14:04:58 2020\n",
      "# Wrote test_smfcal.burn.dd0003.facc.pkl: Thu Jun 25 14:09:32 2020\n",
      "# Wrote test_smfcal.burn.dd0004.facc.pkl: Thu Jun 25 14:14:13 2020\n",
      "# Burn-in complete in 1.54e+03 seconds.\n",
      "# Fixing position of walker 1 (parameter pq_func_par0[3])\n",
      "# Moved from 14.16781433217573 to 13.292818382717497\n",
      "# Fixing position of walker 18 (parameter pq_func_par0[3])\n",
      "# Moved from 14.088949868048756 to 13.3045849913638\n",
      "# Fixing position of walker 48 (parameter pq_func_par0[3])\n",
      "# Moved from 14.349432791199549 to 13.833555985446685\n",
      "# Starting MCMC: Thu Jun 25 14:14:14 2020\n",
      "# Wrote test_smfcal.dd0000.facc.pkl: Thu Jun 25 14:22:21 2020\n",
      "# Wrote test_smfcal.dd0001.facc.pkl: Thu Jun 25 14:29:15 2020\n",
      "# Wrote test_smfcal.dd0002.facc.pkl: Thu Jun 25 14:36:05 2020\n",
      "# Wrote test_smfcal.dd0003.facc.pkl: Thu Jun 25 14:38:50 2020\n",
      "# Wrote test_smfcal.dd0004.facc.pkl: Thu Jun 25 14:41:20 2020\n",
      "# Wrote test_smfcal.dd0005.facc.pkl: Thu Jun 25 14:43:56 2020\n",
      "# Wrote test_smfcal.dd0006.facc.pkl: Thu Jun 25 14:46:12 2020\n",
      "# Wrote test_smfcal.dd0007.facc.pkl: Thu Jun 25 14:48:25 2020\n",
      "# Wrote test_smfcal.dd0008.facc.pkl: Thu Jun 25 14:50:29 2020\n",
      "# Wrote test_smfcal.dd0009.facc.pkl: Thu Jun 25 14:52:16 2020\n",
      "# Wrote test_smfcal.dd0010.facc.pkl: Thu Jun 25 14:54:27 2020\n",
      "# Wrote test_smfcal.dd0011.facc.pkl: Thu Jun 25 14:56:46 2020\n",
      "# Wrote test_smfcal.dd0012.facc.pkl: Thu Jun 25 14:58:58 2020\n",
      "# Wrote test_smfcal.dd0013.facc.pkl: Thu Jun 25 15:01:27 2020\n",
      "FAILURE:  {'pq_func_par0[0]': 2.8856593336908496, 'pq_func_par2[0]': 0.15987702700458345, 'pq_func_par0[1]': 0.22962187421486147, 'pq_func_par2[1]': -0.5108846962536392, 'pq_func_par0[2]': 0.8840989775722332, 'pq_func_par2[2]': -2.078867319918861, 'pq_func_par0[3]': 12.611139984469554, 'pq_func_par2[3]': 1.4685474409991093}\n",
      "# Wrote test_smfcal.dd0014.facc.pkl: Thu Jun 25 15:03:40 2020\n",
      "# Wrote test_smfcal.dd0015.facc.pkl: Thu Jun 25 15:05:58 2020\n",
      "FAILURE:  {'pq_func_par0[0]': 2.870088391099359, 'pq_func_par2[0]': 0.47727603318014633, 'pq_func_par0[1]': 0.04981386227601145, 'pq_func_par2[1]': 0.09981090769721968, 'pq_func_par0[2]': 0.05977352401062799, 'pq_func_par2[2]': -0.19514412702845127, 'pq_func_par0[3]': 11.892566283373732, 'pq_func_par2[3]': 1.2695000828019332}\n",
      "# Wrote test_smfcal.dd0016.facc.pkl: Thu Jun 25 15:08:10 2020\n",
      "# Wrote test_smfcal.dd0017.facc.pkl: Thu Jun 25 15:10:31 2020\n",
      "# Wrote test_smfcal.dd0018.facc.pkl: Thu Jun 25 15:12:44 2020\n",
      "# Wrote test_smfcal.dd0019.facc.pkl: Thu Jun 25 15:14:57 2020\n",
      "FAILURE:  {'pq_func_par0[0]': 2.777912183684133, 'pq_func_par2[0]': 0.8413383661188878, 'pq_func_par0[1]': 0.02459803244689964, 'pq_func_par2[1]': 0.004031186334159109, 'pq_func_par0[2]': 0.6906040362982684, 'pq_func_par2[2]': -0.10382050326337779, 'pq_func_par0[3]': 12.823249891332553, 'pq_func_par2[3]': 1.1543683310166761}\n",
      "FAILURE:  {'pq_func_par0[0]': 2.9365317359722702, 'pq_func_par2[0]': 0.5742329835088933, 'pq_func_par0[1]': 0.03709527433647188, 'pq_func_par2[1]': 0.14695494158651823, 'pq_func_par0[2]': 0.23562628076190745, 'pq_func_par2[2]': -0.11009934661646081, 'pq_func_par0[3]': 11.77442408597092, 'pq_func_par2[3]': 1.2950997473306272}\n",
      "# Wrote test_smfcal.dd0020.facc.pkl: Thu Jun 25 15:17:08 2020\n",
      "FAILURE:  {'pq_func_par0[0]': 3.368258014500399, 'pq_func_par2[0]': 0.6725652208143273, 'pq_func_par0[1]': 0.007933232698384404, 'pq_func_par2[1]': 0.05214727430981769, 'pq_func_par0[2]': 0.23388211823117083, 'pq_func_par2[2]': -0.05541802644642961, 'pq_func_par0[3]': 11.939034643918712, 'pq_func_par2[3]': 1.1226027865095027}\n",
      "FAILURE:  {'pq_func_par0[0]': 2.9018775630833935, 'pq_func_par2[0]': 0.49259865104109407, 'pq_func_par0[1]': 0.044037054238200396, 'pq_func_par2[1]': 0.028728903443418996, 'pq_func_par0[2]': 0.03902551510851604, 'pq_func_par2[2]': -0.09523902925419966, 'pq_func_par0[3]': 11.8257681881183, 'pq_func_par2[3]': 1.2311438273548774}\n",
      "# Wrote test_smfcal.dd0021.facc.pkl: Thu Jun 25 15:19:05 2020\n",
      "# Wrote test_smfcal.dd0022.facc.pkl: Thu Jun 25 15:21:08 2020\n",
      "# Wrote test_smfcal.dd0023.facc.pkl: Thu Jun 25 15:23:23 2020\n",
      "# Wrote test_smfcal.dd0024.facc.pkl: Thu Jun 25 15:25:38 2020\n",
      "# Finished on Thu Jun 25 15:25:38 2020\n"
     ]
    }
   ],
   "source": [
    "# Run the thing\n",
    "fitter.run('test_smfcal', burn=10, steps=50, save_freq=2, clobber=True)"
   ]
  },
  {
   "cell_type": "code",
   "execution_count": 183,
   "metadata": {},
   "outputs": [
    {
     "name": "stdout",
     "output_type": "stream",
     "text": [
      "\n",
      "##############################################################################################################\n",
      "####                                         Analysis: Model Set                                          ####\n",
      "##############################################################################################################\n",
      "#### ---------------------------------------------------------------------------------------------------- ####\n",
      "#### Basic Information                                                                                    ####\n",
      "#### ---------------------------------------------------------------------------------------------------- ####\n",
      "#### path        : ./                                                                                     ####\n",
      "#### prefix      : test_smfcal                                                                            ####\n",
      "#### N-d         : 8                                                                                      ####\n",
      "#### ---------------------------------------------------------------------------------------------------- ####\n",
      "#### param    #00: pq_func_par0[0]                                                                        ####\n",
      "#### param    #01: pq_func_par2[0]                                                                        ####\n",
      "#### param    #02: pq_func_par0[1]                                                                        ####\n",
      "#### param    #03: pq_func_par2[1]                                                                        ####\n",
      "#### param    #04: pq_func_par0[2]                                                                        ####\n",
      "#### param    #05: pq_func_par2[2]                                                                        ####\n",
      "#### param    #06: pq_func_par0[3]                                                                        ####\n",
      "#### param    #07: pq_func_par2[3]                                                                        ####\n",
      "##############################################################################################################\n",
      "\n"
     ]
    }
   ],
   "source": [
    "anl = ares.analysis.ModelSet('test_smfcal')\n",
    "# anl = ares.analysis.ModelSet('smf_run2')\n",
    "\n",
    "labels = \\\n",
    "{\n",
    "    'pq_func_par0[0]': 'beta_0',\n",
    "    'pq_func_par2[0]': 'beta_1', \n",
    "\n",
    "    #norm\n",
    "    'pq_func_par0[1]': 'N_0',\n",
    "    'pq_func_par2[1]': 'nu', \n",
    "\n",
    "    #gamma\n",
    "    'pq_func_par0[2]': 'gamma_0',\n",
    "    'pq_func_par2[2]': 'gamma_1', \n",
    "\n",
    "    #peak mass\n",
    "    'pq_func_par0[3]': 'logM_0',\n",
    "    'pq_func_par2[3]': 'mu', \n",
    "}\n",
    "\n",
    "anl.custom_labels = labels\n",
    "# anl.custom_labels"
   ]
  },
  {
   "cell_type": "code",
   "execution_count": 186,
   "metadata": {},
   "outputs": [
    {
     "data": {
      "image/png": "[encoded data removed]",
      "text/plain": [
       "<Figure size 432x288 with 1 Axes>"
      ]
     },
     "metadata": {
      "needs_background": "light"
     },
     "output_type": "display_data"
    }
   ],
   "source": [
    "#look at the raw LF samples\n",
    "# ax = anl.ReconstructedFunction('galaxy_lf', ivar=[6, None], samples='all', color='b', alpha=0.01)\n",
    "\n",
    "# ax.set_yscale('log')\n",
    "z = 0.875\n",
    "# 0.35, 0.875, 1.125, 1.75, 2.25, 2.75\n",
    "\n",
    "gpop = ares.analysis.GalaxyPopulation()\n",
    "\n",
    "ax = anl.ReconstructedFunction('galaxy_smf', ivar=[z, None], samples='all', color='b', alpha=0.01)\n",
    "\n",
    "# Plot any data within dz=0.1 of z=6\n",
    "gpop.PlotSMF(z, ax=ax, round_z=0.2)\n",
    "\n",
    "# ax.set_ylim(1e-35, 1)\n",
    "# ax.set_xlim(1e7, 1e13)\n",
    "\n",
    "ax.legend()\n",
    "pl.show()\n",
    "\n",
    "# ax = anl_2.ReconstructedFunction('galaxy_smf', ivar=[z, None], samples='all', color='b', alpha=0.01)\n",
    "# gpop.PlotSMF(z, ax=ax, round_z=0.2)"
   ]
  },
  {
   "cell_type": "code",
   "execution_count": 187,
   "metadata": {},
   "outputs": [
    {
     "name": "stdout",
     "output_type": "stream",
     "text": [
      "pq_func_par0[0]: 2.118234e+00\n",
      "pq_func_par2[0]: 1.347431e-01\n",
      "pq_func_par0[1]: 5.173042e-02\n",
      "pq_func_par2[1]: -6.093293e-01\n",
      "pq_func_par0[2]: 3.363197e-01\n",
      "pq_func_par2[2]: -2.233624e-01\n",
      "pq_func_par0[3]: 1.344272e+01\n",
      "pq_func_par2[3]: 5.563498e-01\n"
     ]
    }
   ],
   "source": [
    "params = \\\n",
    "['pq_func_par0[0]',\n",
    "    'pq_func_par2[0]', \n",
    "\n",
    "    #norm\n",
    "    'pq_func_par0[1]',\n",
    "    'pq_func_par2[1]', \n",
    "\n",
    "    #gamma\n",
    "    'pq_func_par0[2]',\n",
    "    'pq_func_par2[2]', \n",
    "\n",
    "    #peak mass\n",
    "    'pq_func_par0[3]',\n",
    "    'pq_func_par2[3]' \n",
    "]\n",
    "\n",
    "covar = anl.CovarianceMatrix(params)\n",
    "\n",
    "if len(covar[0]) == 1:\n",
    "    print(\"{}: {}\".format(params[0], covar[0][0]))\n",
    "else:\n",
    "    for i in range(len(covar[0])):\n",
    "        print(\"{}: {:e}\".format(params[i], covar[0][i]))"
   ]
  },
  {
   "cell_type": "code",
   "execution_count": 188,
   "metadata": {},
   "outputs": [
    {
     "name": "stdout",
     "output_type": "stream",
     "text": [
      "0 of 2500 chain elements ignored because of chain links with inf's/nan's.\n"
     ]
    },
    {
     "data": {
      "text/plain": [
       "<ares.analysis.MultiPlot.MultiPanel at 0x1c8594a2f88>"
      ]
     },
     "execution_count": 188,
     "metadata": {},
     "output_type": "execute_result"
    },
    {
     "data": {
      "image/png": "[encoded data removed]",
      "text/plain": [
       "<Figure size 1436.4x1410.48 with 36 Axes>"
      ]
     },
     "metadata": {
      "needs_background": "light"
     },
     "output_type": "display_data"
    }
   ],
   "source": [
    "\n",
    "anl.TrianglePlot(pars=params)"
   ]
  },
  {
   "cell_type": "code",
   "execution_count": null,
   "metadata": {},
   "outputs": [],
   "source": [
    "anl.WalkerTrajectoriesMultiPlot(best_fit='mode')\n",
    "# mode: 2190\n",
    "# median: -3171602.2183875367"
   ]
  },
  {
   "cell_type": "code",
   "execution_count": 189,
   "metadata": {},
   "outputs": [
    {
     "data": {
      "text/plain": [
       "{'pq_func_par0[0]': 2.124586222886101,\n",
       " 'pq_func_par2[0]': 0.012521576630950548,\n",
       " 'pq_func_par0[1]': 0.2081249718011321,\n",
       " 'pq_func_par2[1]': -0.4208300165249582,\n",
       " 'pq_func_par0[2]': 0.5015029974622123,\n",
       " 'pq_func_par2[2]': -1.7302989101389745,\n",
       " 'pq_func_par0[3]': 12.878407966407043,\n",
       " 'pq_func_par2[3]': 1.2590102177802898}"
      ]
     },
     "execution_count": 189,
     "metadata": {},
     "output_type": "execute_result"
    }
   ],
   "source": [
    "anl.max_likelihood_parameters()"
   ]
  },
  {
   "cell_type": "code",
   "execution_count": 190,
   "metadata": {},
   "outputs": [
    {
     "name": "stdout",
     "output_type": "stream",
     "text": [
      "pq_func_par0[0]: 2.118234e+00\n",
      "pq_func_par2[0]: 1.347431e-01\n",
      "pq_func_par0[1]: 5.173042e-02\n",
      "pq_func_par2[1]: -6.093293e-01\n",
      "pq_func_par0[2]: 3.363197e-01\n",
      "pq_func_par2[2]: -2.233624e-01\n",
      "pq_func_par0[3]: 1.344272e+01\n",
      "pq_func_par2[3]: 5.563498e-01\n"
     ]
    }
   ],
   "source": [
    "covar = anl.CovarianceMatrix(params)\n",
    "\n",
    "if len(covar[0]) == 1:\n",
    "    print(\"{}: {}\".format(params[0], covar[0][0]))\n",
    "else:\n",
    "    for i in range(len(covar[0])):\n",
    "        print(\"{}: {:e}\".format(params[i], covar[0][i]))\n",
    "        \n",
    "fit_mean = np.array(covar[0])"
   ]
  },
  {
   "cell_type": "code",
   "execution_count": 191,
   "metadata": {},
   "outputs": [],
   "source": [
    "pars_ch = {}\n",
    "for i in range(len(covar[0])):\n",
    "    pars_ch[params[i]] = covar[0][i]\n",
    "    \n",
    "pars_mean = ares.util.ParameterBundle(\"emma:model1\")\n",
    "\n",
    "pars_mean.update(pars_ch)\n",
    "# print(pars_best)\n",
    "pop_mean = ares.populations.GalaxyPopulation(**pars_mean)"
   ]
  },
  {
   "cell_type": "code",
   "execution_count": 192,
   "metadata": {},
   "outputs": [
    {
     "name": "stdout",
     "output_type": "stream",
     "text": [
      "(2.124586222886101, array([0.26982535, 0.23325001]))\n",
      "(0.012521576630950548, array([ 0.24677428, -0.00321566]))\n",
      "(0.2081249718011321, array([-0.1385009 ,  0.17527044]))\n",
      "(-0.4208300165249582, array([-0.00959409,  0.33364357]))\n",
      "(0.5015029974622123, array([0.04751084, 0.32948909]))\n",
      "(-1.7302989101389745, array([ 1.62452423, -1.43731773]))\n",
      "(12.878407966407043, array([ 0.95863717, -0.20887219]))\n",
      "(1.2590102177802898, array([-0.48772155,  0.88461989]))\n"
     ]
    }
   ],
   "source": [
    "fit_best_like = anl.max_likelihood_parameters()\n",
    "\n",
    "for i in range(len(covar[0])):\n",
    "    print(anl.get_1d_error(params[i])) #(maximum likelihood value, positive error, negative error)."
   ]
  },
  {
   "cell_type": "code",
   "execution_count": 193,
   "metadata": {},
   "outputs": [
    {
     "name": "stdout",
     "output_type": "stream",
     "text": [
      "{'pq_func_par0[0]': 2.124586222886101, 'pq_func_par2[0]': 0.012521576630950548, 'pq_func_par0[1]': 0.2081249718011321, 'pq_func_par2[1]': -0.4208300165249582, 'pq_func_par0[2]': 0.5015029974622123, 'pq_func_par2[2]': -1.7302989101389745, 'pq_func_par0[3]': 12.878407966407043, 'pq_func_par2[3]': 1.2590102177802898}\n"
     ]
    }
   ],
   "source": [
    "pars_best = ares.util.ParameterBundle(\"emma:model1\")\n",
    "print(fit_best_like)\n",
    "\n",
    "pars_best.update(fit_best_like)\n",
    "# print(pars_best)\n",
    "pop_best = ares.populations.GalaxyPopulation(**pars_best)"
   ]
  },
  {
   "cell_type": "code",
   "execution_count": 198,
   "metadata": {},
   "outputs": [
    {
     "name": "stdout",
     "output_type": "stream",
     "text": [
      "[2.03562079e-09 1.49506166e-09 1.08605349e-09 7.79908782e-10\n",
      " 5.53358312e-10 3.87696725e-10 2.68062494e-10 1.82798870e-10\n",
      " 1.22859862e-10 8.13291404e-11 5.29869160e-11 3.39493639e-11\n",
      " 2.13744997e-11 1.32124464e-11 8.01125207e-12 4.76046956e-12\n",
      " 2.76934679e-12 1.57559597e-12 8.75722922e-13 4.74919695e-13\n",
      " 2.51016367e-13 1.29125623e-13 6.45623781e-14 3.13316599e-14\n",
      " 1.47338766e-14 6.70421300e-15 2.94631119e-15 1.24839276e-15\n",
      " 5.09079145e-16 1.99343820e-16 7.48200274e-17 2.68514212e-17\n",
      " 9.19216816e-18 2.99514532e-18 9.25915820e-19 2.70969485e-19\n",
      " 7.48250530e-20 1.94300771e-20 4.73286315e-21 1.07624788e-21\n",
      " 2.27878671e-22 4.47332935e-23 8.09865593e-24 1.34917211e-24\n",
      " 2.05260839e-25 2.84369248e-26 3.56867313e-27 4.02144990e-28\n",
      " 4.06959817e-29 3.65375467e-30]\n"
     ]
    },
    {
     "ename": "ValueError",
     "evalue": "math domain error",
     "output_type": "error",
     "traceback": [
      "\u001b[1;31m---------------------------------------------------------------------------\u001b[0m",
      "\u001b[1;31mValueError\u001b[0m                                Traceback (most recent call last)",
      "\u001b[1;32m<ipython-input-198-183476113304>\u001b[0m in \u001b[0;36m<module>\u001b[1;34m\u001b[0m\n\u001b[0;32m     23\u001b[0m \u001b[0mpl\u001b[0m\u001b[1;33m.\u001b[0m\u001b[0mlegend\u001b[0m\u001b[1;33m(\u001b[0m\u001b[1;33m)\u001b[0m\u001b[1;33m\u001b[0m\u001b[1;33m\u001b[0m\u001b[0m\n\u001b[0;32m     24\u001b[0m \u001b[1;31m# pl.ylim(1e-9, 1e2)\u001b[0m\u001b[1;33m\u001b[0m\u001b[1;33m\u001b[0m\u001b[1;33m\u001b[0m\u001b[0m\n\u001b[1;32m---> 25\u001b[1;33m \u001b[0mpl\u001b[0m\u001b[1;33m.\u001b[0m\u001b[0mshow\u001b[0m\u001b[1;33m(\u001b[0m\u001b[1;33m)\u001b[0m\u001b[1;33m\u001b[0m\u001b[1;33m\u001b[0m\u001b[0m\n\u001b[0m",
      "\u001b[1;32m~\\Anaconda3\\lib\\site-packages\\matplotlib\\pyplot.py\u001b[0m in \u001b[0;36mshow\u001b[1;34m(*args, **kw)\u001b[0m\n\u001b[0;32m    267\u001b[0m     \"\"\"\n\u001b[0;32m    268\u001b[0m     \u001b[1;32mglobal\u001b[0m \u001b[0m_show\u001b[0m\u001b[1;33m\u001b[0m\u001b[1;33m\u001b[0m\u001b[0m\n\u001b[1;32m--> 269\u001b[1;33m     \u001b[1;32mreturn\u001b[0m \u001b[0m_show\u001b[0m\u001b[1;33m(\u001b[0m\u001b[1;33m*\u001b[0m\u001b[0margs\u001b[0m\u001b[1;33m,\u001b[0m \u001b[1;33m**\u001b[0m\u001b[0mkw\u001b[0m\u001b[1;33m)\u001b[0m\u001b[1;33m\u001b[0m\u001b[1;33m\u001b[0m\u001b[0m\n\u001b[0m\u001b[0;32m    270\u001b[0m \u001b[1;33m\u001b[0m\u001b[0m\n\u001b[0;32m    271\u001b[0m \u001b[1;33m\u001b[0m\u001b[0m\n",
      "\u001b[1;32m~\\Anaconda3\\lib\\site-packages\\ipykernel\\pylab\\backend_inline.py\u001b[0m in \u001b[0;36mshow\u001b[1;34m(close, block)\u001b[0m\n\u001b[0;32m     37\u001b[0m             display(\n\u001b[0;32m     38\u001b[0m                 \u001b[0mfigure_manager\u001b[0m\u001b[1;33m.\u001b[0m\u001b[0mcanvas\u001b[0m\u001b[1;33m.\u001b[0m\u001b[0mfigure\u001b[0m\u001b[1;33m,\u001b[0m\u001b[1;33m\u001b[0m\u001b[1;33m\u001b[0m\u001b[0m\n\u001b[1;32m---> 39\u001b[1;33m                 \u001b[0mmetadata\u001b[0m\u001b[1;33m=\u001b[0m\u001b[0m_fetch_figure_metadata\u001b[0m\u001b[1;33m(\u001b[0m\u001b[0mfigure_manager\u001b[0m\u001b[1;33m.\u001b[0m\u001b[0mcanvas\u001b[0m\u001b[1;33m.\u001b[0m\u001b[0mfigure\u001b[0m\u001b[1;33m)\u001b[0m\u001b[1;33m\u001b[0m\u001b[1;33m\u001b[0m\u001b[0m\n\u001b[0m\u001b[0;32m     40\u001b[0m             )\n\u001b[0;32m     41\u001b[0m     \u001b[1;32mfinally\u001b[0m\u001b[1;33m:\u001b[0m\u001b[1;33m\u001b[0m\u001b[1;33m\u001b[0m\u001b[0m\n",
      "\u001b[1;32m~\\Anaconda3\\lib\\site-packages\\ipykernel\\pylab\\backend_inline.py\u001b[0m in \u001b[0;36m_fetch_figure_metadata\u001b[1;34m(fig)\u001b[0m\n\u001b[0;32m    175\u001b[0m         \u001b[1;31m# the background is transparent\u001b[0m\u001b[1;33m\u001b[0m\u001b[1;33m\u001b[0m\u001b[1;33m\u001b[0m\u001b[0m\n\u001b[0;32m    176\u001b[0m         ticksLight = _is_light([label.get_color()\n\u001b[1;32m--> 177\u001b[1;33m                                 \u001b[1;32mfor\u001b[0m \u001b[0maxes\u001b[0m \u001b[1;32min\u001b[0m \u001b[0mfig\u001b[0m\u001b[1;33m.\u001b[0m\u001b[0maxes\u001b[0m\u001b[1;33m\u001b[0m\u001b[1;33m\u001b[0m\u001b[0m\n\u001b[0m\u001b[0;32m    178\u001b[0m                                 \u001b[1;32mfor\u001b[0m \u001b[0maxis\u001b[0m \u001b[1;32min\u001b[0m \u001b[1;33m(\u001b[0m\u001b[0maxes\u001b[0m\u001b[1;33m.\u001b[0m\u001b[0mxaxis\u001b[0m\u001b[1;33m,\u001b[0m \u001b[0maxes\u001b[0m\u001b[1;33m.\u001b[0m\u001b[0myaxis\u001b[0m\u001b[1;33m)\u001b[0m\u001b[1;33m\u001b[0m\u001b[1;33m\u001b[0m\u001b[0m\n\u001b[0;32m    179\u001b[0m                                 for label in axis.get_ticklabels()])\n",
      "\u001b[1;32m~\\Anaconda3\\lib\\site-packages\\ipykernel\\pylab\\backend_inline.py\u001b[0m in \u001b[0;36m<listcomp>\u001b[1;34m(.0)\u001b[0m\n\u001b[0;32m    177\u001b[0m                                 \u001b[1;32mfor\u001b[0m \u001b[0maxes\u001b[0m \u001b[1;32min\u001b[0m \u001b[0mfig\u001b[0m\u001b[1;33m.\u001b[0m\u001b[0maxes\u001b[0m\u001b[1;33m\u001b[0m\u001b[1;33m\u001b[0m\u001b[0m\n\u001b[0;32m    178\u001b[0m                                 \u001b[1;32mfor\u001b[0m \u001b[0maxis\u001b[0m \u001b[1;32min\u001b[0m \u001b[1;33m(\u001b[0m\u001b[0maxes\u001b[0m\u001b[1;33m.\u001b[0m\u001b[0mxaxis\u001b[0m\u001b[1;33m,\u001b[0m \u001b[0maxes\u001b[0m\u001b[1;33m.\u001b[0m\u001b[0myaxis\u001b[0m\u001b[1;33m)\u001b[0m\u001b[1;33m\u001b[0m\u001b[1;33m\u001b[0m\u001b[0m\n\u001b[1;32m--> 179\u001b[1;33m                                 for label in axis.get_ticklabels()])\n\u001b[0m\u001b[0;32m    180\u001b[0m         \u001b[1;32mif\u001b[0m \u001b[0mticksLight\u001b[0m\u001b[1;33m.\u001b[0m\u001b[0msize\u001b[0m \u001b[1;32mand\u001b[0m \u001b[1;33m(\u001b[0m\u001b[0mticksLight\u001b[0m \u001b[1;33m==\u001b[0m \u001b[0mticksLight\u001b[0m\u001b[1;33m[\u001b[0m\u001b[1;36m0\u001b[0m\u001b[1;33m]\u001b[0m\u001b[1;33m)\u001b[0m\u001b[1;33m.\u001b[0m\u001b[0mall\u001b[0m\u001b[1;33m(\u001b[0m\u001b[1;33m)\u001b[0m\u001b[1;33m:\u001b[0m\u001b[1;33m\u001b[0m\u001b[1;33m\u001b[0m\u001b[0m\n\u001b[0;32m    181\u001b[0m             \u001b[1;31m# there are one or more tick labels, all with the same lightness\u001b[0m\u001b[1;33m\u001b[0m\u001b[1;33m\u001b[0m\u001b[1;33m\u001b[0m\u001b[0m\n",
      "\u001b[1;32m~\\Anaconda3\\lib\\site-packages\\matplotlib\\axis.py\u001b[0m in \u001b[0;36mget_ticklabels\u001b[1;34m(self, minor, which)\u001b[0m\n\u001b[0;32m   1294\u001b[0m         \u001b[1;32mif\u001b[0m \u001b[0mminor\u001b[0m\u001b[1;33m:\u001b[0m\u001b[1;33m\u001b[0m\u001b[1;33m\u001b[0m\u001b[0m\n\u001b[0;32m   1295\u001b[0m             \u001b[1;32mreturn\u001b[0m \u001b[0mself\u001b[0m\u001b[1;33m.\u001b[0m\u001b[0mget_minorticklabels\u001b[0m\u001b[1;33m(\u001b[0m\u001b[1;33m)\u001b[0m\u001b[1;33m\u001b[0m\u001b[1;33m\u001b[0m\u001b[0m\n\u001b[1;32m-> 1296\u001b[1;33m         \u001b[1;32mreturn\u001b[0m \u001b[0mself\u001b[0m\u001b[1;33m.\u001b[0m\u001b[0mget_majorticklabels\u001b[0m\u001b[1;33m(\u001b[0m\u001b[1;33m)\u001b[0m\u001b[1;33m\u001b[0m\u001b[1;33m\u001b[0m\u001b[0m\n\u001b[0m\u001b[0;32m   1297\u001b[0m \u001b[1;33m\u001b[0m\u001b[0m\n\u001b[0;32m   1298\u001b[0m     \u001b[1;32mdef\u001b[0m \u001b[0mget_majorticklines\u001b[0m\u001b[1;33m(\u001b[0m\u001b[0mself\u001b[0m\u001b[1;33m)\u001b[0m\u001b[1;33m:\u001b[0m\u001b[1;33m\u001b[0m\u001b[1;33m\u001b[0m\u001b[0m\n",
      "\u001b[1;32m~\\Anaconda3\\lib\\site-packages\\matplotlib\\axis.py\u001b[0m in \u001b[0;36mget_majorticklabels\u001b[1;34m(self)\u001b[0m\n\u001b[0;32m   1250\u001b[0m     \u001b[1;32mdef\u001b[0m \u001b[0mget_majorticklabels\u001b[0m\u001b[1;33m(\u001b[0m\u001b[0mself\u001b[0m\u001b[1;33m)\u001b[0m\u001b[1;33m:\u001b[0m\u001b[1;33m\u001b[0m\u001b[1;33m\u001b[0m\u001b[0m\n\u001b[0;32m   1251\u001b[0m         \u001b[1;34m'Return a list of Text instances for the major ticklabels.'\u001b[0m\u001b[1;33m\u001b[0m\u001b[1;33m\u001b[0m\u001b[0m\n\u001b[1;32m-> 1252\u001b[1;33m         \u001b[0mticks\u001b[0m \u001b[1;33m=\u001b[0m \u001b[0mself\u001b[0m\u001b[1;33m.\u001b[0m\u001b[0mget_major_ticks\u001b[0m\u001b[1;33m(\u001b[0m\u001b[1;33m)\u001b[0m\u001b[1;33m\u001b[0m\u001b[1;33m\u001b[0m\u001b[0m\n\u001b[0m\u001b[0;32m   1253\u001b[0m         \u001b[0mlabels1\u001b[0m \u001b[1;33m=\u001b[0m \u001b[1;33m[\u001b[0m\u001b[0mtick\u001b[0m\u001b[1;33m.\u001b[0m\u001b[0mlabel1\u001b[0m \u001b[1;32mfor\u001b[0m \u001b[0mtick\u001b[0m \u001b[1;32min\u001b[0m \u001b[0mticks\u001b[0m \u001b[1;32mif\u001b[0m \u001b[0mtick\u001b[0m\u001b[1;33m.\u001b[0m\u001b[0mlabel1\u001b[0m\u001b[1;33m.\u001b[0m\u001b[0mget_visible\u001b[0m\u001b[1;33m(\u001b[0m\u001b[1;33m)\u001b[0m\u001b[1;33m]\u001b[0m\u001b[1;33m\u001b[0m\u001b[1;33m\u001b[0m\u001b[0m\n\u001b[0;32m   1254\u001b[0m         \u001b[0mlabels2\u001b[0m \u001b[1;33m=\u001b[0m \u001b[1;33m[\u001b[0m\u001b[0mtick\u001b[0m\u001b[1;33m.\u001b[0m\u001b[0mlabel2\u001b[0m \u001b[1;32mfor\u001b[0m \u001b[0mtick\u001b[0m \u001b[1;32min\u001b[0m \u001b[0mticks\u001b[0m \u001b[1;32mif\u001b[0m \u001b[0mtick\u001b[0m\u001b[1;33m.\u001b[0m\u001b[0mlabel2\u001b[0m\u001b[1;33m.\u001b[0m\u001b[0mget_visible\u001b[0m\u001b[1;33m(\u001b[0m\u001b[1;33m)\u001b[0m\u001b[1;33m]\u001b[0m\u001b[1;33m\u001b[0m\u001b[1;33m\u001b[0m\u001b[0m\n",
      "\u001b[1;32m~\\Anaconda3\\lib\\site-packages\\matplotlib\\axis.py\u001b[0m in \u001b[0;36mget_major_ticks\u001b[1;34m(self, numticks)\u001b[0m\n\u001b[0;32m   1405\u001b[0m         \u001b[1;34m'Get the tick instances; grow as necessary.'\u001b[0m\u001b[1;33m\u001b[0m\u001b[1;33m\u001b[0m\u001b[0m\n\u001b[0;32m   1406\u001b[0m         \u001b[1;32mif\u001b[0m \u001b[0mnumticks\u001b[0m \u001b[1;32mis\u001b[0m \u001b[1;32mNone\u001b[0m\u001b[1;33m:\u001b[0m\u001b[1;33m\u001b[0m\u001b[1;33m\u001b[0m\u001b[0m\n\u001b[1;32m-> 1407\u001b[1;33m             \u001b[0mnumticks\u001b[0m \u001b[1;33m=\u001b[0m \u001b[0mlen\u001b[0m\u001b[1;33m(\u001b[0m\u001b[0mself\u001b[0m\u001b[1;33m.\u001b[0m\u001b[0mget_majorticklocs\u001b[0m\u001b[1;33m(\u001b[0m\u001b[1;33m)\u001b[0m\u001b[1;33m)\u001b[0m\u001b[1;33m\u001b[0m\u001b[1;33m\u001b[0m\u001b[0m\n\u001b[0m\u001b[0;32m   1408\u001b[0m \u001b[1;33m\u001b[0m\u001b[0m\n\u001b[0;32m   1409\u001b[0m         \u001b[1;32mwhile\u001b[0m \u001b[0mlen\u001b[0m\u001b[1;33m(\u001b[0m\u001b[0mself\u001b[0m\u001b[1;33m.\u001b[0m\u001b[0mmajorTicks\u001b[0m\u001b[1;33m)\u001b[0m \u001b[1;33m<\u001b[0m \u001b[0mnumticks\u001b[0m\u001b[1;33m:\u001b[0m\u001b[1;33m\u001b[0m\u001b[1;33m\u001b[0m\u001b[0m\n",
      "\u001b[1;32m~\\Anaconda3\\lib\\site-packages\\matplotlib\\axis.py\u001b[0m in \u001b[0;36mget_majorticklocs\u001b[1;34m(self)\u001b[0m\n\u001b[0;32m   1322\u001b[0m     \u001b[1;32mdef\u001b[0m \u001b[0mget_majorticklocs\u001b[0m\u001b[1;33m(\u001b[0m\u001b[0mself\u001b[0m\u001b[1;33m)\u001b[0m\u001b[1;33m:\u001b[0m\u001b[1;33m\u001b[0m\u001b[1;33m\u001b[0m\u001b[0m\n\u001b[0;32m   1323\u001b[0m         \u001b[1;34m\"\"\"Get the array of major tick locations in data coordinates.\"\"\"\u001b[0m\u001b[1;33m\u001b[0m\u001b[1;33m\u001b[0m\u001b[0m\n\u001b[1;32m-> 1324\u001b[1;33m         \u001b[1;32mreturn\u001b[0m \u001b[0mself\u001b[0m\u001b[1;33m.\u001b[0m\u001b[0mmajor\u001b[0m\u001b[1;33m.\u001b[0m\u001b[0mlocator\u001b[0m\u001b[1;33m(\u001b[0m\u001b[1;33m)\u001b[0m\u001b[1;33m\u001b[0m\u001b[1;33m\u001b[0m\u001b[0m\n\u001b[0m\u001b[0;32m   1325\u001b[0m \u001b[1;33m\u001b[0m\u001b[0m\n\u001b[0;32m   1326\u001b[0m     \u001b[1;32mdef\u001b[0m \u001b[0mget_minorticklocs\u001b[0m\u001b[1;33m(\u001b[0m\u001b[0mself\u001b[0m\u001b[1;33m)\u001b[0m\u001b[1;33m:\u001b[0m\u001b[1;33m\u001b[0m\u001b[1;33m\u001b[0m\u001b[0m\n",
      "\u001b[1;32m~\\Anaconda3\\lib\\site-packages\\matplotlib\\ticker.py\u001b[0m in \u001b[0;36m__call__\u001b[1;34m(self)\u001b[0m\n\u001b[0;32m   2269\u001b[0m         \u001b[1;34m'Return the locations of the ticks'\u001b[0m\u001b[1;33m\u001b[0m\u001b[1;33m\u001b[0m\u001b[0m\n\u001b[0;32m   2270\u001b[0m         \u001b[0mvmin\u001b[0m\u001b[1;33m,\u001b[0m \u001b[0mvmax\u001b[0m \u001b[1;33m=\u001b[0m \u001b[0mself\u001b[0m\u001b[1;33m.\u001b[0m\u001b[0maxis\u001b[0m\u001b[1;33m.\u001b[0m\u001b[0mget_view_interval\u001b[0m\u001b[1;33m(\u001b[0m\u001b[1;33m)\u001b[0m\u001b[1;33m\u001b[0m\u001b[1;33m\u001b[0m\u001b[0m\n\u001b[1;32m-> 2271\u001b[1;33m         \u001b[1;32mreturn\u001b[0m \u001b[0mself\u001b[0m\u001b[1;33m.\u001b[0m\u001b[0mtick_values\u001b[0m\u001b[1;33m(\u001b[0m\u001b[0mvmin\u001b[0m\u001b[1;33m,\u001b[0m \u001b[0mvmax\u001b[0m\u001b[1;33m)\u001b[0m\u001b[1;33m\u001b[0m\u001b[1;33m\u001b[0m\u001b[0m\n\u001b[0m\u001b[0;32m   2272\u001b[0m \u001b[1;33m\u001b[0m\u001b[0m\n\u001b[0;32m   2273\u001b[0m     \u001b[1;32mdef\u001b[0m \u001b[0mtick_values\u001b[0m\u001b[1;33m(\u001b[0m\u001b[0mself\u001b[0m\u001b[1;33m,\u001b[0m \u001b[0mvmin\u001b[0m\u001b[1;33m,\u001b[0m \u001b[0mvmax\u001b[0m\u001b[1;33m)\u001b[0m\u001b[1;33m:\u001b[0m\u001b[1;33m\u001b[0m\u001b[1;33m\u001b[0m\u001b[0m\n",
      "\u001b[1;32m~\\Anaconda3\\lib\\site-packages\\matplotlib\\ticker.py\u001b[0m in \u001b[0;36mtick_values\u001b[1;34m(self, vmin, vmax)\u001b[0m\n\u001b[0;32m   2302\u001b[0m         \u001b[1;32mif\u001b[0m \u001b[0mvmax\u001b[0m \u001b[1;33m<\u001b[0m \u001b[0mvmin\u001b[0m\u001b[1;33m:\u001b[0m\u001b[1;33m\u001b[0m\u001b[1;33m\u001b[0m\u001b[0m\n\u001b[0;32m   2303\u001b[0m             \u001b[0mvmin\u001b[0m\u001b[1;33m,\u001b[0m \u001b[0mvmax\u001b[0m \u001b[1;33m=\u001b[0m \u001b[0mvmax\u001b[0m\u001b[1;33m,\u001b[0m \u001b[0mvmin\u001b[0m\u001b[1;33m\u001b[0m\u001b[1;33m\u001b[0m\u001b[0m\n\u001b[1;32m-> 2304\u001b[1;33m         \u001b[0mlog_vmin\u001b[0m \u001b[1;33m=\u001b[0m \u001b[0mmath\u001b[0m\u001b[1;33m.\u001b[0m\u001b[0mlog\u001b[0m\u001b[1;33m(\u001b[0m\u001b[0mvmin\u001b[0m\u001b[1;33m)\u001b[0m \u001b[1;33m/\u001b[0m \u001b[0mmath\u001b[0m\u001b[1;33m.\u001b[0m\u001b[0mlog\u001b[0m\u001b[1;33m(\u001b[0m\u001b[0mb\u001b[0m\u001b[1;33m)\u001b[0m\u001b[1;33m\u001b[0m\u001b[1;33m\u001b[0m\u001b[0m\n\u001b[0m\u001b[0;32m   2305\u001b[0m         \u001b[0mlog_vmax\u001b[0m \u001b[1;33m=\u001b[0m \u001b[0mmath\u001b[0m\u001b[1;33m.\u001b[0m\u001b[0mlog\u001b[0m\u001b[1;33m(\u001b[0m\u001b[0mvmax\u001b[0m\u001b[1;33m)\u001b[0m \u001b[1;33m/\u001b[0m \u001b[0mmath\u001b[0m\u001b[1;33m.\u001b[0m\u001b[0mlog\u001b[0m\u001b[1;33m(\u001b[0m\u001b[0mb\u001b[0m\u001b[1;33m)\u001b[0m\u001b[1;33m\u001b[0m\u001b[1;33m\u001b[0m\u001b[0m\n\u001b[0;32m   2306\u001b[0m \u001b[1;33m\u001b[0m\u001b[0m\n",
      "\u001b[1;31mValueError\u001b[0m: math domain error"
     ]
    }
   ],
   "source": [
    "z = 0.35\n",
    "\n",
    "Ms_short = np.logspace(8, 12, 50)\n",
    "# Ms_short = [1e9]\n",
    "\n",
    "# print(Ms)\n",
    "\n",
    "ls_best = pop_best.StellarMassFunction(z, Ms_short)\n",
    "# ls_best_2 = pop_best_2.StellarMassFunction(z, Ms_short)\n",
    "\n",
    "print(ls_best)\n",
    "\n",
    "ls_mean = pop_mean.StellarMassFunction(z, Ms_short)\n",
    "\n",
    "obslf = ares.analysis.GalaxyPopulation()\n",
    "obslf.Plot(z=z, round_z=0.2)\n",
    "\n",
    "pl.loglog(Ms_short, ls_best, label='Best fit')\n",
    "# pl.loglog(Ms_short, ls_best_2, label='Best fit 2')\n",
    "\n",
    "pl.loglog(Ms_short, ls_mean, label='Mean fit')\n",
    "pl.title(\"z = %.2f\" %z)\n",
    "pl.legend()\n",
    "# pl.ylim(1e-9, 1e2)\n",
    "pl.show()"
   ]
  },
  {
   "cell_type": "code",
   "execution_count": null,
   "metadata": {},
   "outputs": [],
   "source": []
  }
 ],
 "metadata": {
  "kernelspec": {
   "display_name": "Python 3",
   "language": "python",
   "name": "python3"
  },
  "language_info": {
   "codemirror_mode": {
    "name": "ipython",
    "version": 3
   },
   "file_extension": ".py",
   "mimetype": "text/x-python",
   "name": "python",
   "nbconvert_exporter": "python",
   "pygments_lexer": "ipython3",
   "version": "3.7.4"
  }
 },
 "nbformat": 4,
 "nbformat_minor": 4
}

{
 "cells": [
  {
   "cell_type": "code",
   "execution_count": 1,
   "metadata": {},
   "outputs": [],
   "source": [
    "import ares\n",
    "import numpy as np\n",
    "import matplotlib.pyplot as pl\n",
    "import distpy"
   ]
  },
  {
   "cell_type": "code",
   "execution_count": null,
   "metadata": {},
   "outputs": [],
   "source": []
  },
  {
   "cell_type": "code",
   "execution_count": 127,
   "metadata": {},
   "outputs": [],
   "source": [
    "# Independent variables\n",
    "# redshifts = np.array([0.35, 0.875, 1.125, 1.75, 2.25, 2.75])\n",
    "redshifts = np.sort(np.array([0.35, 0.875, 1.125, 1.75, 2.25, 2.75, 1.65, 2.5, 3.5, 0.10165, 0.25, 0.45, 0.575, 0.725, 0.9]))\n",
    "\n",
    "\n",
    "# [0.10165, 0.25, 0.35, 0.45, 0.575, 0.725, 0.9][1.65, 2.5, 3.5]\n",
    "# MUV = np.arange(-28, -8.8, 0.2)\n",
    "Ms = np.logspace(7, 12, 50)\n",
    "\n",
    "# blob 1: the LF. Give it a name, and the function needed to calculate it.\n",
    "blob_n1 = ['galaxy_smf']\n",
    "blob_i1 = [('z', redshifts), ('bins', Ms)]\n",
    "blob_f1 = ['StellarMassFunction']\n",
    "\n",
    "# # blob 2: the SFE. Same deal.\n",
    "# blob_n2 = ['fstar']\n",
    "# blob_i2 = [('z', redshifts), ('Mh', Mh)]\n",
    "# blob_f2 = ['fstar']\n",
    "# print(redshifts)"
   ]
  },
  {
   "cell_type": "code",
   "execution_count": 128,
   "metadata": {},
   "outputs": [],
   "source": [
    "blob_pars = \\\n",
    "{\n",
    " 'blob_names': [blob_n1],\n",
    " 'blob_ivars': [blob_i1],\n",
    " 'blob_funcs': [blob_f1],\n",
    " 'blob_kwargs': [None],\n",
    "}"
   ]
  },
  {
   "cell_type": "code",
   "execution_count": 129,
   "metadata": {},
   "outputs": [],
   "source": [
    "#define the parameters that remain unchanged\n",
    "base_pars = ares.util.ParameterBundle('emma:model1')\n",
    "base_pars.update(blob_pars)\n",
    "base_pars.update({'progress_bar': True})\n",
    "\n",
    "# This is important!\n",
    "# base_pars['pop_calib_lum'] = None"
   ]
  },
  {
   "cell_type": "code",
   "execution_count": 130,
   "metadata": {},
   "outputs": [],
   "source": [
    "free_pars = \\\n",
    "[\n",
    "    'pq_func_par0[0]',\n",
    "    'pq_func_par2[0]', \n",
    "\n",
    "    #norm\n",
    "    'pq_func_par0[1]',\n",
    "    'pq_func_par2[1]', \n",
    "\n",
    "    #gamma\n",
    "    'pq_func_par0[2]',\n",
    "    'pq_func_par2[2]', \n",
    "\n",
    "    #peak mass\n",
    "    'pq_func_par0[3]',\n",
    "    'pq_func_par2[3]', \n",
    "]\n",
    "\n",
    "is_log = [False, False, False, False, False, False, False, False]\n",
    "\n",
    "from distpy.distribution import UniformDistribution\n",
    "from distpy.distribution import DistributionSet\n",
    "\n",
    "ps = DistributionSet()\n",
    "ps.add_distribution(UniformDistribution(0, 4), 'pq_func_par0[0]')\n",
    "ps.add_distribution(UniformDistribution(-1, 1),  'pq_func_par2[0]')\n",
    "\n",
    "ps.add_distribution(UniformDistribution(0.001, 2),   'pq_func_par0[1]')\n",
    "ps.add_distribution(UniformDistribution(-1, 1),  'pq_func_par2[1]')\n",
    "\n",
    "ps.add_distribution(UniformDistribution(0, .7),   'pq_func_par0[2]')\n",
    "ps.add_distribution(UniformDistribution(-3, -0.01),  'pq_func_par2[2]')\n",
    "\n",
    "ps.add_distribution(UniformDistribution(11.0, 12.6),   'pq_func_par0[3]')\n",
    "ps.add_distribution(UniformDistribution(0, 1),  'pq_func_par2[3]')"
   ]
  },
  {
   "cell_type": "code",
   "execution_count": 131,
   "metadata": {},
   "outputs": [],
   "source": [
    "#From Moster2010, table 7\n",
    "logM_0 = 11.88 #(0.01)\n",
    "mu = 0.019 #(0.002)\n",
    "N_0 = 0.0282 #(0.0003)\n",
    "nu = -0.72 #(0.06)\n",
    "gamma_0 = 0.556 #0.001\n",
    "gamma_1 = -0.26 #(0.05)\n",
    "beta_0 = 1.06 #(0.06)\n",
    "beta_1 = 0.17 #(0.12)\n",
    "\n",
    "guesses = \\\n",
    "{\n",
    "    'pq_func_par0[0]': beta_0,\n",
    "    'pq_func_par2[0]': beta_1, \n",
    "\n",
    "    #norm\n",
    "    'pq_func_par0[1]': N_0,\n",
    "    'pq_func_par2[1]': nu, \n",
    "\n",
    "    #gamma\n",
    "    'pq_func_par0[2]': gamma_0,\n",
    "    'pq_func_par2[2]': gamma_1, \n",
    "\n",
    "    #peak mass\n",
    "    'pq_func_par0[3]': logM_0,\n",
    "    'pq_func_par2[3]': mu, \n",
    "}"
   ]
  },
  {
   "cell_type": "code",
   "execution_count": 132,
   "metadata": {},
   "outputs": [
    {
     "name": "stdout",
     "output_type": "stream",
     "text": [
      "lf\n",
      "not found!\n",
      "smf\n",
      "lf\n",
      "not found!\n",
      "smf\n",
      "lf\n",
      "not found!\n",
      "smf\n",
      "lf\n",
      "not found!\n",
      "smf\n"
     ]
    }
   ],
   "source": [
    "# Initialize a fitter object and give it the data to be fit\n",
    "fitter_smf = ares.inference.FitGalaxyPopulation(**base_pars)\n",
    "\n",
    "fitter_smf.include.append('smf')\n",
    "\n",
    "# The data can also be provided more explicitly\n",
    "#I seem to need this or else the run throws error: Must set data by hand! \n",
    "# fitter_lf.redshifts = {‘lf’: [5.9]}\n",
    "fitter_smf.data = 'tomczak2014',  'mortlock2011', 'moustakas2013', 'marchesini2009_10'\n",
    "\n",
    "# print(fitter_smf.data)"
   ]
  },
  {
   "cell_type": "code",
   "execution_count": 133,
   "metadata": {},
   "outputs": [],
   "source": [
    "fitter = ares.inference.ModelFit(**base_pars)\n",
    "fitter.add_fitter(fitter_smf)\n",
    "\n",
    "# Establish the object to which we'll pass parameters\n",
    "from ares.populations.GalaxyHOD import GalaxyHOD\n",
    "fitter.simulator = GalaxyHOD"
   ]
  },
  {
   "cell_type": "code",
   "execution_count": 134,
   "metadata": {},
   "outputs": [],
   "source": [
    "# print(fitter.blob_names)\n",
    "# print(fitter.blob_ivars)\n",
    "# print(fitter.blob_funcs, fitter.blob_kwargs)\n"
   ]
  },
  {
   "cell_type": "code",
   "execution_count": 135,
   "metadata": {},
   "outputs": [
    {
     "name": "stdout",
     "output_type": "stream",
     "text": [
      "# Fixing position of walker 5 (parameter pq_func_par0[2])\n",
      "# Moved from 0.7979014569396866 to 0.6073540991885096\n",
      "# Fixing position of walker 8 (parameter pq_func_par0[2])\n",
      "# Moved from 0.822901129579538 to 0.5520576426249202\n",
      "# Fixing position of walker 16 (parameter pq_func_par0[2])\n",
      "# Moved from 0.7726921315249586 to 0.5082336141355417\n",
      "# Fixing position of walker 29 (parameter pq_func_par0[2])\n",
      "# Moved from 0.8843313209920858 to 0.5809336169177115\n",
      "# Fixing position of walker 41 (parameter pq_func_par0[2])\n",
      "# Moved from 0.8147489655412545 to 0.49839978080503583\n",
      "# Fixing position of walker 51 (parameter pq_func_par0[2])\n",
      "# Moved from 0.7219473375655687 to 0.6134158223822729\n",
      "# Fixing position of walker 0 (parameter pq_func_par0[3])\n",
      "# Moved from 12.629881416714806 to 11.739471881016893\n",
      "# Fixing position of walker 2 (parameter pq_func_par0[3])\n",
      "# Moved from 12.69610436892481 to 11.791528651159568\n",
      "# Fixing position of walker 21 (parameter pq_func_par0[3])\n",
      "# Moved from 12.65645324033257 to 12.506074068506768\n",
      "# Fixing position of walker 27 (parameter pq_func_par0[3])\n",
      "# Moved from 12.787470402440555 to 12.506074068506768\n",
      "# Fixing position of walker 33 (parameter pq_func_par0[3])\n",
      "# Moved from 10.878007944221368 to 12.506074068506768\n",
      "# Fixing position of walker 42 (parameter pq_func_par0[3])\n",
      "# Moved from 12.701308108624113 to 11.791528651159568\n",
      "# Fixing position of walker 43 (parameter pq_func_par0[3])\n",
      "# Moved from 12.614507302399437 to 11.117777953528183\n",
      "# Fixing position of walker 49 (parameter pq_func_par0[3])\n",
      "# Moved from 12.611051569868446 to 11.978274616394614\n",
      "# Fixing position of walker 0 (parameter pq_func_par2[3])\n",
      "# Moved from -0.020873202935967842 to 0.058447203840372566\n",
      "# Fixing position of walker 2 (parameter pq_func_par2[3])\n",
      "# Moved from -0.0488334770302772 to 0.114651801615673\n",
      "# Fixing position of walker 4 (parameter pq_func_par2[3])\n",
      "# Moved from -0.06251621618723938 to 0.0732353217681337\n",
      "# Fixing position of walker 5 (parameter pq_func_par2[3])\n",
      "# Moved from -0.04732233877792129 to 0.01442988666481558\n",
      "# Fixing position of walker 7 (parameter pq_func_par2[3])\n",
      "# Moved from -0.028186388206511318 to 0.01341084607386116\n",
      "# Fixing position of walker 11 (parameter pq_func_par2[3])\n",
      "# Moved from -0.037208074058574736 to 0.05162661760279731\n",
      "# Fixing position of walker 12 (parameter pq_func_par2[3])\n",
      "# Moved from -0.024785254941713967 to 0.05657963765496499\n",
      "# Fixing position of walker 13 (parameter pq_func_par2[3])\n",
      "# Moved from -0.0002574072961988201 to 0.01608402132606676\n",
      "# Fixing position of walker 14 (parameter pq_func_par2[3])\n",
      "# Moved from -0.034265187433322755 to 0.001492695908397932\n",
      "# Fixing position of walker 16 (parameter pq_func_par2[3])\n",
      "# Moved from -0.04976513923422411 to 0.001492695908397932\n",
      "# Fixing position of walker 17 (parameter pq_func_par2[3])\n",
      "# Moved from -0.023891133432767605 to 0.05083263591226429\n",
      "# Fixing position of walker 18 (parameter pq_func_par2[3])\n",
      "# Moved from -0.02538859328157778 to 0.114651801615673\n",
      "# Fixing position of walker 20 (parameter pq_func_par2[3])\n",
      "# Moved from -0.004776970675797711 to 0.025678965267882638\n",
      "# Fixing position of walker 22 (parameter pq_func_par2[3])\n",
      "# Moved from -0.017698075886348984 to 0.01341084607386116\n",
      "# Fixing position of walker 23 (parameter pq_func_par2[3])\n",
      "# Moved from -0.049691670325450604 to 0.11895060082130392\n",
      "# Fixing position of walker 24 (parameter pq_func_par2[3])\n",
      "# Moved from -0.10237168170070478 to 0.04604973680003492\n",
      "# Fixing position of walker 29 (parameter pq_func_par2[3])\n",
      "# Moved from -0.018785276601464385 to 0.025678965267882638\n",
      "# Fixing position of walker 32 (parameter pq_func_par2[3])\n",
      "# Moved from -0.0644835193823274 to 0.05083263591226429\n",
      "# Fixing position of walker 34 (parameter pq_func_par2[3])\n",
      "# Moved from -0.016751786278260333 to 0.05733149322995269\n",
      "# Fixing position of walker 36 (parameter pq_func_par2[3])\n",
      "# Moved from -0.0046069880924193875 to 0.01341084607386116\n",
      "# Fixing position of walker 39 (parameter pq_func_par2[3])\n",
      "# Moved from -0.021778207227156832 to 0.025678965267882638\n",
      "# Fixing position of walker 45 (parameter pq_func_par2[3])\n",
      "# Moved from -0.011399843175852228 to 0.037318105959297694\n",
      "# Fixing position of walker 46 (parameter pq_func_par2[3])\n",
      "# Moved from -0.02660982535613009 to 0.1489468328375723\n",
      "# Fixing position of walker 47 (parameter pq_func_par2[3])\n",
      "# Moved from -0.002635712959892289 to 0.058447203840372566\n",
      "# Fixing position of walker 55 (parameter pq_func_par2[3])\n",
      "# Moved from -0.11655509710958116 to 0.1062131751467384\n",
      "# Fixing position of walker 59 (parameter pq_func_par2[3])\n",
      "# Moved from -0.03726989482830084 to 0.06071011449619661\n"
     ]
    }
   ],
   "source": [
    "fitter.save_hmf = True  # cache HMF for a speed-up!\n",
    "fitter.save_psm = True  # cache source SED model (e.g., BPASS, S99)\n",
    "\n",
    "# Setting this flag to False will make ARES generate new files for each checkpoint.\n",
    "# 2-D blobs can get large, so this allows us to just download a single\n",
    "# snapshot or two if we'd like (useful if running on remote machine)\n",
    "fitter.checkpoint_append = False\n",
    "\n",
    "fitter.parameters = free_pars\n",
    "# fitter.is_log = is_log\n",
    "fitter.prior_set = ps\n",
    "\n",
    "# In general, the more the merrier (~hundreds)\n",
    "fitter.nwalkers = 60\n",
    "\n",
    "# fitter.jitter = [0.1] * len(fitter.parameters)\n",
    "fitter.jitter = [0.1, 0.1, 0.01, 0.05, 0.1, 0.1, 0.5, 0.05]\n",
    "\n",
    "fitter.guesses = guesses\n",
    "# fitter.pops"
   ]
  },
  {
   "cell_type": "code",
   "execution_count": null,
   "metadata": {},
   "outputs": [
    {
     "name": "stdout",
     "output_type": "stream",
     "text": [
      "Saved HaloMassFunction instance to limit I/O.\n",
      "# Starting burn-in: Thu Jun 18 16:52:42 2020\n"
     ]
    }
   ],
   "source": [
    "# Run the thing\n",
    "fitter.run('test_smfcal', burn=5, steps=30, save_freq=1, clobber=True)"
   ]
  },
  {
   "cell_type": "code",
   "execution_count": null,
   "metadata": {},
   "outputs": [],
   "source": [
    "anl = ares.analysis.ModelSet('test_smfcal')\n",
    "\n",
    "# ax = anl.Scatter(anl.parameters)\n"
   ]
  },
  {
   "cell_type": "code",
   "execution_count": null,
   "metadata": {},
   "outputs": [],
   "source": [
    "#look at the raw LF samples\n",
    "# ax = anl.ReconstructedFunction('galaxy_lf', ivar=[6, None], samples='all', color='b', alpha=0.01)\n",
    "\n",
    "# ax.set_yscale('log')\n",
    "z = 0.35\n",
    "# 0.35, 0.875, 1.125, 1.75, 2.25, 2.75\n",
    "\n",
    "gpop = ares.analysis.GalaxyPopulation()\n",
    "\n",
    "ax = anl.ReconstructedFunction('galaxy_smf', ivar=[z, None], samples='all', color='b', alpha=0.01)\n",
    "\n",
    "# Plot any data within dz=0.1 of z=6\n",
    "gpop.PlotSMF(z, ax=ax, round_z=0.2)\n",
    "\n",
    "ax.set_ylim(1e-9, 1)\n",
    "ax.legend()\n",
    "pl.show()"
   ]
  },
  {
   "cell_type": "code",
   "execution_count": null,
   "metadata": {},
   "outputs": [],
   "source": [
    "params = \\\n",
    "['pq_func_par0[0]',\n",
    "    'pq_func_par2[0]', \n",
    "\n",
    "    #norm\n",
    "    'pq_func_par0[1]',\n",
    "    'pq_func_par2[1]', \n",
    "\n",
    "    #gamma\n",
    "    'pq_func_par0[2]',\n",
    "    'pq_func_par2[2]', \n",
    "\n",
    "    #peak mass\n",
    "    'pq_func_par0[3]',\n",
    "    'pq_func_par2[3]' \n",
    "]\n",
    "\n",
    "\n",
    "anl.TrianglePlot(pars=params, ivar=[z, None, None, None, None, None, None, None], label_panels=params) #, #samples='all', color='b', alpha=0.01)\n"
   ]
  },
  {
   "cell_type": "code",
   "execution_count": null,
   "metadata": {},
   "outputs": [],
   "source": []
  }
 ],
 "metadata": {
  "kernelspec": {
   "display_name": "Python 3",
   "language": "python",
   "name": "python3"
  },
  "language_info": {
   "codemirror_mode": {
    "name": "ipython",
    "version": 3
   },
   "file_extension": ".py",
   "mimetype": "text/x-python",
   "name": "python",
   "nbconvert_exporter": "python",
   "pygments_lexer": "ipython3",
   "version": "3.7.4"
  }
 },
 "nbformat": 4,
 "nbformat_minor": 4
}

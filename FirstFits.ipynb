{
 "cells": [
  {
   "cell_type": "code",
   "execution_count": 1,
   "metadata": {},
   "outputs": [],
   "source": [
    "import ares\n",
    "import numpy as np\n",
    "import matplotlib.pyplot as pl\n",
    "import distpy"
   ]
  },
  {
   "cell_type": "code",
   "execution_count": 2,
   "metadata": {},
   "outputs": [],
   "source": [
    "# Independent variables\n",
    "redshifts = np.array([3, 3.8, 4, 4.9, 5, 5.9, 6, 6.9, 7, 7.9, 8])\n",
    "MUV = np.arange(-28, -8.8, 0.2)\n",
    "Mh = np.logspace(7, 13, 61)\n",
    "\n",
    "# blob 1: the LF. Give it a name, and the function needed to calculate it.\n",
    "blob_n1 = ['galaxy_lf']\n",
    "blob_i1 = [('z', redshifts), ('x', MUV)]\n",
    "blob_f1 = ['LuminosityFunction']\n",
    "\n",
    "# blob 2: the SFE. Same deal.\n",
    "blob_n2 = ['fstar']\n",
    "blob_i2 = [('z', redshifts), ('Mh', Mh)]\n",
    "blob_f2 = ['fstar']"
   ]
  },
  {
   "cell_type": "code",
   "execution_count": 3,
   "metadata": {},
   "outputs": [],
   "source": [
    "blob_pars = \\\n",
    "{\n",
    " 'blob_names': [blob_n1, blob_n2],\n",
    " 'blob_ivars': [blob_i1, blob_i2],\n",
    " 'blob_funcs': [blob_f1, blob_f2],\n",
    " 'blob_kwargs': [None] * 2,\n",
    "}"
   ]
  },
  {
   "cell_type": "code",
   "execution_count": 4,
   "metadata": {},
   "outputs": [],
   "source": [
    "#define the parameters that remain unchanged\n",
    "base_pars = ares.util.ParameterBundle('mirocha2017:base').pars_by_pop(0, True)\n",
    "base_pars.update(blob_pars)\n",
    "\n",
    "# This is important!\n",
    "base_pars['pop_calib_lum'] = None"
   ]
  },
  {
   "cell_type": "code",
   "execution_count": 5,
   "metadata": {},
   "outputs": [],
   "source": [
    "free_pars = \\\n",
    "  [\n",
    "   'pq_func_par0[0]',\n",
    "   'pq_func_par1[0]',\n",
    "   'pq_func_par2[0]',\n",
    "   'pq_func_par3[0]',\n",
    "  ]\n",
    "#which pars belong to what?\n",
    "\n",
    "is_log = [True, True, False, False]\n",
    "\n",
    "from distpy.distribution import UniformDistribution\n",
    "from distpy.distribution import DistributionSet\n",
    "\n",
    "ps = DistributionSet()\n",
    "ps.add_distribution(UniformDistribution(-3, 0.), 'pq_func_par0[0]')\n",
    "ps.add_distribution(UniformDistribution(9, 13),  'pq_func_par1[0]')\n",
    "ps.add_distribution(UniformDistribution(0, 2),   'pq_func_par2[0]')\n",
    "ps.add_distribution(UniformDistribution(-2, 0),  'pq_func_par3[0]')"
   ]
  },
  {
   "cell_type": "code",
   "execution_count": 7,
   "metadata": {},
   "outputs": [],
   "source": [
    "guesses = \\\n",
    "{\n",
    " 'pq_func_par0[0]': -1,\n",
    " 'pq_func_par1[0]': 11.5,\n",
    " 'pq_func_par2[0]': 0.5,\n",
    " 'pq_func_par3[0]': -0.5,\n",
    "}"
   ]
  },
  {
   "cell_type": "code",
   "execution_count": 8,
   "metadata": {},
   "outputs": [],
   "source": [
    "# Initialize a fitter object and give it the data to be fit\n",
    "fitter_lf = ares.inference.FitGalaxyPopulation(**base_pars)\n",
    "\n",
    "# The data can also be provided more explicitly\n",
    "#I seem to need this or else the run throws error: Must set data by hand! \n",
    "# fitter_lf.redshifts = {‘lf’: [5.9]}\n",
    "fitter_lf.data = 'bouwens2015'\n",
    "\n",
    "# fitter_lf.data('bouwens2015')"
   ]
  },
  {
   "cell_type": "code",
   "execution_count": 9,
   "metadata": {},
   "outputs": [],
   "source": [
    "fitter = ares.inference.ModelFit(**base_pars)\n",
    "fitter.add_fitter(fitter_lf)\n",
    "\n",
    "# Establish the object to which we'll pass parameters\n",
    "from ares.populations.GalaxyCohort import GalaxyCohort\n",
    "fitter.simulator = GalaxyCohort"
   ]
  },
  {
   "cell_type": "code",
   "execution_count": 10,
   "metadata": {},
   "outputs": [
    {
     "name": "stdout",
     "output_type": "stream",
     "text": [
      "Saved HaloMassFunction instance to limit I/O.\n",
      "# Starting burn-in: Wed Jun 17 10:45:54 2020\n",
      "# Wrote test_lfcal.burn.dd0000.facc.pkl: Wed Jun 17 10:49:01 2020\n",
      "# Wrote test_lfcal.burn.dd0001.facc.pkl: Wed Jun 17 10:50:29 2020\n",
      "# Wrote test_lfcal.burn.dd0002.facc.pkl: Wed Jun 17 10:52:02 2020\n",
      "# Burn-in complete in 368 seconds.\n",
      "# Starting MCMC: Wed Jun 17 10:52:02 2020\n",
      "# Wrote test_lfcal.dd0000.facc.pkl: Wed Jun 17 10:55:08 2020\n",
      "# Wrote test_lfcal.dd0001.facc.pkl: Wed Jun 17 10:56:31 2020\n",
      "# Wrote test_lfcal.dd0002.facc.pkl: Wed Jun 17 10:57:59 2020\n",
      "# Wrote test_lfcal.dd0003.facc.pkl: Wed Jun 17 10:59:26 2020\n",
      "# Wrote test_lfcal.dd0004.facc.pkl: Wed Jun 17 11:00:50 2020\n",
      "# Wrote test_lfcal.dd0005.facc.pkl: Wed Jun 17 11:02:13 2020\n",
      "# Wrote test_lfcal.dd0006.facc.pkl: Wed Jun 17 11:03:36 2020\n",
      "# Wrote test_lfcal.dd0007.facc.pkl: Wed Jun 17 11:04:58 2020\n",
      "# Wrote test_lfcal.dd0008.facc.pkl: Wed Jun 17 11:06:20 2020\n",
      "# Wrote test_lfcal.dd0009.facc.pkl: Wed Jun 17 11:07:42 2020\n",
      "# Wrote test_lfcal.dd0010.facc.pkl: Wed Jun 17 11:09:04 2020\n",
      "# Wrote test_lfcal.dd0011.facc.pkl: Wed Jun 17 11:10:26 2020\n",
      "# Wrote test_lfcal.dd0012.facc.pkl: Wed Jun 17 11:11:47 2020\n",
      "# Wrote test_lfcal.dd0013.facc.pkl: Wed Jun 17 11:13:08 2020\n",
      "# Wrote test_lfcal.dd0014.facc.pkl: Wed Jun 17 11:14:31 2020\n",
      "# Finished on Wed Jun 17 11:14:31 2020\n"
     ]
    }
   ],
   "source": [
    "fitter.save_hmf = True  # cache HMF for a speed-up!\n",
    "fitter.save_psm = True  # cache source SED model (e.g., BPASS, S99)\n",
    "\n",
    "# Setting this flag to False will make ARES generate new files for each checkpoint.\n",
    "# 2-D blobs can get large, so this allows us to just download a single\n",
    "# snapshot or two if we'd like (useful if running on remote machine)\n",
    "fitter.checkpoint_append = False\n",
    "\n",
    "fitter.parameters = free_pars\n",
    "fitter.is_log = is_log\n",
    "fitter.prior_set = ps\n",
    "\n",
    "# In general, the more the merrier (~hundreds)\n",
    "fitter.nwalkers = 50\n",
    "\n",
    "fitter.jitter = [0.1] * len(fitter.parameters)\n",
    "fitter.guesses = guesses\n",
    "\n",
    "# Run the thing\n",
    "fitter.run('test_lfcal', burn=3, steps=15, save_freq=1, clobber=True)"
   ]
  },
  {
   "cell_type": "code",
   "execution_count": 11,
   "metadata": {},
   "outputs": [
    {
     "name": "stdout",
     "output_type": "stream",
     "text": [
      "\n",
      "##############################################################################################################\n",
      "####                                         Analysis: Model Set                                          ####\n",
      "##############################################################################################################\n",
      "#### ---------------------------------------------------------------------------------------------------- ####\n",
      "#### Basic Information                                                                                    ####\n",
      "#### ---------------------------------------------------------------------------------------------------- ####\n",
      "#### path        : ./                                                                                     ####\n",
      "#### prefix      : test_lfcal                                                                             ####\n",
      "#### N-d         : 4                                                                                      ####\n",
      "#### ---------------------------------------------------------------------------------------------------- ####\n",
      "#### param    #00: pq_func_par0[0]                                                                        ####\n",
      "#### param    #01: pq_func_par1[0]                                                                        ####\n",
      "#### param    #02: pq_func_par2[0]                                                                        ####\n",
      "#### param    #03: pq_func_par3[0]                                                                        ####\n",
      "##############################################################################################################\n",
      "\n"
     ]
    }
   ],
   "source": [
    "anl = ares.analysis.ModelSet('test_lfcal')"
   ]
  },
  {
   "cell_type": "code",
   "execution_count": 17,
   "metadata": {},
   "outputs": [
    {
     "data": {
      "image/png": "[encoded data removed]",
      "text/plain": [
       "<Figure size 432x288 with 1 Axes>"
      ]
     },
     "metadata": {
      "needs_background": "light"
     },
     "output_type": "display_data"
    }
   ],
   "source": [
    "#look at the raw LF samples\n",
    "ax = anl.ReconstructedFunction('galaxy_lf', ivar=[6, None], samples='all', color='b', alpha=0.01)\n",
    "\n",
    "ax.set_yscale('log')"
   ]
  },
  {
   "cell_type": "code",
   "execution_count": 31,
   "metadata": {},
   "outputs": [
    {
     "name": "stdout",
     "output_type": "stream",
     "text": [
      "# WARNING: finkelstein2015 wavelength=1500.0A, not 1600A!\n"
     ]
    },
    {
     "data": {
      "image/png": "[encoded data removed]",
      "text/plain": [
       "<Figure size 432x288 with 1 Axes>"
      ]
     },
     "metadata": {
      "needs_background": "light"
     },
     "output_type": "display_data"
    }
   ],
   "source": [
    "gpop = ares.analysis.GalaxyPopulation()\n",
    "\n",
    "ax = anl.ReconstructedFunction('galaxy_lf', ivar=[6, None], samples='all', color='b', alpha=0.01)\n",
    "\n",
    "# Plot any data within dz=0.1 of z=6\n",
    "gpop.PlotLF(6, ax=ax, round_z=0.1)\n",
    "\n",
    "ax.set_ylim(1e-9, 1)\n",
    "ax.legend()\n",
    "pl.show()"
   ]
  },
  {
   "cell_type": "code",
   "execution_count": null,
   "metadata": {},
   "outputs": [],
   "source": []
  },
  {
   "cell_type": "code",
   "execution_count": null,
   "metadata": {},
   "outputs": [],
   "source": []
  },
  {
   "cell_type": "markdown",
   "metadata": {},
   "source": [
    "My first try at fitting"
   ]
  },
  {
   "cell_type": "code",
   "execution_count": 17,
   "metadata": {},
   "outputs": [],
   "source": [
    "# Independent variables\n",
    "redshifts = np.array([3, 3.8, 4, 4.9, 5, 5.9, 6, 6.9, 7, 7.9, 8])\n",
    "MUV = np.arange(-28, -8.8, 0.2)\n",
    "# Mh = np.logspace(7, 13, 61)\n",
    "\n",
    "# blob 1: the LF. Give it a name, and the function needed to calculate it.\n",
    "blob_n1 = ['galaxy_lf']\n",
    "blob_i1 = [('z', redshifts), ('x', MUV)]\n",
    "blob_f1 = ['LuminosityFunction']\n",
    "\n",
    "# # blob 2: the SFE. Same deal.\n",
    "# blob_n2 = ['fstar']\n",
    "# blob_i2 = [('z', redshifts), ('Mh', Mh)]\n",
    "# blob_f2 = ['fstar']"
   ]
  },
  {
   "cell_type": "code",
   "execution_count": 18,
   "metadata": {},
   "outputs": [],
   "source": [
    "blob_pars = \\\n",
    "{\n",
    " 'blob_names': [blob_n1],\n",
    " 'blob_ivars': [blob_i1],\n",
    " 'blob_funcs': [blob_f1],\n",
    " 'blob_kwargs': [None],\n",
    "}"
   ]
  },
  {
   "cell_type": "code",
   "execution_count": 19,
   "metadata": {},
   "outputs": [],
   "source": [
    "#define the parameters that remain unchanged\n",
    "base_pars = ares.util.ParameterBundle('emma:model1')\n",
    "base_pars.update(blob_pars)\n",
    "base_pars.update({'progress_bar': True})\n",
    "\n",
    "# This is important!\n",
    "base_pars['pop_calib_lum'] = None"
   ]
  },
  {
   "cell_type": "code",
   "execution_count": 20,
   "metadata": {},
   "outputs": [],
   "source": [
    "free_pars = \\\n",
    "  [\n",
    "   'pq_func_par0[4]', #this is the constant\n",
    "#    'pq_func_par1[4]', #offset\n",
    "#    'pq_func_par2[4]', #slope\n",
    "  ]\n",
    "\n",
    "is_log = [False, False, False]\n",
    "\n",
    "from distpy.distribution import UniformDistribution\n",
    "from distpy.distribution import DistributionSet\n",
    "\n",
    "ps = DistributionSet()\n",
    "ps.add_distribution(UniformDistribution(1e-9, 1e-1), 'pq_func_par0[4]')\n",
    "# ps.add_distribution(UniformDistribution(0, 1e-1),  'pq_func_par1[4]')\n",
    "# ps.add_distribution(UniformDistribution(0, 1e-1),   'pq_func_par2[4]')"
   ]
  },
  {
   "cell_type": "code",
   "execution_count": 21,
   "metadata": {},
   "outputs": [],
   "source": [
    "guesses = \\\n",
    "{\n",
    " 'pq_func_par0[4]': 3e-4,\n",
    "#  'pq_func_par1[4]': 0,\n",
    "#  'pq_func_par2[4]': 0,\n",
    "}"
   ]
  },
  {
   "cell_type": "code",
   "execution_count": 22,
   "metadata": {},
   "outputs": [],
   "source": [
    "# Initialize a fitter object and give it the data to be fit\n",
    "fitter_lf = ares.inference.FitGalaxyPopulation(**base_pars)\n",
    "\n",
    "# The data can also be provided more explicitly\n",
    "#I seem to need this or else the run throws error: Must set data by hand! \n",
    "# fitter_lf.redshifts = {‘lf’: [5.9]}\n",
    "fitter_lf.data = 'bouwens2015'\n",
    "\n",
    "# fitter_lf.data('bouwens2015')"
   ]
  },
  {
   "cell_type": "code",
   "execution_count": 23,
   "metadata": {},
   "outputs": [],
   "source": [
    "fitter = ares.inference.ModelFit(**base_pars)\n",
    "fitter.add_fitter(fitter_lf)\n",
    "\n",
    "# Establish the object to which we'll pass parameters\n",
    "from ares.populations.GalaxyHOD import GalaxyHOD\n",
    "fitter.simulator = GalaxyHOD"
   ]
  },
  {
   "cell_type": "code",
   "execution_count": 24,
   "metadata": {},
   "outputs": [
    {
     "name": "stdout",
     "output_type": "stream",
     "text": [
      "(['galaxy_lf'],)\n",
      "([array([3. , 3.8, 4. , 4.9, 5. , 5.9, 6. , 6.9, 7. , 7.9, 8. ]), array([-28. , -27.8, -27.6, -27.4, -27.2, -27. , -26.8, -26.6, -26.4,\n",
      "       -26.2, -26. , -25.8, -25.6, -25.4, -25.2, -25. , -24.8, -24.6,\n",
      "       -24.4, -24.2, -24. , -23.8, -23.6, -23.4, -23.2, -23. , -22.8,\n",
      "       -22.6, -22.4, -22.2, -22. , -21.8, -21.6, -21.4, -21.2, -21. ,\n",
      "       -20.8, -20.6, -20.4, -20.2, -20. , -19.8, -19.6, -19.4, -19.2,\n",
      "       -19. , -18.8, -18.6, -18.4, -18.2, -18. , -17.8, -17.6, -17.4,\n",
      "       -17.2, -17. , -16.8, -16.6, -16.4, -16.2, -16. , -15.8, -15.6,\n",
      "       -15.4, -15.2, -15. , -14.8, -14.6, -14.4, -14.2, -14. , -13.8,\n",
      "       -13.6, -13.4, -13.2, -13. , -12.8, -12.6, -12.4, -12.2, -12. ,\n",
      "       -11.8, -11.6, -11.4, -11.2, -11. , -10.8, -10.6, -10.4, -10.2,\n",
      "       -10. ,  -9.8,  -9.6,  -9.4,  -9.2,  -9. ])],)\n",
      "(['LuminosityFunction'],) (None,)\n"
     ]
    }
   ],
   "source": [
    "print(fitter.blob_names)\n",
    "print(fitter.blob_ivars)\n",
    "print(fitter.blob_funcs, fitter.blob_kwargs)\n"
   ]
  },
  {
   "cell_type": "code",
   "execution_count": 25,
   "metadata": {},
   "outputs": [],
   "source": [
    "fitter.save_hmf = True  # cache HMF for a speed-up!\n",
    "fitter.save_psm = True  # cache source SED model (e.g., BPASS, S99)\n",
    "\n",
    "# Setting this flag to False will make ARES generate new files for each checkpoint.\n",
    "# 2-D blobs can get large, so this allows us to just download a single\n",
    "# snapshot or two if we'd like (useful if running on remote machine)\n",
    "fitter.checkpoint_append = False\n",
    "\n",
    "fitter.parameters = free_pars\n",
    "# fitter.is_log = is_log\n",
    "fitter.prior_set = ps\n",
    "\n",
    "# In general, the more the merrier (~hundreds)\n",
    "fitter.nwalkers = 50\n",
    "\n",
    "fitter.jitter = [0.0001] * len(fitter.parameters)\n",
    "fitter.guesses = guesses\n",
    "# fitter.pops"
   ]
  },
  {
   "cell_type": "code",
   "execution_count": 26,
   "metadata": {},
   "outputs": [
    {
     "name": "stdout",
     "output_type": "stream",
     "text": [
      "Saved HaloMassFunction instance to limit I/O.\n",
      "# Starting burn-in: Wed Jun 17 15:15:29 2020\n",
      "# Wrote test_lfcal.burn.dd0000.facc.pkl: Wed Jun 17 15:15:49 2020\n",
      "# Wrote test_lfcal.burn.dd0001.facc.pkl: Wed Jun 17 15:15:59 2020\n",
      "# Burn-in complete in 30.4 seconds.\n",
      "# Starting MCMC: Wed Jun 17 15:15:59 2020\n",
      "# Wrote test_lfcal.dd0000.facc.pkl: Wed Jun 17 15:16:19 2020\n",
      "# Wrote test_lfcal.dd0001.facc.pkl: Wed Jun 17 15:16:25 2020\n",
      "# Wrote test_lfcal.dd0002.facc.pkl: Wed Jun 17 15:16:31 2020\n",
      "# Wrote test_lfcal.dd0003.facc.pkl: Wed Jun 17 15:16:37 2020\n",
      "# Wrote test_lfcal.dd0004.facc.pkl: Wed Jun 17 15:16:43 2020\n",
      "# Wrote test_lfcal.dd0005.facc.pkl: Wed Jun 17 15:16:49 2020\n",
      "# Wrote test_lfcal.dd0006.facc.pkl: Wed Jun 17 15:16:55 2020\n",
      "# Wrote test_lfcal.dd0007.facc.pkl: Wed Jun 17 15:17:01 2020\n",
      "# Wrote test_lfcal.dd0008.facc.pkl: Wed Jun 17 15:17:07 2020\n",
      "# Wrote test_lfcal.dd0009.facc.pkl: Wed Jun 17 15:17:13 2020\n",
      "# Finished on Wed Jun 17 15:17:13 2020\n"
     ]
    }
   ],
   "source": [
    "# Run the thing\n",
    "fitter.run('test_lfcal', burn=2, steps=10, save_freq=1, clobber=True)"
   ]
  },
  {
   "cell_type": "code",
   "execution_count": 27,
   "metadata": {},
   "outputs": [
    {
     "name": "stdout",
     "output_type": "stream",
     "text": [
      "\n",
      "##############################################################################################################\n",
      "####                                         Analysis: Model Set                                          ####\n",
      "##############################################################################################################\n",
      "#### ---------------------------------------------------------------------------------------------------- ####\n",
      "#### Basic Information                                                                                    ####\n",
      "#### ---------------------------------------------------------------------------------------------------- ####\n",
      "#### path        : ./                                                                                     ####\n",
      "#### prefix      : test_lfcal                                                                             ####\n",
      "#### N-d         : 1                                                                                      ####\n",
      "#### ---------------------------------------------------------------------------------------------------- ####\n",
      "#### param    #00: pq_func_par0[4]                                                                        ####\n",
      "##############################################################################################################\n",
      "\n"
     ]
    }
   ],
   "source": [
    "anl = ares.analysis.ModelSet('test_lfcal')"
   ]
  },
  {
   "cell_type": "code",
   "execution_count": 32,
   "metadata": {},
   "outputs": [
    {
     "name": "stdout",
     "output_type": "stream",
     "text": [
      "# WARNING: finkelstein2015 wavelength=1500.0A, not 1600A!\n"
     ]
    },
    {
     "data": {
      "image/png": "[encoded data removed]",
      "text/plain": [
       "<Figure size 432x288 with 1 Axes>"
      ]
     },
     "metadata": {
      "needs_background": "light"
     },
     "output_type": "display_data"
    }
   ],
   "source": [
    "#look at the raw LF samples\n",
    "# ax = anl.ReconstructedFunction('galaxy_lf', ivar=[6, None], samples='all', color='b', alpha=0.01)\n",
    "\n",
    "# ax.set_yscale('log')\n",
    "\n",
    "gpop = ares.analysis.GalaxyPopulation()\n",
    "\n",
    "ax = anl.ReconstructedFunction('galaxy_lf', ivar=[6, None], samples='all', color='b', alpha=0.01)\n",
    "\n",
    "# Plot any data within dz=0.1 of z=6\n",
    "gpop.PlotLF(6, ax=ax, round_z=0.2)\n",
    "\n",
    "ax.set_ylim(1e-9, 1)\n",
    "ax.legend()\n",
    "pl.show()"
   ]
  },
  {
   "cell_type": "code",
   "execution_count": null,
   "metadata": {},
   "outputs": [],
   "source": []
  }
 ],
 "metadata": {
  "kernelspec": {
   "display_name": "Python 3",
   "language": "python",
   "name": "python3"
  },
  "language_info": {
   "codemirror_mode": {
    "name": "ipython",
    "version": 3
   },
   "file_extension": ".py",
   "mimetype": "text/x-python",
   "name": "python",
   "nbconvert_exporter": "python",
   "pygments_lexer": "ipython3",
   "version": "3.7.4"
  }
 },
 "nbformat": 4,
 "nbformat_minor": 4
}

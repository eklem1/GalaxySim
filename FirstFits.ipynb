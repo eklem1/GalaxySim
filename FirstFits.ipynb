{
 "cells": [
  {
   "cell_type": "code",
   "execution_count": 1,
   "metadata": {},
   "outputs": [],
   "source": [
    "import ares\n",
    "import numpy as np\n",
    "import matplotlib.pyplot as pl\n",
    "import distpy"
   ]
  },
  {
   "cell_type": "code",
   "execution_count": 2,
   "metadata": {},
   "outputs": [],
   "source": [
    "# Independent variables\n",
    "redshifts = np.array([3, 3.8, 4, 4.9, 5, 5.9, 6, 6.9, 7, 7.9, 8])\n",
    "MUV = np.arange(-28, -8.8, 0.2)\n",
    "Mh = np.logspace(7, 13, 61)\n",
    "\n",
    "# blob 1: the LF. Give it a name, and the function needed to calculate it.\n",
    "blob_n1 = ['galaxy_lf']\n",
    "blob_i1 = [('z', redshifts), ('x', MUV)]\n",
    "blob_f1 = ['LuminosityFunction']\n",
    "\n",
    "# blob 2: the SFE. Same deal.\n",
    "blob_n2 = ['fstar']\n",
    "blob_i2 = [('z', redshifts), ('Mh', Mh)]\n",
    "blob_f2 = ['fstar']"
   ]
  },
  {
   "cell_type": "code",
   "execution_count": 3,
   "metadata": {},
   "outputs": [],
   "source": [
    "blob_pars = \\\n",
    "{\n",
    " 'blob_names': [blob_n1, blob_n2],\n",
    " 'blob_ivars': [blob_i1, blob_i2],\n",
    " 'blob_funcs': [blob_f1, blob_f2],\n",
    " 'blob_kwargs': [None] * 2,\n",
    "}"
   ]
  },
  {
   "cell_type": "code",
   "execution_count": 4,
   "metadata": {},
   "outputs": [],
   "source": [
    "base_pars = ares.util.ParameterBundle('mirocha2017:base').pars_by_pop(0, True)\n",
    "base_pars.update(blob_pars)\n",
    "\n",
    "# This is important!\n",
    "base_pars['pop_calib_lum'] = None"
   ]
  },
  {
   "cell_type": "code",
   "execution_count": 5,
   "metadata": {},
   "outputs": [],
   "source": [
    "free_pars = \\\n",
    "  [\n",
    "   'pq_func_par0[0]',\n",
    "   'pq_func_par1[0]',\n",
    "   'pq_func_par2[0]',\n",
    "   'pq_func_par3[0]',\n",
    "  ]\n",
    "#which pars belong to what?\n",
    "\n",
    "is_log = [True, True, False, False]\n",
    "\n",
    "from distpy.distribution import UniformDistribution\n",
    "from distpy.distribution import DistributionSet, BernoulliDistribution\n",
    "\n",
    "ps = DistributionSet()\n",
    "ps.add_distribution(UniformDistribution(-3, 0.), 'pq_func_par0[0]')\n",
    "ps.add_distribution(UniformDistribution(9, 13),  'pq_func_par1[0]')\n",
    "ps.add_distribution(UniformDistribution(0, 2),   'pq_func_par2[0]')\n",
    "ps.add_distribution(UniformDistribution(-2, 0),  'pq_func_par3[0]')"
   ]
  },
  {
   "cell_type": "code",
   "execution_count": 6,
   "metadata": {},
   "outputs": [],
   "source": [
    "guesses = \\\n",
    "{\n",
    " 'pq_func_par0[0]': -1,\n",
    " 'pq_func_par1[0]': 11.5,\n",
    " 'pq_func_par2[0]': 0.5,\n",
    " 'pq_func_par3[0]': -0.5,\n",
    "}"
   ]
  },
  {
   "cell_type": "code",
   "execution_count": 7,
   "metadata": {},
   "outputs": [],
   "source": [
    "# Initialize a fitter object and give it the data to be fit\n",
    "fitter_lf = ares.inference.FitGalaxyPopulation(**base_pars)\n",
    "\n",
    "# The data can also be provided more explicitly\n",
    "#I seem to need this or else the run throws error: Must set data by hand! \n",
    "fitter_lf.data = 'bouwens2015' #this throws error\n",
    "\n",
    "# fitter_lf.data('bouwens2015')"
   ]
  },
  {
   "cell_type": "code",
   "execution_count": 8,
   "metadata": {},
   "outputs": [],
   "source": [
    "fitter = ares.inference.ModelFit(**base_pars)\n",
    "fitter.add_fitter(fitter_lf)\n",
    "\n",
    "# Establish the object to which we'll pass parameters\n",
    "from ares.populations.GalaxyCohort import GalaxyCohort\n",
    "fitter.simulator = GalaxyCohort"
   ]
  },
  {
   "cell_type": "code",
   "execution_count": 9,
   "metadata": {},
   "outputs": [
    {
     "name": "stdout",
     "output_type": "stream",
     "text": [
      "Saved HaloMassFunction instance to limit I/O.\n",
      "# Starting MCMC: Tue Jun 16 15:49:03 2020\n",
      "# Wrote test_lfcal.dd0000.facc.pkl: Tue Jun 16 15:50:14 2020\n",
      "# Wrote test_lfcal.dd0001.facc.pkl: Tue Jun 16 15:51:03 2020\n",
      "# Wrote test_lfcal.dd0002.facc.pkl: Tue Jun 16 15:51:40 2020\n",
      "# Wrote test_lfcal.dd0003.facc.pkl: Tue Jun 16 15:52:26 2020\n",
      "# Wrote test_lfcal.dd0004.facc.pkl: Tue Jun 16 15:53:03 2020\n",
      "# Wrote test_lfcal.dd0005.facc.pkl: Tue Jun 16 15:53:40 2020\n",
      "# Wrote test_lfcal.dd0006.facc.pkl: Tue Jun 16 15:54:15 2020\n",
      "# Wrote test_lfcal.dd0007.facc.pkl: Tue Jun 16 15:54:51 2020\n",
      "# Wrote test_lfcal.dd0008.facc.pkl: Tue Jun 16 15:55:26 2020\n",
      "# Wrote test_lfcal.dd0009.facc.pkl: Tue Jun 16 15:56:04 2020\n",
      "# Finished on Tue Jun 16 15:56:04 2020\n"
     ]
    }
   ],
   "source": [
    "fitter.save_hmf = True  # cache HMF for a speed-up!\n",
    "fitter.save_psm = True  # cache source SED model (e.g., BPASS, S99)\n",
    "\n",
    "# Setting this flag to False will make ARES generate new files for each checkpoint.\n",
    "# 2-D blobs can get large, so this allows us to just download a single\n",
    "# snapshot or two if we'd like (useful if running on remote machine)\n",
    "fitter.checkpoint_append = False\n",
    "\n",
    "fitter.parameters = free_pars\n",
    "fitter.is_log = is_log\n",
    "fitter.prior_set = ps\n",
    "\n",
    "# In general, the more the merrier (~hundreds)\n",
    "fitter.nwalkers = 16\n",
    "\n",
    "fitter.jitter = [0.1] * len(fitter.parameters)\n",
    "fitter.guesses = guesses\n",
    "\n",
    "# Run the thing\n",
    "fitter.run('test_lfcal', burn=0, steps=10, save_freq=1, clobber=True)"
   ]
  },
  {
   "cell_type": "code",
   "execution_count": 10,
   "metadata": {},
   "outputs": [
    {
     "name": "stdout",
     "output_type": "stream",
     "text": [
      "\n",
      "##############################################################################################################\n",
      "####                                         Analysis: Model Set                                          ####\n",
      "##############################################################################################################\n",
      "#### ---------------------------------------------------------------------------------------------------- ####\n",
      "#### Basic Information                                                                                    ####\n",
      "#### ---------------------------------------------------------------------------------------------------- ####\n",
      "#### path        : ./                                                                                     ####\n",
      "#### prefix      : test_lfcal                                                                             ####\n",
      "#### N-d         : 4                                                                                      ####\n",
      "#### ---------------------------------------------------------------------------------------------------- ####\n",
      "#### param    #00: pq_func_par0[0]                                                                        ####\n",
      "#### param    #01: pq_func_par1[0]                                                                        ####\n",
      "#### param    #02: pq_func_par2[0]                                                                        ####\n",
      "#### param    #03: pq_func_par3[0]                                                                        ####\n",
      "##############################################################################################################\n",
      "\n"
     ]
    }
   ],
   "source": [
    "anl = ares.analysis.ModelSet('test_lfcal')"
   ]
  },
  {
   "cell_type": "code",
   "execution_count": 11,
   "metadata": {},
   "outputs": [
    {
     "name": "stdout",
     "output_type": "stream",
     "text": [
      "# Loading test_lfcal.dd*.chain.pkl...\n",
      "# Loaded test_lfcal.dd*.chain.pkl in 0.097 s.\n",
      "# Loaded test_lfcal.dd0000.blob_2d.galaxy_lf.pkl\n",
      "# Loaded test_lfcal.dd0001.blob_2d.galaxy_lf.pkl\n",
      "# Loaded test_lfcal.dd0002.blob_2d.galaxy_lf.pkl\n",
      "# Loaded test_lfcal.dd0003.blob_2d.galaxy_lf.pkl\n",
      "# Loaded test_lfcal.dd0004.blob_2d.galaxy_lf.pkl\n",
      "# Loaded test_lfcal.dd0005.blob_2d.galaxy_lf.pkl\n",
      "# Loaded test_lfcal.dd0006.blob_2d.galaxy_lf.pkl\n",
      "# Loaded test_lfcal.dd0007.blob_2d.galaxy_lf.pkl\n",
      "# Loaded test_lfcal.dd0008.blob_2d.galaxy_lf.pkl\n",
      "# Loaded test_lfcal.dd0009.blob_2d.galaxy_lf.pkl\n"
     ]
    },
    {
     "data": {
      "image/png": "[encoded data removed]",
      "text/plain": [
       "<Figure size 432x288 with 1 Axes>"
      ]
     },
     "metadata": {
      "needs_background": "light"
     },
     "output_type": "display_data"
    }
   ],
   "source": [
    "ax = anl.ReconstructedFunction('galaxy_lf', ivar=[6, None], samples='all', color='b', alpha=0.01)\n",
    "\n",
    "ax.set_yscale('log')"
   ]
  },
  {
   "cell_type": "code",
   "execution_count": null,
   "metadata": {},
   "outputs": [],
   "source": []
  }
 ],
 "metadata": {
  "kernelspec": {
   "display_name": "Python 3",
   "language": "python",
   "name": "python3"
  },
  "language_info": {
   "codemirror_mode": {
    "name": "ipython",
    "version": 3
   },
   "file_extension": ".py",
   "mimetype": "text/x-python",
   "name": "python",
   "nbconvert_exporter": "python",
   "pygments_lexer": "ipython3",
   "version": "3.7.4"
  }
 },
 "nbformat": 4,
 "nbformat_minor": 4
}

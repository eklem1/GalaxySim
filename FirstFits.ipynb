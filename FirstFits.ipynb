{
 "cells": [
  {
   "cell_type": "code",
   "execution_count": 1,
   "metadata": {},
   "outputs": [],
   "source": [
    "import ares\n",
    "import numpy as np\n",
    "import matplotlib.pyplot as pl"
   ]
  },
  {
   "cell_type": "code",
   "execution_count": 2,
   "metadata": {},
   "outputs": [],
   "source": [
    "# Independent variables\n",
    "redshifts = np.array([3, 3.8, 4, 4.9, 5, 5.9, 6, 6.9, 7, 7.9, 8])\n",
    "MUV = np.arange(-28, -8.8, 0.2)\n",
    "Mh = np.logspace(7, 13, 61)\n",
    "\n",
    "# blob 1: the LF. Give it a name, and the function needed to calculate it.\n",
    "blob_n1 = ['galaxy_lf']\n",
    "blob_i1 = [('z', redshifts), ('x', MUV)]\n",
    "blob_f1 = ['LuminosityFunction']\n"
   ]
  },
  {
   "cell_type": "code",
   "execution_count": 3,
   "metadata": {},
   "outputs": [],
   "source": [
    "blob_pars = \\\n",
    "{\n",
    " 'blob_names': [blob_n1],\n",
    " 'blob_ivars': [blob_i1],\n",
    " 'blob_funcs': [blob_f1],\n",
    " 'blob_kwargs': [None],\n",
    "}"
   ]
  },
  {
   "cell_type": "code",
   "execution_count": 4,
   "metadata": {},
   "outputs": [],
   "source": [
    "base_pars = ares.util.ParameterBundle('mirocha2017:base').pars_by_pop(0, True)\n",
    "base_pars.update(blob_pars)\n",
    "\n",
    "# This is important!\n",
    "base_pars['pop_calib_lum'] = None"
   ]
  },
  {
   "cell_type": "code",
   "execution_count": 30,
   "metadata": {},
   "outputs": [],
   "source": [
    "free_pars = \\\n",
    "  [\n",
    "   'pq_func_par0[0]',\n",
    "   'pq_func_par1[0]',\n",
    "   'pq_func_par2[0]',\n",
    "   'pq_func_par3[0]',\n",
    "  ]\n",
    "\n",
    "is_log = [True, True, False, False]\n",
    "\n",
    "# import distpy\n",
    "# from distpy.distribution import UniformDistribution #not working!\n",
    "# from distpy import DistributionSet\n",
    "# from distpy import UniformDistribution\n",
    "\n",
    "# ps = DistributionSet()\n",
    "# distpy.distribution.UniformDistribution\n",
    "# ps.add_distribution(UniformDistribution(-3, 0.), 'pq_func_par0[0]')\n",
    "# ps.add_distribution(UniformDistribution(9, 13),  'pq_func_par1[0]')\n",
    "# ps.add_distribution(UniformDistribution(0, 2),   'pq_func_par2[0]')\n",
    "# ps.add_distribution(UniformDistribution(-2, 0),  'pq_func_par3[0]')\n",
    "\n",
    "ps = [(np.linspace(-3, 0., 50), 'pq_func_par0[0]'),  (np.linspace(9, 13., 50), 'pq_func_par1[0]'), \\\n",
    "      (np.linspace(0., 2, 50), 'pq_func_par2[0]'), (np.linspace(-2, 0., 50), 'pq_func_par3[0]')]"
   ]
  },
  {
   "cell_type": "code",
   "execution_count": 15,
   "metadata": {},
   "outputs": [],
   "source": [
    "guesses = \\\n",
    "{\n",
    " 'pq_func_par0[0]': -1,\n",
    " 'pq_func_par1[0]': 11.5,\n",
    " 'pq_func_par2[0]': 0.5,\n",
    " 'pq_func_par3[0]': -0.5,\n",
    "}"
   ]
  },
  {
   "cell_type": "code",
   "execution_count": 16,
   "metadata": {},
   "outputs": [],
   "source": [
    "# Initialize a fitter object and give it the data to be fit\n",
    "fitter_lf = ares.inference.FitGalaxyPopulation(**base_pars)\n",
    "\n",
    "# The data can also be provided more explicitly\n",
    "# fitter_lf.data = 'bouwens2015'"
   ]
  },
  {
   "cell_type": "code",
   "execution_count": 17,
   "metadata": {},
   "outputs": [],
   "source": [
    "fitter = ares.inference.ModelFit(**base_pars)\n",
    "fitter.add_fitter(fitter_lf)\n",
    "\n",
    "# Establish the object to which we'll pass parameters\n",
    "# from ares.populations.GalaxyCohort import GalaxyCohort\n",
    "from ares.populations.GalaxyHOD import GalaxyHOD\n",
    "\n",
    "fitter.simulator = GalaxyHOD"
   ]
  },
  {
   "cell_type": "code",
   "execution_count": 18,
   "metadata": {},
   "outputs": [
    {
     "ename": "NameError",
     "evalue": "name 'DistributionSet' is not defined",
     "output_type": "error",
     "traceback": [
      "\u001b[1;31m---------------------------------------------------------------------------\u001b[0m",
      "\u001b[1;31mNameError\u001b[0m                                 Traceback (most recent call last)",
      "\u001b[1;32m<ipython-input-18-df749d03f453>\u001b[0m in \u001b[0;36m<module>\u001b[1;34m\u001b[0m\n\u001b[0;32m      9\u001b[0m \u001b[0mfitter\u001b[0m\u001b[1;33m.\u001b[0m\u001b[0mparameters\u001b[0m \u001b[1;33m=\u001b[0m \u001b[0mfree_pars\u001b[0m\u001b[1;33m\u001b[0m\u001b[1;33m\u001b[0m\u001b[0m\n\u001b[0;32m     10\u001b[0m \u001b[0mfitter\u001b[0m\u001b[1;33m.\u001b[0m\u001b[0mis_log\u001b[0m \u001b[1;33m=\u001b[0m \u001b[0mis_log\u001b[0m\u001b[1;33m\u001b[0m\u001b[1;33m\u001b[0m\u001b[0m\n\u001b[1;32m---> 11\u001b[1;33m \u001b[0mfitter\u001b[0m\u001b[1;33m.\u001b[0m\u001b[0mprior_set\u001b[0m \u001b[1;33m=\u001b[0m \u001b[0mps\u001b[0m\u001b[1;33m\u001b[0m\u001b[1;33m\u001b[0m\u001b[0m\n\u001b[0m\u001b[0;32m     12\u001b[0m \u001b[1;33m\u001b[0m\u001b[0m\n\u001b[0;32m     13\u001b[0m \u001b[1;31m# In general, the more the merrier (~hundreds)\u001b[0m\u001b[1;33m\u001b[0m\u001b[1;33m\u001b[0m\u001b[1;33m\u001b[0m\u001b[0m\n",
      "\u001b[1;32m~\\Anaconda3\\lib\\site-packages\\ares-0.1-py3.7.egg\\ares\\inference\\ModelFit.py\u001b[0m in \u001b[0;36mprior_set\u001b[1;34m(self, value)\u001b[0m\n\u001b[0;32m    592\u001b[0m     \u001b[1;33m@\u001b[0m\u001b[0mprior_set\u001b[0m\u001b[1;33m.\u001b[0m\u001b[0msetter\u001b[0m\u001b[1;33m\u001b[0m\u001b[1;33m\u001b[0m\u001b[0m\n\u001b[0;32m    593\u001b[0m     \u001b[1;32mdef\u001b[0m \u001b[0mprior_set\u001b[0m\u001b[1;33m(\u001b[0m\u001b[0mself\u001b[0m\u001b[1;33m,\u001b[0m \u001b[0mvalue\u001b[0m\u001b[1;33m)\u001b[0m\u001b[1;33m:\u001b[0m\u001b[1;33m\u001b[0m\u001b[1;33m\u001b[0m\u001b[0m\n\u001b[1;32m--> 594\u001b[1;33m         \u001b[1;32mif\u001b[0m \u001b[0misinstance\u001b[0m\u001b[1;33m(\u001b[0m\u001b[0mvalue\u001b[0m\u001b[1;33m,\u001b[0m \u001b[0mDistributionSet\u001b[0m\u001b[1;33m)\u001b[0m\u001b[1;33m:\u001b[0m\u001b[1;33m\u001b[0m\u001b[1;33m\u001b[0m\u001b[0m\n\u001b[0m\u001b[0;32m    595\u001b[0m             \u001b[1;31m# could do more error catching but it would enforce certain\u001b[0m\u001b[1;33m\u001b[0m\u001b[1;33m\u001b[0m\u001b[1;33m\u001b[0m\u001b[0m\n\u001b[0;32m    596\u001b[0m             \u001b[1;31m# attributes being set before others which could complicate things\u001b[0m\u001b[1;33m\u001b[0m\u001b[1;33m\u001b[0m\u001b[1;33m\u001b[0m\u001b[0m\n",
      "\u001b[1;31mNameError\u001b[0m: name 'DistributionSet' is not defined"
     ]
    }
   ],
   "source": [
    "fitter.save_hmf = True  # cache HMF for a speed-up!\n",
    "fitter.save_psm = True  # cache source SED model (e.g., BPASS, S99)\n",
    "\n",
    "# Setting this flag to False will make ARES generate new files for each checkpoint.\n",
    "# 2-D blobs can get large, so this allows us to just download a single\n",
    "# snapshot or two if we'd like (useful if running on remote machine)\n",
    "fitter.checkpoint_append = False\n",
    "\n",
    "fitter.parameters = free_pars\n",
    "fitter.is_log = is_log\n",
    "fitter.prior_set = ps\n",
    "\n",
    "# In general, the more the merrier (~hundreds)\n",
    "fitter.nwalkers = 16\n",
    "\n",
    "fitter.jitter = [0.1] * len(fitter.parameters)\n",
    "fitter.guesses = guesses\n",
    "\n",
    "# Run the thing\n",
    "fitter.run('test_lfcal', burn=0, steps=10, save_freq=1, clobber=True)"
   ]
  },
  {
   "cell_type": "code",
   "execution_count": 19,
   "metadata": {},
   "outputs": [
    {
     "name": "stdout",
     "output_type": "stream",
     "text": [
      "\n",
      "##############################################################################################################\n",
      "####                                         Analysis: Model Set                                          ####\n",
      "##############################################################################################################\n",
      "#### ---------------------------------------------------------------------------------------------------- ####\n",
      "#### Basic Information                                                                                    ####\n",
      "#### ---------------------------------------------------------------------------------------------------- ####\n",
      "#### path        : ./                                                                                     ####\n",
      "#### prefix      : test_lfcal                                                                             ####\n",
      "WARNING: No files following naming convention ./test_lfcal were found.\n",
      "WARNING: No files with prefix=. were found.\n"
     ]
    }
   ],
   "source": [
    "anl = ares.analysis.ModelSet('test_lfcal')"
   ]
  },
  {
   "cell_type": "code",
   "execution_count": 12,
   "metadata": {},
   "outputs": [
    {
     "ename": "AttributeError",
     "evalue": "'NoneType' object has no attribute 'shape'",
     "output_type": "error",
     "traceback": [
      "\u001b[1;31m---------------------------------------------------------------------------\u001b[0m",
      "\u001b[1;31mAttributeError\u001b[0m                            Traceback (most recent call last)",
      "\u001b[1;32m<ipython-input-12-c05d6c38dfa4>\u001b[0m in \u001b[0;36m<module>\u001b[1;34m\u001b[0m\n\u001b[1;32m----> 1\u001b[1;33m \u001b[0max\u001b[0m \u001b[1;33m=\u001b[0m \u001b[0manl\u001b[0m\u001b[1;33m.\u001b[0m\u001b[0mReconstructedFunction\u001b[0m\u001b[1;33m(\u001b[0m\u001b[1;34m'galaxy_lf'\u001b[0m\u001b[1;33m,\u001b[0m \u001b[0mivar\u001b[0m\u001b[1;33m=\u001b[0m\u001b[1;33m[\u001b[0m\u001b[1;36m6\u001b[0m\u001b[1;33m,\u001b[0m \u001b[1;32mNone\u001b[0m\u001b[1;33m]\u001b[0m\u001b[1;33m,\u001b[0m \u001b[0msamples\u001b[0m\u001b[1;33m=\u001b[0m\u001b[1;34m'all'\u001b[0m\u001b[1;33m,\u001b[0m \u001b[0mcolor\u001b[0m\u001b[1;33m=\u001b[0m\u001b[1;34m'b'\u001b[0m\u001b[1;33m,\u001b[0m \u001b[0malpha\u001b[0m\u001b[1;33m=\u001b[0m\u001b[1;36m0.01\u001b[0m\u001b[1;33m)\u001b[0m\u001b[1;33m\u001b[0m\u001b[1;33m\u001b[0m\u001b[0m\n\u001b[0m\u001b[0;32m      2\u001b[0m \u001b[1;33m\u001b[0m\u001b[0m\n\u001b[0;32m      3\u001b[0m \u001b[0max\u001b[0m\u001b[1;33m.\u001b[0m\u001b[0mset_yscale\u001b[0m\u001b[1;33m(\u001b[0m\u001b[1;34m'log'\u001b[0m\u001b[1;33m)\u001b[0m\u001b[1;33m\u001b[0m\u001b[1;33m\u001b[0m\u001b[0m\n",
      "\u001b[1;32m~\\Anaconda3\\lib\\site-packages\\ares-0.1-py3.7.egg\\ares\\analysis\\ModelSet.py\u001b[0m in \u001b[0;36mReconstructedFunction\u001b[1;34m(self, name, ivar, fig, ax, use_best, percentile, take_log, un_logy, expr, new_x, is_logx, smooth_boundary, multiplier, skip, stop, return_data, z_to_freq, best, fill, samples, ivars, E_to_freq, **kwargs)\u001b[0m\n\u001b[0;32m   3831\u001b[0m             \u001b[0mq2\u001b[0m \u001b[1;33m=\u001b[0m \u001b[1;36m100\u001b[0m \u001b[1;33m*\u001b[0m \u001b[0mpercentile\u001b[0m \u001b[1;33m+\u001b[0m \u001b[0mq1\u001b[0m\u001b[1;33m\u001b[0m\u001b[1;33m\u001b[0m\u001b[0m\n\u001b[0;32m   3832\u001b[0m \u001b[1;33m\u001b[0m\u001b[0m\n\u001b[1;32m-> 3833\u001b[1;33m         \u001b[0mmax_samples\u001b[0m \u001b[1;33m=\u001b[0m \u001b[0mmin\u001b[0m\u001b[1;33m(\u001b[0m\u001b[0mself\u001b[0m\u001b[1;33m.\u001b[0m\u001b[0mchain\u001b[0m\u001b[1;33m.\u001b[0m\u001b[0mshape\u001b[0m\u001b[1;33m[\u001b[0m\u001b[1;36m0\u001b[0m\u001b[1;33m]\u001b[0m\u001b[1;33m,\u001b[0m \u001b[0mself\u001b[0m\u001b[1;33m.\u001b[0m\u001b[0mmask\u001b[0m\u001b[1;33m.\u001b[0m\u001b[0msize\u001b[0m \u001b[1;33m-\u001b[0m \u001b[0mself\u001b[0m\u001b[1;33m.\u001b[0m\u001b[0mmask\u001b[0m\u001b[1;33m.\u001b[0m\u001b[0msum\u001b[0m\u001b[1;33m(\u001b[0m\u001b[1;33m)\u001b[0m\u001b[1;33m)\u001b[0m\u001b[1;33m\u001b[0m\u001b[1;33m\u001b[0m\u001b[0m\n\u001b[0m\u001b[0;32m   3834\u001b[0m \u001b[1;33m\u001b[0m\u001b[0m\n\u001b[0;32m   3835\u001b[0m         \u001b[1;32mif\u001b[0m \u001b[0msamples\u001b[0m \u001b[1;32mis\u001b[0m \u001b[1;32mnot\u001b[0m \u001b[1;32mNone\u001b[0m\u001b[1;33m:\u001b[0m\u001b[1;33m\u001b[0m\u001b[1;33m\u001b[0m\u001b[0m\n",
      "\u001b[1;31mAttributeError\u001b[0m: 'NoneType' object has no attribute 'shape'"
     ]
    },
    {
     "data": {
      "image/png": "[encoded data removed]",
      "text/plain": [
       "<Figure size 432x288 with 1 Axes>"
      ]
     },
     "metadata": {
      "needs_background": "light"
     },
     "output_type": "display_data"
    }
   ],
   "source": [
    "ax = anl.ReconstructedFunction('galaxy_lf', ivar=[6, None], samples='all', color='b', alpha=0.01)\n",
    "\n",
    "ax.set_yscale('log')"
   ]
  },
  {
   "cell_type": "code",
   "execution_count": null,
   "metadata": {},
   "outputs": [],
   "source": []
  }
 ],
 "metadata": {
  "kernelspec": {
   "display_name": "Python 3",
   "language": "python",
   "name": "python3"
  },
  "language_info": {
   "codemirror_mode": {
    "name": "ipython",
    "version": 3
   },
   "file_extension": ".py",
   "mimetype": "text/x-python",
   "name": "python",
   "nbconvert_exporter": "python",
   "pygments_lexer": "ipython3",
   "version": "3.7.4"
  }
 },
 "nbformat": 4,
 "nbformat_minor": 4
}

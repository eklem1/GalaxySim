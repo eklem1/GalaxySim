{
 "cells": [
  {
   "cell_type": "code",
   "execution_count": 28,
   "metadata": {},
   "outputs": [],
   "source": [
    "import ares\n",
    "import numpy as np\n",
    "import matplotlib.pyplot as pl\n",
    "import distpy\n"
   ]
  },
  {
   "cell_type": "code",
   "execution_count": 29,
   "metadata": {},
   "outputs": [],
   "source": [
    "# Independent variables\n",
    "redshifts = np.array([3, 3.8, 4, 4.9, 5, 5.9, 6, 6.9, 7, 7.9, 8])\n",
    "MUV = np.arange(-28, -8.8, 0.2)\n",
    "Mh = np.logspace(7, 13, 61)\n",
    "\n",
    "# blob 1: the LF. Give it a name, and the function needed to calculate it.\n",
    "blob_n1 = ['galaxy_lf']\n",
    "blob_i1 = [('z', redshifts), ('x', MUV)]\n",
    "blob_f1 = ['LuminosityFunction']\n",
    "\n",
    "# blob 2: the SFE. Same deal.\n",
    "blob_n2 = ['fstar']\n",
    "blob_i2 = [('z', redshifts), ('Mh', Mh)]\n",
    "blob_f2 = ['fstar']"
   ]
  },
  {
   "cell_type": "code",
   "execution_count": 30,
   "metadata": {},
   "outputs": [],
   "source": [
    "blob_pars = \\\n",
    "{\n",
    " 'blob_names': [blob_n1, blob_n2],\n",
    " 'blob_ivars': [blob_i1, blob_i2],\n",
    " 'blob_funcs': [blob_f1, blob_f2],\n",
    " 'blob_kwargs': [None] * 2,\n",
    "}"
   ]
  },
  {
   "cell_type": "code",
   "execution_count": 31,
   "metadata": {},
   "outputs": [],
   "source": [
    "base_pars = ares.util.ParameterBundle('mirocha2017:base').pars_by_pop(0, True)\n",
    "base_pars.update(blob_pars)\n",
    "\n",
    "# This is important!\n",
    "base_pars['pop_calib_lum'] = None"
   ]
  },
  {
   "cell_type": "code",
   "execution_count": 50,
   "metadata": {},
   "outputs": [],
   "source": [
    "free_pars = \\\n",
    "  [\n",
    "   'pq_func_par0[0]',\n",
    "   'pq_func_par1[0]',\n",
    "   'pq_func_par2[0]',\n",
    "   'pq_func_par3[0]',\n",
    "  ]\n",
    "#which pars belong to what?\n",
    "\n",
    "is_log = [True, True, False, False]\n",
    "\n",
    "from distpy.distribution import UniformDistribution\n",
    "from distpy.distribution import DistributionSet, BernoulliDistribution\n",
    "\n",
    "ps = DistributionSet()\n",
    "ps.add_distribution(UniformDistribution(-3, 0.), 'pq_func_par0[0]')\n",
    "ps.add_distribution(UniformDistribution(9, 13),  'pq_func_par1[0]')\n",
    "ps.add_distribution(UniformDistribution(0, 2),   'pq_func_par2[0]')\n",
    "ps.add_distribution(UniformDistribution(-2, 0),  'pq_func_par3[0]')"
   ]
  },
  {
   "cell_type": "code",
   "execution_count": 63,
   "metadata": {},
   "outputs": [
    {
     "data": {
      "text/plain": [
       "<matplotlib.axes._subplots.AxesSubplot at 0x1bfc35b0088>"
      ]
     },
     "execution_count": 63,
     "metadata": {},
     "output_type": "execute_result"
    },
    {
     "data": {
      "image/png": "[encoded data removed]",
      "text/plain": [
       "<Figure size 432x288 with 1 Axes>"
      ]
     },
     "metadata": {
      "needs_background": "light"
     },
     "output_type": "display_data"
    }
   ],
   "source": [
    "distribution = UniformDistribution(-3, 0)\n",
    "\n",
    "(start, end) = (-5, 30)\n",
    "xs = np.linspace(start, end, end - start + 1).astype(int)\n",
    "\n",
    "fig = pl.figure()\n",
    "ax = fig.add_subplot(111)\n",
    "distribution.plot(xs, ax=ax, show=False, linewidth=2, color='r')\n",
    "# ax.set_xlim((-0.5, 1.5))"
   ]
  },
  {
   "cell_type": "code",
   "execution_count": 33,
   "metadata": {},
   "outputs": [],
   "source": [
    "guesses = \\\n",
    "{\n",
    " 'pq_func_par0[0]': -1,\n",
    " 'pq_func_par1[0]': 11.5,\n",
    " 'pq_func_par2[0]': 0.5,\n",
    " 'pq_func_par3[0]': -0.5,\n",
    "}"
   ]
  },
  {
   "cell_type": "code",
   "execution_count": 41,
   "metadata": {},
   "outputs": [],
   "source": [
    "# Initialize a fitter object and give it the data to be fit\n",
    "fitter_lf = ares.inference.FitGalaxyPopulation(**base_pars)\n",
    "\n",
    "# The data can also be provided more explicitly\n",
    "# fitter_lf.data = 'bouwens2015'"
   ]
  },
  {
   "cell_type": "code",
   "execution_count": 42,
   "metadata": {},
   "outputs": [],
   "source": [
    "fitter = ares.inference.ModelFit(**base_pars)\n",
    "fitter.add_fitter(fitter_lf)\n",
    "\n",
    "# Establish the object to which we'll pass parameters\n",
    "from ares.populations.GalaxyCohort import GalaxyCohort\n",
    "fitter.simulator = GalaxyCohort"
   ]
  },
  {
   "cell_type": "code",
   "execution_count": 43,
   "metadata": {},
   "outputs": [
    {
     "name": "stdout",
     "output_type": "stream",
     "text": [
      "Saved HaloMassFunction instance to limit I/O.\n",
      "# Starting MCMC: Tue Jun 16 11:58:23 2020\n",
      "emcee: Exception while calling your likelihood function:\n",
      "  params: [-1.14488421 11.54765925  0.46410914 -0.54375256]\n",
      "  args: ['test_lfcal', ['pq_func_par0[0]', 'pq_func_par1[0]', 'pq_func_par2[0]', 'pq_func_par3[0]'], [True, True, False, False], <distpy.distribution.DistributionSet.DistributionSet object at 0x000001BFC36ABC88>, <distpy.distribution.DistributionSet.DistributionSet object at 0x000001BFC36B6C88>, [array([[[inf, inf, inf, ..., inf, inf, inf],\n",
      "        [inf, inf, inf, ..., inf, inf, inf],\n",
      "        [inf, inf, inf, ..., inf, inf, inf],\n",
      "        ...,\n",
      "        [inf, inf, inf, ..., inf, inf, inf],\n",
      "        [inf, inf, inf, ..., inf, inf, inf],\n",
      "        [inf, inf, inf, ..., inf, inf, inf]]]), array([[[inf, inf, inf, inf, inf, inf, inf, inf, inf, inf, inf, inf,\n",
      "         inf, inf, inf, inf, inf, inf, inf, inf, inf, inf, inf, inf,\n",
      "         inf, inf, inf, inf, inf, inf, inf, inf, inf, inf, inf, inf,\n",
      "         inf, inf, inf, inf, inf, inf, inf, inf, inf, inf, inf, inf,\n",
      "         inf, inf, inf, inf, inf, inf, inf, inf, inf, inf, inf, inf,\n",
      "         inf],\n",
      "        [inf, inf, inf, inf, inf, inf, inf, inf, inf, inf, inf, inf,\n",
      "         inf, inf, inf, inf, inf, inf, inf, inf, inf, inf, inf, inf,\n",
      "         inf, inf, inf, inf, inf, inf, inf, inf, inf, inf, inf, inf,\n",
      "         inf, inf, inf, inf, inf, inf, inf, inf, inf, inf, inf, inf,\n",
      "         inf, inf, inf, inf, inf, inf, inf, inf, inf, inf, inf, inf,\n",
      "         inf],\n",
      "        [inf, inf, inf, inf, inf, inf, inf, inf, inf, inf, inf, inf,\n",
      "         inf, inf, inf, inf, inf, inf, inf, inf, inf, inf, inf, inf,\n",
      "         inf, inf, inf, inf, inf, inf, inf, inf, inf, inf, inf, inf,\n",
      "         inf, inf, inf, inf, inf, inf, inf, inf, inf, inf, inf, inf,\n",
      "         inf, inf, inf, inf, inf, inf, inf, inf, inf, inf, inf, inf,\n",
      "         inf],\n",
      "        [inf, inf, inf, inf, inf, inf, inf, inf, inf, inf, inf, inf,\n",
      "         inf, inf, inf, inf, inf, inf, inf, inf, inf, inf, inf, inf,\n",
      "         inf, inf, inf, inf, inf, inf, inf, inf, inf, inf, inf, inf,\n",
      "         inf, inf, inf, inf, inf, inf, inf, inf, inf, inf, inf, inf,\n",
      "         inf, inf, inf, inf, inf, inf, inf, inf, inf, inf, inf, inf,\n",
      "         inf],\n",
      "        [inf, inf, inf, inf, inf, inf, inf, inf, inf, inf, inf, inf,\n",
      "         inf, inf, inf, inf, inf, inf, inf, inf, inf, inf, inf, inf,\n",
      "         inf, inf, inf, inf, inf, inf, inf, inf, inf, inf, inf, inf,\n",
      "         inf, inf, inf, inf, inf, inf, inf, inf, inf, inf, inf, inf,\n",
      "         inf, inf, inf, inf, inf, inf, inf, inf, inf, inf, inf, inf,\n",
      "         inf],\n",
      "        [inf, inf, inf, inf, inf, inf, inf, inf, inf, inf, inf, inf,\n",
      "         inf, inf, inf, inf, inf, inf, inf, inf, inf, inf, inf, inf,\n",
      "         inf, inf, inf, inf, inf, inf, inf, inf, inf, inf, inf, inf,\n",
      "         inf, inf, inf, inf, inf, inf, inf, inf, inf, inf, inf, inf,\n",
      "         inf, inf, inf, inf, inf, inf, inf, inf, inf, inf, inf, inf,\n",
      "         inf],\n",
      "        [inf, inf, inf, inf, inf, inf, inf, inf, inf, inf, inf, inf,\n",
      "         inf, inf, inf, inf, inf, inf, inf, inf, inf, inf, inf, inf,\n",
      "         inf, inf, inf, inf, inf, inf, inf, inf, inf, inf, inf, inf,\n",
      "         inf, inf, inf, inf, inf, inf, inf, inf, inf, inf, inf, inf,\n",
      "         inf, inf, inf, inf, inf, inf, inf, inf, inf, inf, inf, inf,\n",
      "         inf],\n",
      "        [inf, inf, inf, inf, inf, inf, inf, inf, inf, inf, inf, inf,\n",
      "         inf, inf, inf, inf, inf, inf, inf, inf, inf, inf, inf, inf,\n",
      "         inf, inf, inf, inf, inf, inf, inf, inf, inf, inf, inf, inf,\n",
      "         inf, inf, inf, inf, inf, inf, inf, inf, inf, inf, inf, inf,\n",
      "         inf, inf, inf, inf, inf, inf, inf, inf, inf, inf, inf, inf,\n",
      "         inf],\n",
      "        [inf, inf, inf, inf, inf, inf, inf, inf, inf, inf, inf, inf,\n",
      "         inf, inf, inf, inf, inf, inf, inf, inf, inf, inf, inf, inf,\n",
      "         inf, inf, inf, inf, inf, inf, inf, inf, inf, inf, inf, inf,\n",
      "         inf, inf, inf, inf, inf, inf, inf, inf, inf, inf, inf, inf,\n",
      "         inf, inf, inf, inf, inf, inf, inf, inf, inf, inf, inf, inf,\n",
      "         inf],\n",
      "        [inf, inf, inf, inf, inf, inf, inf, inf, inf, inf, inf, inf,\n",
      "         inf, inf, inf, inf, inf, inf, inf, inf, inf, inf, inf, inf,\n",
      "         inf, inf, inf, inf, inf, inf, inf, inf, inf, inf, inf, inf,\n",
      "         inf, inf, inf, inf, inf, inf, inf, inf, inf, inf, inf, inf,\n",
      "         inf, inf, inf, inf, inf, inf, inf, inf, inf, inf, inf, inf,\n",
      "         inf],\n",
      "        [inf, inf, inf, inf, inf, inf, inf, inf, inf, inf, inf, inf,\n",
      "         inf, inf, inf, inf, inf, inf, inf, inf, inf, inf, inf, inf,\n",
      "         inf, inf, inf, inf, inf, inf, inf, inf, inf, inf, inf, inf,\n",
      "         inf, inf, inf, inf, inf, inf, inf, inf, inf, inf, inf, inf,\n",
      "         inf, inf, inf, inf, inf, inf, inf, inf, inf, inf, inf, inf,\n",
      "         inf]]])], {'verbose': False, 'progress_bar': False, 'pop_Tmin': 10000.0, 'pop_sfr_model': 'sfe-func', 'pop_MAR': 'hmf', 'pop_sed': 'eldridge2009', 'pop_binaries': False, 'pop_Z': 0.02, 'pop_Emin': 10.204268791965648, 'pop_Emax': 24.6, 'pop_rad_yield': 'from_sed', 'pop_fesc': 0.2, 'pop_solve_rte': (10.204268791965648, 13.605691722620863), 'pop_fstar': 'pq[0]', 'pq_func[0]': 'dpl_normP', 'pq_func_var[0]': 'Mh', 'pq_func_par0[0]': 0.05, 'pq_func_par1[0]': 280000000000.0, 'pq_func_par2[0]': 0.49, 'pq_func_par3[0]': -0.61, 'pop_calib_wave': 1600, 'pop_calib_lum': None, 'tau_redshift_bins': 1000, 'tau_approx': 'neutral', 'blob_names': [['galaxy_lf'], ['fstar']], 'blob_ivars': [[('z', array([3. , 3.8, 4. , 4.9, 5. , 5.9, 6. , 6.9, 7. , 7.9, 8. ])), ('x', array([-28. , -27.8, -27.6, -27.4, -27.2, -27. , -26.8, -26.6, -26.4,\n",
      "       -26.2, -26. , -25.8, -25.6, -25.4, -25.2, -25. , -24.8, -24.6,\n",
      "       -24.4, -24.2, -24. , -23.8, -23.6, -23.4, -23.2, -23. , -22.8,\n",
      "       -22.6, -22.4, -22.2, -22. , -21.8, -21.6, -21.4, -21.2, -21. ,\n",
      "       -20.8, -20.6, -20.4, -20.2, -20. , -19.8, -19.6, -19.4, -19.2,\n",
      "       -19. , -18.8, -18.6, -18.4, -18.2, -18. , -17.8, -17.6, -17.4,\n",
      "       -17.2, -17. , -16.8, -16.6, -16.4, -16.2, -16. , -15.8, -15.6,\n",
      "       -15.4, -15.2, -15. , -14.8, -14.6, -14.4, -14.2, -14. , -13.8,\n",
      "       -13.6, -13.4, -13.2, -13. , -12.8, -12.6, -12.4, -12.2, -12. ,\n",
      "       -11.8, -11.6, -11.4, -11.2, -11. , -10.8, -10.6, -10.4, -10.2,\n",
      "       -10. ,  -9.8,  -9.6,  -9.4,  -9.2,  -9. ]))], [('z', array([3. , 3.8, 4. , 4.9, 5. , 5.9, 6. , 6.9, 7. , 7.9, 8. ])), ('Mh', array([1.00000000e+07, 1.25892541e+07, 1.58489319e+07, 1.99526231e+07,\n",
      "       2.51188643e+07, 3.16227766e+07, 3.98107171e+07, 5.01187234e+07,\n",
      "       6.30957344e+07, 7.94328235e+07, 1.00000000e+08, 1.25892541e+08,\n",
      "       1.58489319e+08, 1.99526231e+08, 2.51188643e+08, 3.16227766e+08,\n",
      "       3.98107171e+08, 5.01187234e+08, 6.30957344e+08, 7.94328235e+08,\n",
      "       1.00000000e+09, 1.25892541e+09, 1.58489319e+09, 1.99526231e+09,\n",
      "       2.51188643e+09, 3.16227766e+09, 3.98107171e+09, 5.01187234e+09,\n",
      "       6.30957344e+09, 7.94328235e+09, 1.00000000e+10, 1.25892541e+10,\n",
      "       1.58489319e+10, 1.99526231e+10, 2.51188643e+10, 3.16227766e+10,\n",
      "       3.98107171e+10, 5.01187234e+10, 6.30957344e+10, 7.94328235e+10,\n",
      "       1.00000000e+11, 1.25892541e+11, 1.58489319e+11, 1.99526231e+11,\n",
      "       2.51188643e+11, 3.16227766e+11, 3.98107171e+11, 5.01187234e+11,\n",
      "       6.30957344e+11, 7.94328235e+11, 1.00000000e+12, 1.25892541e+12,\n",
      "       1.58489319e+12, 1.99526231e+12, 2.51188643e+12, 3.16227766e+12,\n",
      "       3.98107171e+12, 5.01187234e+12, 6.30957344e+12, 7.94328235e+12,\n",
      "       1.00000000e+13]))]], 'blob_funcs': [['LuminosityFunction'], ['fstar']], 'blob_kwargs': [None, None], 'hmf_instance': <ares.physics.HaloModel.HaloModel object at 0x000001BFC36ABE08>}, True, <class 'ares.populations.GalaxyCohort.GalaxyCohort'>, [<ares.inference.FitGalaxyPopulation.FitGalaxyPopulation object at 0x000001BFC36B1288>], False]\n",
      "  kwargs: {}\n",
      "  exception:\n"
     ]
    },
    {
     "name": "stderr",
     "output_type": "stream",
     "text": [
      "Traceback (most recent call last):\n",
      "  File \"C:\\Users\\Emma\\Anaconda3\\lib\\site-packages\\emcee\\ensemble.py\", line 545, in __call__\n",
      "    return self.f(x, *self.args, **self.kwargs)\n",
      "  File \"C:\\Users\\Emma\\Anaconda3\\lib\\site-packages\\ares-0.1-py3.7.egg\\ares\\inference\\ModelFit.py\", line 216, in loglikelihood\n",
      "    lnL += fitter.loglikelihood(sim)\n",
      "  File \"C:\\Users\\Emma\\Anaconda3\\lib\\site-packages\\ares-0.1-py3.7.egg\\ares\\inference\\FitGalaxyPopulation.py\", line 281, in loglikelihood\n",
      "    self._loglikelihood = loglikelihood(self.xdata_flat,\n",
      "  File \"C:\\Users\\Emma\\Anaconda3\\lib\\site-packages\\ares-0.1-py3.7.egg\\ares\\inference\\FitGalaxyPopulation.py\", line 497, in xdata_flat\n",
      "    for i, dataset in enumerate(self.data[quantity]):\n",
      "  File \"C:\\Users\\Emma\\Anaconda3\\lib\\site-packages\\ares-0.1-py3.7.egg\\ares\\inference\\FitGalaxyPopulation.py\", line 360, in data\n",
      "    raise AttributeError('Must set data by hand!')\n",
      "AttributeError: Must set data by hand!\n"
     ]
    },
    {
     "ename": "AttributeError",
     "evalue": "Must set data by hand!",
     "output_type": "error",
     "traceback": [
      "\u001b[1;31m---------------------------------------------------------------------------\u001b[0m",
      "\u001b[1;31mAttributeError\u001b[0m                            Traceback (most recent call last)",
      "\u001b[1;32m<ipython-input-43-df749d03f453>\u001b[0m in \u001b[0;36m<module>\u001b[1;34m\u001b[0m\n\u001b[0;32m     18\u001b[0m \u001b[1;33m\u001b[0m\u001b[0m\n\u001b[0;32m     19\u001b[0m \u001b[1;31m# Run the thing\u001b[0m\u001b[1;33m\u001b[0m\u001b[1;33m\u001b[0m\u001b[1;33m\u001b[0m\u001b[0m\n\u001b[1;32m---> 20\u001b[1;33m \u001b[0mfitter\u001b[0m\u001b[1;33m.\u001b[0m\u001b[0mrun\u001b[0m\u001b[1;33m(\u001b[0m\u001b[1;34m'test_lfcal'\u001b[0m\u001b[1;33m,\u001b[0m \u001b[0mburn\u001b[0m\u001b[1;33m=\u001b[0m\u001b[1;36m0\u001b[0m\u001b[1;33m,\u001b[0m \u001b[0msteps\u001b[0m\u001b[1;33m=\u001b[0m\u001b[1;36m10\u001b[0m\u001b[1;33m,\u001b[0m \u001b[0msave_freq\u001b[0m\u001b[1;33m=\u001b[0m\u001b[1;36m1\u001b[0m\u001b[1;33m,\u001b[0m \u001b[0mclobber\u001b[0m\u001b[1;33m=\u001b[0m\u001b[1;32mTrue\u001b[0m\u001b[1;33m)\u001b[0m\u001b[1;33m\u001b[0m\u001b[1;33m\u001b[0m\u001b[0m\n\u001b[0m",
      "\u001b[1;32m~\\Anaconda3\\lib\\site-packages\\ares-0.1-py3.7.egg\\ares\\inference\\ModelFit.py\u001b[0m in \u001b[0;36mrun\u001b[1;34m(self, prefix, steps, burn, clobber, restart, save_freq, reboot, recenter, burn_method)\u001b[0m\n\u001b[0;32m   1528\u001b[0m                 self._run(pos, steps, state=state, save_freq=save_freq, \n\u001b[0;32m   1529\u001b[0m                     \u001b[0mrestart\u001b[0m\u001b[1;33m=\u001b[0m\u001b[0mrestart\u001b[0m \u001b[1;32mand\u001b[0m \u001b[1;33m(\u001b[0m\u001b[1;32mnot\u001b[0m \u001b[0mrestart_from_burn\u001b[0m\u001b[1;33m)\u001b[0m\u001b[1;33m,\u001b[0m\u001b[1;33m\u001b[0m\u001b[1;33m\u001b[0m\u001b[0m\n\u001b[1;32m-> 1530\u001b[1;33m                     prefix=self.prefix)\n\u001b[0m\u001b[0;32m   1531\u001b[0m \u001b[1;33m\u001b[0m\u001b[0m\n\u001b[0;32m   1532\u001b[0m         \u001b[1;32mif\u001b[0m \u001b[0mself\u001b[0m\u001b[1;33m.\u001b[0m\u001b[0mpool\u001b[0m \u001b[1;32mis\u001b[0m \u001b[1;32mnot\u001b[0m \u001b[1;32mNone\u001b[0m \u001b[1;32mand\u001b[0m \u001b[0memcee_mpipool\u001b[0m\u001b[1;33m:\u001b[0m\u001b[1;33m\u001b[0m\u001b[1;33m\u001b[0m\u001b[0m\n",
      "\u001b[1;32m~\\Anaconda3\\lib\\site-packages\\ares-0.1-py3.7.egg\\ares\\inference\\ModelFit.py\u001b[0m in \u001b[0;36m_run\u001b[1;34m(self, pos, steps, state, save_freq, restart, prefix)\u001b[0m\n\u001b[0;32m   1573\u001b[0m         \u001b[0mpos_all\u001b[0m \u001b[1;33m=\u001b[0m \u001b[1;33m[\u001b[0m\u001b[1;33m]\u001b[0m\u001b[1;33m;\u001b[0m \u001b[0mprob_all\u001b[0m \u001b[1;33m=\u001b[0m \u001b[1;33m[\u001b[0m\u001b[1;33m]\u001b[0m\u001b[1;33m;\u001b[0m \u001b[0mblobs_all\u001b[0m \u001b[1;33m=\u001b[0m \u001b[1;33m[\u001b[0m\u001b[1;33m]\u001b[0m\u001b[1;33m\u001b[0m\u001b[1;33m\u001b[0m\u001b[0m\n\u001b[0;32m   1574\u001b[0m         for pos, prob, state, blobs in self.sampler.sample(pos, \n\u001b[1;32m-> 1575\u001b[1;33m             iterations=steps, rstate0=state, **kw):\n\u001b[0m\u001b[0;32m   1576\u001b[0m \u001b[1;33m\u001b[0m\u001b[0m\n\u001b[0;32m   1577\u001b[0m             \u001b[1;31m# If we're saving each checkpoint to its own file, this is the\u001b[0m\u001b[1;33m\u001b[0m\u001b[1;33m\u001b[0m\u001b[1;33m\u001b[0m\u001b[0m\n",
      "\u001b[1;32m~\\Anaconda3\\lib\\site-packages\\emcee\\ensemble.py\u001b[0m in \u001b[0;36msample\u001b[1;34m(self, initial_state, log_prob0, rstate0, blobs0, iterations, tune, skip_initial_state_check, thin_by, thin, store, progress)\u001b[0m\n\u001b[0;32m    283\u001b[0m             \u001b[0mstate\u001b[0m\u001b[1;33m.\u001b[0m\u001b[0mblobs\u001b[0m \u001b[1;33m=\u001b[0m \u001b[0mblobs0\u001b[0m\u001b[1;33m\u001b[0m\u001b[1;33m\u001b[0m\u001b[0m\n\u001b[0;32m    284\u001b[0m         \u001b[1;32mif\u001b[0m \u001b[0mstate\u001b[0m\u001b[1;33m.\u001b[0m\u001b[0mlog_prob\u001b[0m \u001b[1;32mis\u001b[0m \u001b[1;32mNone\u001b[0m\u001b[1;33m:\u001b[0m\u001b[1;33m\u001b[0m\u001b[1;33m\u001b[0m\u001b[0m\n\u001b[1;32m--> 285\u001b[1;33m             \u001b[0mstate\u001b[0m\u001b[1;33m.\u001b[0m\u001b[0mlog_prob\u001b[0m\u001b[1;33m,\u001b[0m \u001b[0mstate\u001b[0m\u001b[1;33m.\u001b[0m\u001b[0mblobs\u001b[0m \u001b[1;33m=\u001b[0m \u001b[0mself\u001b[0m\u001b[1;33m.\u001b[0m\u001b[0mcompute_log_prob\u001b[0m\u001b[1;33m(\u001b[0m\u001b[0mstate\u001b[0m\u001b[1;33m.\u001b[0m\u001b[0mcoords\u001b[0m\u001b[1;33m)\u001b[0m\u001b[1;33m\u001b[0m\u001b[1;33m\u001b[0m\u001b[0m\n\u001b[0m\u001b[0;32m    286\u001b[0m         \u001b[1;32mif\u001b[0m \u001b[0mnp\u001b[0m\u001b[1;33m.\u001b[0m\u001b[0mshape\u001b[0m\u001b[1;33m(\u001b[0m\u001b[0mstate\u001b[0m\u001b[1;33m.\u001b[0m\u001b[0mlog_prob\u001b[0m\u001b[1;33m)\u001b[0m \u001b[1;33m!=\u001b[0m \u001b[1;33m(\u001b[0m\u001b[0mself\u001b[0m\u001b[1;33m.\u001b[0m\u001b[0mnwalkers\u001b[0m\u001b[1;33m,\u001b[0m\u001b[1;33m)\u001b[0m\u001b[1;33m:\u001b[0m\u001b[1;33m\u001b[0m\u001b[1;33m\u001b[0m\u001b[0m\n\u001b[0;32m    287\u001b[0m             \u001b[1;32mraise\u001b[0m \u001b[0mValueError\u001b[0m\u001b[1;33m(\u001b[0m\u001b[1;34m\"incompatible input dimensions\"\u001b[0m\u001b[1;33m)\u001b[0m\u001b[1;33m\u001b[0m\u001b[1;33m\u001b[0m\u001b[0m\n",
      "\u001b[1;32m~\\Anaconda3\\lib\\site-packages\\emcee\\ensemble.py\u001b[0m in \u001b[0;36mcompute_log_prob\u001b[1;34m(self, coords)\u001b[0m\n\u001b[0;32m    425\u001b[0m                 \u001b[0mmap_func\u001b[0m \u001b[1;33m=\u001b[0m \u001b[0mmap\u001b[0m\u001b[1;33m\u001b[0m\u001b[1;33m\u001b[0m\u001b[0m\n\u001b[0;32m    426\u001b[0m             results = list(\n\u001b[1;32m--> 427\u001b[1;33m                 \u001b[0mmap_func\u001b[0m\u001b[1;33m(\u001b[0m\u001b[0mself\u001b[0m\u001b[1;33m.\u001b[0m\u001b[0mlog_prob_fn\u001b[0m\u001b[1;33m,\u001b[0m \u001b[1;33m(\u001b[0m\u001b[0mp\u001b[0m\u001b[1;33m[\u001b[0m\u001b[0mi\u001b[0m\u001b[1;33m]\u001b[0m \u001b[1;32mfor\u001b[0m \u001b[0mi\u001b[0m \u001b[1;32min\u001b[0m \u001b[0mrange\u001b[0m\u001b[1;33m(\u001b[0m\u001b[0mlen\u001b[0m\u001b[1;33m(\u001b[0m\u001b[0mp\u001b[0m\u001b[1;33m)\u001b[0m\u001b[1;33m)\u001b[0m\u001b[1;33m)\u001b[0m\u001b[1;33m)\u001b[0m\u001b[1;33m\u001b[0m\u001b[1;33m\u001b[0m\u001b[0m\n\u001b[0m\u001b[0;32m    428\u001b[0m             )\n\u001b[0;32m    429\u001b[0m \u001b[1;33m\u001b[0m\u001b[0m\n",
      "\u001b[1;32m~\\Anaconda3\\lib\\site-packages\\emcee\\ensemble.py\u001b[0m in \u001b[0;36m__call__\u001b[1;34m(self, x)\u001b[0m\n\u001b[0;32m    543\u001b[0m     \u001b[1;32mdef\u001b[0m \u001b[0m__call__\u001b[0m\u001b[1;33m(\u001b[0m\u001b[0mself\u001b[0m\u001b[1;33m,\u001b[0m \u001b[0mx\u001b[0m\u001b[1;33m)\u001b[0m\u001b[1;33m:\u001b[0m\u001b[1;33m\u001b[0m\u001b[1;33m\u001b[0m\u001b[0m\n\u001b[0;32m    544\u001b[0m         \u001b[1;32mtry\u001b[0m\u001b[1;33m:\u001b[0m\u001b[1;33m\u001b[0m\u001b[1;33m\u001b[0m\u001b[0m\n\u001b[1;32m--> 545\u001b[1;33m             \u001b[1;32mreturn\u001b[0m \u001b[0mself\u001b[0m\u001b[1;33m.\u001b[0m\u001b[0mf\u001b[0m\u001b[1;33m(\u001b[0m\u001b[0mx\u001b[0m\u001b[1;33m,\u001b[0m \u001b[1;33m*\u001b[0m\u001b[0mself\u001b[0m\u001b[1;33m.\u001b[0m\u001b[0margs\u001b[0m\u001b[1;33m,\u001b[0m \u001b[1;33m**\u001b[0m\u001b[0mself\u001b[0m\u001b[1;33m.\u001b[0m\u001b[0mkwargs\u001b[0m\u001b[1;33m)\u001b[0m\u001b[1;33m\u001b[0m\u001b[1;33m\u001b[0m\u001b[0m\n\u001b[0m\u001b[0;32m    546\u001b[0m         \u001b[1;32mexcept\u001b[0m\u001b[1;33m:\u001b[0m  \u001b[1;31m# pragma: no cover\u001b[0m\u001b[1;33m\u001b[0m\u001b[1;33m\u001b[0m\u001b[0m\n\u001b[0;32m    547\u001b[0m             \u001b[1;32mimport\u001b[0m \u001b[0mtraceback\u001b[0m\u001b[1;33m\u001b[0m\u001b[1;33m\u001b[0m\u001b[0m\n",
      "\u001b[1;32m~\\Anaconda3\\lib\\site-packages\\ares-0.1-py3.7.egg\\ares\\inference\\ModelFit.py\u001b[0m in \u001b[0;36mloglikelihood\u001b[1;34m(pars, prefix, parameters, is_log, prior_set_P, prior_set_B, blank_blob, base_kwargs, checkpoint_by_proc, simulator, fitters, debug)\u001b[0m\n\u001b[0;32m    214\u001b[0m     \u001b[0mlnL\u001b[0m \u001b[1;33m=\u001b[0m \u001b[1;36m0.0\u001b[0m\u001b[1;33m\u001b[0m\u001b[1;33m\u001b[0m\u001b[0m\n\u001b[0;32m    215\u001b[0m     \u001b[1;32mfor\u001b[0m \u001b[0mfitter\u001b[0m \u001b[1;32min\u001b[0m \u001b[0mfitters\u001b[0m\u001b[1;33m:\u001b[0m\u001b[1;33m\u001b[0m\u001b[1;33m\u001b[0m\u001b[0m\n\u001b[1;32m--> 216\u001b[1;33m         \u001b[0mlnL\u001b[0m \u001b[1;33m+=\u001b[0m \u001b[0mfitter\u001b[0m\u001b[1;33m.\u001b[0m\u001b[0mloglikelihood\u001b[0m\u001b[1;33m(\u001b[0m\u001b[0msim\u001b[0m\u001b[1;33m)\u001b[0m\u001b[1;33m\u001b[0m\u001b[1;33m\u001b[0m\u001b[0m\n\u001b[0m\u001b[0;32m    217\u001b[0m \u001b[1;33m\u001b[0m\u001b[0m\n\u001b[0;32m    218\u001b[0m     \u001b[1;31m# Blob prior: only compute if log-likelihood is finite\u001b[0m\u001b[1;33m\u001b[0m\u001b[1;33m\u001b[0m\u001b[1;33m\u001b[0m\u001b[0m\n",
      "\u001b[1;32m~\\Anaconda3\\lib\\site-packages\\ares-0.1-py3.7.egg\\ares\\inference\\FitGalaxyPopulation.py\u001b[0m in \u001b[0;36mloglikelihood\u001b[1;34m(self)\u001b[0m\n\u001b[0;32m    279\u001b[0m     \u001b[1;32mdef\u001b[0m \u001b[0mloglikelihood\u001b[0m\u001b[1;33m(\u001b[0m\u001b[0mself\u001b[0m\u001b[1;33m)\u001b[0m\u001b[1;33m:\u001b[0m\u001b[1;33m\u001b[0m\u001b[1;33m\u001b[0m\u001b[0m\n\u001b[0;32m    280\u001b[0m         \u001b[1;32mif\u001b[0m \u001b[1;32mnot\u001b[0m \u001b[0mhasattr\u001b[0m\u001b[1;33m(\u001b[0m\u001b[0mself\u001b[0m\u001b[1;33m,\u001b[0m \u001b[1;34m'_loglikelihood'\u001b[0m\u001b[1;33m)\u001b[0m\u001b[1;33m:\u001b[0m\u001b[1;33m\u001b[0m\u001b[1;33m\u001b[0m\u001b[0m\n\u001b[1;32m--> 281\u001b[1;33m             self._loglikelihood = loglikelihood(self.xdata_flat, \n\u001b[0m\u001b[0;32m    282\u001b[0m                 self.ydata_flat, self.error_flat)\n\u001b[0;32m    283\u001b[0m \u001b[1;33m\u001b[0m\u001b[0m\n",
      "\u001b[1;32m~\\Anaconda3\\lib\\site-packages\\ares-0.1-py3.7.egg\\ares\\inference\\FitGalaxyPopulation.py\u001b[0m in \u001b[0;36mxdata_flat\u001b[1;34m(self)\u001b[0m\n\u001b[0;32m    495\u001b[0m \u001b[1;33m\u001b[0m\u001b[0m\n\u001b[0;32m    496\u001b[0m                 \u001b[1;31m# Sorted by sources\u001b[0m\u001b[1;33m\u001b[0m\u001b[1;33m\u001b[0m\u001b[1;33m\u001b[0m\u001b[0m\n\u001b[1;32m--> 497\u001b[1;33m                 \u001b[1;32mfor\u001b[0m \u001b[0mi\u001b[0m\u001b[1;33m,\u001b[0m \u001b[0mdataset\u001b[0m \u001b[1;32min\u001b[0m \u001b[0menumerate\u001b[0m\u001b[1;33m(\u001b[0m\u001b[0mself\u001b[0m\u001b[1;33m.\u001b[0m\u001b[0mdata\u001b[0m\u001b[1;33m[\u001b[0m\u001b[0mquantity\u001b[0m\u001b[1;33m]\u001b[0m\u001b[1;33m)\u001b[0m\u001b[1;33m:\u001b[0m\u001b[1;33m\u001b[0m\u001b[1;33m\u001b[0m\u001b[0m\n\u001b[0m\u001b[0;32m    498\u001b[0m \u001b[1;33m\u001b[0m\u001b[0m\n\u001b[0;32m    499\u001b[0m                     \u001b[1;32mfor\u001b[0m \u001b[0mj\u001b[0m\u001b[1;33m,\u001b[0m \u001b[0mredshift\u001b[0m \u001b[1;32min\u001b[0m \u001b[0menumerate\u001b[0m\u001b[1;33m(\u001b[0m\u001b[0mself\u001b[0m\u001b[1;33m.\u001b[0m\u001b[0mdata\u001b[0m\u001b[1;33m[\u001b[0m\u001b[0mquantity\u001b[0m\u001b[1;33m]\u001b[0m\u001b[1;33m[\u001b[0m\u001b[0mi\u001b[0m\u001b[1;33m]\u001b[0m\u001b[1;33m)\u001b[0m\u001b[1;33m:\u001b[0m\u001b[1;33m\u001b[0m\u001b[1;33m\u001b[0m\u001b[0m\n",
      "\u001b[1;32m~\\Anaconda3\\lib\\site-packages\\ares-0.1-py3.7.egg\\ares\\inference\\FitGalaxyPopulation.py\u001b[0m in \u001b[0;36mdata\u001b[1;34m(self)\u001b[0m\n\u001b[0;32m    358\u001b[0m     \u001b[1;32mdef\u001b[0m \u001b[0mdata\u001b[0m\u001b[1;33m(\u001b[0m\u001b[0mself\u001b[0m\u001b[1;33m)\u001b[0m\u001b[1;33m:\u001b[0m\u001b[1;33m\u001b[0m\u001b[1;33m\u001b[0m\u001b[0m\n\u001b[0;32m    359\u001b[0m         \u001b[1;32mif\u001b[0m \u001b[1;32mnot\u001b[0m \u001b[0mhasattr\u001b[0m\u001b[1;33m(\u001b[0m\u001b[0mself\u001b[0m\u001b[1;33m,\u001b[0m \u001b[1;34m'_data'\u001b[0m\u001b[1;33m)\u001b[0m\u001b[1;33m:\u001b[0m\u001b[1;33m\u001b[0m\u001b[1;33m\u001b[0m\u001b[0m\n\u001b[1;32m--> 360\u001b[1;33m             \u001b[1;32mraise\u001b[0m \u001b[0mAttributeError\u001b[0m\u001b[1;33m(\u001b[0m\u001b[1;34m'Must set data by hand!'\u001b[0m\u001b[1;33m)\u001b[0m\u001b[1;33m\u001b[0m\u001b[1;33m\u001b[0m\u001b[0m\n\u001b[0m\u001b[0;32m    361\u001b[0m         \u001b[1;32mreturn\u001b[0m \u001b[0mself\u001b[0m\u001b[1;33m.\u001b[0m\u001b[0m_data\u001b[0m\u001b[1;33m\u001b[0m\u001b[1;33m\u001b[0m\u001b[0m\n\u001b[0;32m    362\u001b[0m \u001b[1;33m\u001b[0m\u001b[0m\n",
      "\u001b[1;31mAttributeError\u001b[0m: Must set data by hand!"
     ]
    }
   ],
   "source": [
    "fitter.save_hmf = True  # cache HMF for a speed-up!\n",
    "fitter.save_psm = True  # cache source SED model (e.g., BPASS, S99)\n",
    "\n",
    "# Setting this flag to False will make ARES generate new files for each checkpoint.\n",
    "# 2-D blobs can get large, so this allows us to just download a single\n",
    "# snapshot or two if we'd like (useful if running on remote machine)\n",
    "fitter.checkpoint_append = False\n",
    "\n",
    "fitter.parameters = free_pars\n",
    "fitter.is_log = is_log\n",
    "fitter.prior_set = ps\n",
    "\n",
    "# In general, the more the merrier (~hundreds)\n",
    "fitter.nwalkers = 16\n",
    "\n",
    "fitter.jitter = [0.1] * len(fitter.parameters)\n",
    "fitter.guesses = guesses\n",
    "\n",
    "# Run the thing\n",
    "fitter.run('test_lfcal', burn=0, steps=10, save_freq=1, clobber=True)"
   ]
  },
  {
   "cell_type": "code",
   "execution_count": 22,
   "metadata": {},
   "outputs": [
    {
     "name": "stdout",
     "output_type": "stream",
     "text": [
      "\n",
      "##############################################################################################################\n",
      "####                                         Analysis: Model Set                                          ####\n",
      "##############################################################################################################\n",
      "#### ---------------------------------------------------------------------------------------------------- ####\n",
      "#### Basic Information                                                                                    ####\n",
      "#### ---------------------------------------------------------------------------------------------------- ####\n",
      "#### path        : ./                                                                                     ####\n",
      "#### prefix      : test_lfcal                                                                             ####\n",
      "#### N-d         : 4                                                                                      ####\n",
      "#### ---------------------------------------------------------------------------------------------------- ####\n",
      "#### param    #00: pq_func_par0[0]                                                                        ####\n",
      "#### param    #01: pq_func_par1[0]                                                                        ####\n",
      "#### param    #02: pq_func_par2[0]                                                                        ####\n",
      "#### param    #03: pq_func_par3[0]                                                                        ####\n",
      "##############################################################################################################\n",
      "\n"
     ]
    }
   ],
   "source": [
    "anl = ares.analysis.ModelSet('test_lfcal')"
   ]
  },
  {
   "cell_type": "code",
   "execution_count": 23,
   "metadata": {},
   "outputs": [
    {
     "ename": "UnboundLocalError",
     "evalue": "local variable '_chain' referenced before assignment",
     "output_type": "error",
     "traceback": [
      "\u001b[1;31m---------------------------------------------------------------------------\u001b[0m",
      "\u001b[1;31mUnboundLocalError\u001b[0m                         Traceback (most recent call last)",
      "\u001b[1;32m<ipython-input-23-c05d6c38dfa4>\u001b[0m in \u001b[0;36m<module>\u001b[1;34m\u001b[0m\n\u001b[1;32m----> 1\u001b[1;33m \u001b[0max\u001b[0m \u001b[1;33m=\u001b[0m \u001b[0manl\u001b[0m\u001b[1;33m.\u001b[0m\u001b[0mReconstructedFunction\u001b[0m\u001b[1;33m(\u001b[0m\u001b[1;34m'galaxy_lf'\u001b[0m\u001b[1;33m,\u001b[0m \u001b[0mivar\u001b[0m\u001b[1;33m=\u001b[0m\u001b[1;33m[\u001b[0m\u001b[1;36m6\u001b[0m\u001b[1;33m,\u001b[0m \u001b[1;32mNone\u001b[0m\u001b[1;33m]\u001b[0m\u001b[1;33m,\u001b[0m \u001b[0msamples\u001b[0m\u001b[1;33m=\u001b[0m\u001b[1;34m'all'\u001b[0m\u001b[1;33m,\u001b[0m \u001b[0mcolor\u001b[0m\u001b[1;33m=\u001b[0m\u001b[1;34m'b'\u001b[0m\u001b[1;33m,\u001b[0m \u001b[0malpha\u001b[0m\u001b[1;33m=\u001b[0m\u001b[1;36m0.01\u001b[0m\u001b[1;33m)\u001b[0m\u001b[1;33m\u001b[0m\u001b[1;33m\u001b[0m\u001b[0m\n\u001b[0m\u001b[0;32m      2\u001b[0m \u001b[1;33m\u001b[0m\u001b[0m\n\u001b[0;32m      3\u001b[0m \u001b[0max\u001b[0m\u001b[1;33m.\u001b[0m\u001b[0mset_yscale\u001b[0m\u001b[1;33m(\u001b[0m\u001b[1;34m'log'\u001b[0m\u001b[1;33m)\u001b[0m\u001b[1;33m\u001b[0m\u001b[1;33m\u001b[0m\u001b[0m\n",
      "\u001b[1;32m~\\Anaconda3\\lib\\site-packages\\ares-0.1-py3.7.egg\\ares\\analysis\\ModelSet.py\u001b[0m in \u001b[0;36mReconstructedFunction\u001b[1;34m(self, name, ivar, fig, ax, use_best, percentile, take_log, un_logy, expr, new_x, is_logx, smooth_boundary, multiplier, skip, stop, return_data, z_to_freq, best, fill, samples, ivars, E_to_freq, **kwargs)\u001b[0m\n\u001b[0;32m   3831\u001b[0m             \u001b[0mq2\u001b[0m \u001b[1;33m=\u001b[0m \u001b[1;36m100\u001b[0m \u001b[1;33m*\u001b[0m \u001b[0mpercentile\u001b[0m \u001b[1;33m+\u001b[0m \u001b[0mq1\u001b[0m\u001b[1;33m\u001b[0m\u001b[1;33m\u001b[0m\u001b[0m\n\u001b[0;32m   3832\u001b[0m \u001b[1;33m\u001b[0m\u001b[0m\n\u001b[1;32m-> 3833\u001b[1;33m         \u001b[0mmax_samples\u001b[0m \u001b[1;33m=\u001b[0m \u001b[0mmin\u001b[0m\u001b[1;33m(\u001b[0m\u001b[0mself\u001b[0m\u001b[1;33m.\u001b[0m\u001b[0mchain\u001b[0m\u001b[1;33m.\u001b[0m\u001b[0mshape\u001b[0m\u001b[1;33m[\u001b[0m\u001b[1;36m0\u001b[0m\u001b[1;33m]\u001b[0m\u001b[1;33m,\u001b[0m \u001b[0mself\u001b[0m\u001b[1;33m.\u001b[0m\u001b[0mmask\u001b[0m\u001b[1;33m.\u001b[0m\u001b[0msize\u001b[0m \u001b[1;33m-\u001b[0m \u001b[0mself\u001b[0m\u001b[1;33m.\u001b[0m\u001b[0mmask\u001b[0m\u001b[1;33m.\u001b[0m\u001b[0msum\u001b[0m\u001b[1;33m(\u001b[0m\u001b[1;33m)\u001b[0m\u001b[1;33m)\u001b[0m\u001b[1;33m\u001b[0m\u001b[1;33m\u001b[0m\u001b[0m\n\u001b[0m\u001b[0;32m   3834\u001b[0m \u001b[1;33m\u001b[0m\u001b[0m\n\u001b[0;32m   3835\u001b[0m         \u001b[1;32mif\u001b[0m \u001b[0msamples\u001b[0m \u001b[1;32mis\u001b[0m \u001b[1;32mnot\u001b[0m \u001b[1;32mNone\u001b[0m\u001b[1;33m:\u001b[0m\u001b[1;33m\u001b[0m\u001b[1;33m\u001b[0m\u001b[0m\n",
      "\u001b[1;32m~\\Anaconda3\\lib\\site-packages\\ares-0.1-py3.7.egg\\ares\\analysis\\ModelSet.py\u001b[0m in \u001b[0;36mchain\u001b[1;34m(self)\u001b[0m\n\u001b[0;32m    690\u001b[0m                     \u001b[0mself\u001b[0m\u001b[1;33m.\u001b[0m\u001b[0m_chain\u001b[0m \u001b[1;33m=\u001b[0m \u001b[1;32mNone\u001b[0m\u001b[1;33m\u001b[0m\u001b[1;33m\u001b[0m\u001b[0m\n\u001b[0;32m    691\u001b[0m \u001b[1;33m\u001b[0m\u001b[0m\n\u001b[1;32m--> 692\u001b[1;33m                 \u001b[0mchains\u001b[0m\u001b[1;33m.\u001b[0m\u001b[0mappend\u001b[0m\u001b[1;33m(\u001b[0m\u001b[0m_chain\u001b[0m\u001b[1;33m)\u001b[0m\u001b[1;33m\u001b[0m\u001b[1;33m\u001b[0m\u001b[0m\n\u001b[0m\u001b[0;32m    693\u001b[0m \u001b[1;33m\u001b[0m\u001b[0m\n\u001b[0;32m    694\u001b[0m             \u001b[0mself\u001b[0m\u001b[1;33m.\u001b[0m\u001b[0m_chain\u001b[0m \u001b[1;33m=\u001b[0m \u001b[0mnp\u001b[0m\u001b[1;33m.\u001b[0m\u001b[0mconcatenate\u001b[0m\u001b[1;33m(\u001b[0m\u001b[0mchains\u001b[0m\u001b[1;33m,\u001b[0m \u001b[0maxis\u001b[0m\u001b[1;33m=\u001b[0m\u001b[1;36m0\u001b[0m\u001b[1;33m)\u001b[0m\u001b[1;33m\u001b[0m\u001b[1;33m\u001b[0m\u001b[0m\n",
      "\u001b[1;31mUnboundLocalError\u001b[0m: local variable '_chain' referenced before assignment"
     ]
    },
    {
     "data": {
      "image/png": "[encoded data removed]",
      "text/plain": [
       "<Figure size 432x288 with 1 Axes>"
      ]
     },
     "metadata": {
      "needs_background": "light"
     },
     "output_type": "display_data"
    }
   ],
   "source": [
    "ax = anl.ReconstructedFunction('galaxy_lf', ivar=[6, None], samples='all', color='b', alpha=0.01)\n",
    "\n",
    "ax.set_yscale('log')"
   ]
  },
  {
   "cell_type": "code",
   "execution_count": null,
   "metadata": {},
   "outputs": [],
   "source": []
  }
 ],
 "metadata": {
  "kernelspec": {
   "display_name": "Python 3",
   "language": "python",
   "name": "python3"
  },
  "language_info": {
   "codemirror_mode": {
    "name": "ipython",
    "version": 3
   },
   "file_extension": ".py",
   "mimetype": "text/x-python",
   "name": "python",
   "nbconvert_exporter": "python",
   "pygments_lexer": "ipython3",
   "version": "3.7.4"
  }
 },
 "nbformat": 4,
 "nbformat_minor": 4
}
